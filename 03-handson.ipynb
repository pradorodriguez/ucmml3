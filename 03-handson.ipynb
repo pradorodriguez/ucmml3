{
 "cells": [
  {
   "cell_type": "markdown",
   "id": "dbe76be9",
   "metadata": {},
   "source": [
    "# Hands-on Classification Problem"
   ]
  },
  {
   "cell_type": "code",
   "execution_count": 2,
   "id": "4b0c77a6",
   "metadata": {},
   "outputs": [],
   "source": [
    "# Libraries\n",
    "import warnings\n",
    "\n",
    "import pandas as pd\n",
    "import numpy as np\n",
    "import matplotlib.pyplot as plt\n",
    "import seaborn as sns"
   ]
  },
  {
   "cell_type": "code",
   "execution_count": 3,
   "id": "689bc87f",
   "metadata": {},
   "outputs": [],
   "source": [
    "# Remove warning logging\n",
    "warnings.filterwarnings(\"ignore\")\n",
    "\n",
    "# Set the seaborn style\n",
    "sns.set(style=\"darkgrid\")"
   ]
  },
  {
   "cell_type": "code",
   "execution_count": 4,
   "id": "8582bb89",
   "metadata": {},
   "outputs": [
    {
     "data": {
      "application/vnd.microsoft.datawrangler.viewer.v0+json": {
       "columns": [
        {
         "name": "index",
         "rawType": "int64",
         "type": "integer"
        },
        {
         "name": "PassengerId",
         "rawType": "int64",
         "type": "integer"
        },
        {
         "name": "Survived",
         "rawType": "int64",
         "type": "integer"
        },
        {
         "name": "Pclass",
         "rawType": "int64",
         "type": "integer"
        },
        {
         "name": "Name",
         "rawType": "object",
         "type": "string"
        },
        {
         "name": "Sex",
         "rawType": "object",
         "type": "string"
        },
        {
         "name": "Age",
         "rawType": "float64",
         "type": "float"
        },
        {
         "name": "SibSp",
         "rawType": "int64",
         "type": "integer"
        },
        {
         "name": "Parch",
         "rawType": "int64",
         "type": "integer"
        },
        {
         "name": "Ticket",
         "rawType": "object",
         "type": "string"
        },
        {
         "name": "Fare",
         "rawType": "float64",
         "type": "float"
        },
        {
         "name": "Cabin",
         "rawType": "object",
         "type": "unknown"
        },
        {
         "name": "Embarked",
         "rawType": "object",
         "type": "string"
        },
        {
         "name": "Title",
         "rawType": "object",
         "type": "string"
        }
       ],
       "ref": "1723484d-472d-4a4a-a850-b3b25d4ef561",
       "rows": [
        [
         "0",
         "1",
         "0",
         "3",
         "Braund, Mr. Owen Harris",
         "male",
         "22.0",
         "1",
         "0",
         "A/5 21171",
         "7.25",
         null,
         "S",
         "Mr"
        ],
        [
         "1",
         "2",
         "1",
         "1",
         "Cumings, Mrs. John Bradley (Florence Briggs Thayer)",
         "female",
         "38.0",
         "1",
         "0",
         "PC 17599",
         "71.2833",
         "C85",
         "C",
         "Mrs"
        ],
        [
         "2",
         "3",
         "1",
         "3",
         "Heikkinen, Miss. Laina",
         "female",
         "26.0",
         "0",
         "0",
         "STON/O2. 3101282",
         "7.925",
         null,
         "S",
         "Miss"
        ],
        [
         "3",
         "4",
         "1",
         "1",
         "Futrelle, Mrs. Jacques Heath (Lily May Peel)",
         "female",
         "35.0",
         "1",
         "0",
         "113803",
         "53.1",
         "C123",
         "S",
         "Mrs"
        ],
        [
         "4",
         "5",
         "0",
         "3",
         "Allen, Mr. William Henry",
         "male",
         "35.0",
         "0",
         "0",
         "373450",
         "8.05",
         null,
         "S",
         "Mr"
        ]
       ],
       "shape": {
        "columns": 13,
        "rows": 5
       }
      },
      "text/html": [
       "<div>\n",
       "<style scoped>\n",
       "    .dataframe tbody tr th:only-of-type {\n",
       "        vertical-align: middle;\n",
       "    }\n",
       "\n",
       "    .dataframe tbody tr th {\n",
       "        vertical-align: top;\n",
       "    }\n",
       "\n",
       "    .dataframe thead th {\n",
       "        text-align: right;\n",
       "    }\n",
       "</style>\n",
       "<table border=\"1\" class=\"dataframe\">\n",
       "  <thead>\n",
       "    <tr style=\"text-align: right;\">\n",
       "      <th></th>\n",
       "      <th>PassengerId</th>\n",
       "      <th>Survived</th>\n",
       "      <th>Pclass</th>\n",
       "      <th>Name</th>\n",
       "      <th>Sex</th>\n",
       "      <th>Age</th>\n",
       "      <th>SibSp</th>\n",
       "      <th>Parch</th>\n",
       "      <th>Ticket</th>\n",
       "      <th>Fare</th>\n",
       "      <th>Cabin</th>\n",
       "      <th>Embarked</th>\n",
       "      <th>Title</th>\n",
       "    </tr>\n",
       "  </thead>\n",
       "  <tbody>\n",
       "    <tr>\n",
       "      <th>0</th>\n",
       "      <td>1</td>\n",
       "      <td>0</td>\n",
       "      <td>3</td>\n",
       "      <td>Braund, Mr. Owen Harris</td>\n",
       "      <td>male</td>\n",
       "      <td>22.0</td>\n",
       "      <td>1</td>\n",
       "      <td>0</td>\n",
       "      <td>A/5 21171</td>\n",
       "      <td>7.2500</td>\n",
       "      <td>NaN</td>\n",
       "      <td>S</td>\n",
       "      <td>Mr</td>\n",
       "    </tr>\n",
       "    <tr>\n",
       "      <th>1</th>\n",
       "      <td>2</td>\n",
       "      <td>1</td>\n",
       "      <td>1</td>\n",
       "      <td>Cumings, Mrs. John Bradley (Florence Briggs Th...</td>\n",
       "      <td>female</td>\n",
       "      <td>38.0</td>\n",
       "      <td>1</td>\n",
       "      <td>0</td>\n",
       "      <td>PC 17599</td>\n",
       "      <td>71.2833</td>\n",
       "      <td>C85</td>\n",
       "      <td>C</td>\n",
       "      <td>Mrs</td>\n",
       "    </tr>\n",
       "    <tr>\n",
       "      <th>2</th>\n",
       "      <td>3</td>\n",
       "      <td>1</td>\n",
       "      <td>3</td>\n",
       "      <td>Heikkinen, Miss. Laina</td>\n",
       "      <td>female</td>\n",
       "      <td>26.0</td>\n",
       "      <td>0</td>\n",
       "      <td>0</td>\n",
       "      <td>STON/O2. 3101282</td>\n",
       "      <td>7.9250</td>\n",
       "      <td>NaN</td>\n",
       "      <td>S</td>\n",
       "      <td>Miss</td>\n",
       "    </tr>\n",
       "    <tr>\n",
       "      <th>3</th>\n",
       "      <td>4</td>\n",
       "      <td>1</td>\n",
       "      <td>1</td>\n",
       "      <td>Futrelle, Mrs. Jacques Heath (Lily May Peel)</td>\n",
       "      <td>female</td>\n",
       "      <td>35.0</td>\n",
       "      <td>1</td>\n",
       "      <td>0</td>\n",
       "      <td>113803</td>\n",
       "      <td>53.1000</td>\n",
       "      <td>C123</td>\n",
       "      <td>S</td>\n",
       "      <td>Mrs</td>\n",
       "    </tr>\n",
       "    <tr>\n",
       "      <th>4</th>\n",
       "      <td>5</td>\n",
       "      <td>0</td>\n",
       "      <td>3</td>\n",
       "      <td>Allen, Mr. William Henry</td>\n",
       "      <td>male</td>\n",
       "      <td>35.0</td>\n",
       "      <td>0</td>\n",
       "      <td>0</td>\n",
       "      <td>373450</td>\n",
       "      <td>8.0500</td>\n",
       "      <td>NaN</td>\n",
       "      <td>S</td>\n",
       "      <td>Mr</td>\n",
       "    </tr>\n",
       "  </tbody>\n",
       "</table>\n",
       "</div>"
      ],
      "text/plain": [
       "   PassengerId  Survived  Pclass  \\\n",
       "0            1         0       3   \n",
       "1            2         1       1   \n",
       "2            3         1       3   \n",
       "3            4         1       1   \n",
       "4            5         0       3   \n",
       "\n",
       "                                                Name     Sex   Age  SibSp  \\\n",
       "0                            Braund, Mr. Owen Harris    male  22.0      1   \n",
       "1  Cumings, Mrs. John Bradley (Florence Briggs Th...  female  38.0      1   \n",
       "2                             Heikkinen, Miss. Laina  female  26.0      0   \n",
       "3       Futrelle, Mrs. Jacques Heath (Lily May Peel)  female  35.0      1   \n",
       "4                           Allen, Mr. William Henry    male  35.0      0   \n",
       "\n",
       "   Parch            Ticket     Fare Cabin Embarked Title  \n",
       "0      0         A/5 21171   7.2500   NaN        S    Mr  \n",
       "1      0          PC 17599  71.2833   C85        C   Mrs  \n",
       "2      0  STON/O2. 3101282   7.9250   NaN        S  Miss  \n",
       "3      0            113803  53.1000  C123        S   Mrs  \n",
       "4      0            373450   8.0500   NaN        S    Mr  "
      ]
     },
     "execution_count": 4,
     "metadata": {},
     "output_type": "execute_result"
    }
   ],
   "source": [
    "# Load Dataset\n",
    "df = pd.read_csv(\"titanic-2.csv\")\n",
    "df.head()"
   ]
  },
  {
   "cell_type": "code",
   "execution_count": 5,
   "id": "549bdf6b",
   "metadata": {},
   "outputs": [
    {
     "name": "stdout",
     "output_type": "stream",
     "text": [
      "Summary of Missing Values: Survived      0\n",
      "Pclass        0\n",
      "Sex           0\n",
      "Age         109\n",
      "SibSp         0\n",
      "Parch         0\n",
      "Fare          0\n",
      "Cabin       586\n",
      "Embarked      2\n",
      "Title         0\n",
      "dtype: int64\n"
     ]
    }
   ],
   "source": [
    "# Data Preprocessing\n",
    "\n",
    "# Drop unnecessary columns\n",
    "# PassengerId, Name and Ticket are not useful for prediction since they are unique identifiers and do not provide any information about the passengers.\n",
    "df.drop(columns=[\"PassengerId\", \"Name\", \"Ticket\"], inplace=True)\n",
    "\n",
    "# Drop duplicates\n",
    "# df.duplicated().sum() # Check for duplicates\n",
    "df.drop_duplicates(inplace=True)\n",
    "\n",
    "# Drop rows with missing values\n",
    "print(f\"Summary of Missing Values: {df.isnull().sum()}\") # Check for missing values"
   ]
  },
  {
   "cell_type": "markdown",
   "id": "1532f908",
   "metadata": {},
   "source": [
    "### Findings about the Missing Values\n",
    "\n",
    "* Everytime we find these numbers we must consult with the business to validate how important these values are.\n",
    "* Age is 1/8 of the total percentage. Still the data is important so it must be transformed.\n",
    "* Cabin was investigated with the business. Explanation of the Nulls:\n",
    "  * On the Titanic, third-class passengers who didn't have assigned cabin numbers typically slept in shared dormitory-style rooms. These accommodations were located in the lower decks of the ship and were separated by gender."
   ]
  },
  {
   "cell_type": "markdown",
   "id": "aec5ec19",
   "metadata": {},
   "source": [
    "### Transform values"
   ]
  },
  {
   "cell_type": "code",
   "execution_count": 6,
   "id": "2e5fcd48",
   "metadata": {},
   "outputs": [
    {
     "data": {
      "text/plain": [
       "790"
      ]
     },
     "execution_count": 6,
     "metadata": {},
     "output_type": "execute_result"
    }
   ],
   "source": [
    "# Create a copy of the DataFrame\n",
    "df2 = df.copy()\n",
    "len(df2)"
   ]
  },
  {
   "cell_type": "markdown",
   "id": "aad06fba",
   "metadata": {},
   "source": [
    "#### Embarked Column"
   ]
  },
  {
   "cell_type": "code",
   "execution_count": 7,
   "id": "13849cb6",
   "metadata": {},
   "outputs": [
    {
     "name": "stdout",
     "output_type": "stream",
     "text": [
      "Missing values summary:\n",
      "Survived      0\n",
      "Pclass        0\n",
      "Sex           0\n",
      "Age         109\n",
      "SibSp         0\n",
      "Parch         0\n",
      "Fare          0\n",
      "Cabin       586\n",
      "Embarked      0\n",
      "Title         0\n",
      "dtype: int64 \n",
      "Number of rows after dropping missing values: 788 \n"
     ]
    }
   ],
   "source": [
    "# Drop the Embarked values with missing values\n",
    "# df2 = df2[~df2[\"Embarked\"].isnull()] # Alternative way to drop missing values\n",
    "df2.dropna(subset=[\"Embarked\"], inplace=True)\n",
    "\n",
    "print(f\"Missing values summary:\\n{ df2.isnull().sum() } \") # Check for missing values\n",
    "print(f\"Number of rows after dropping missing values: { len(df2)} \")"
   ]
  },
  {
   "cell_type": "markdown",
   "id": "872934f1",
   "metadata": {},
   "source": [
    "#### Cabin Column"
   ]
  },
  {
   "cell_type": "code",
   "execution_count": 8,
   "id": "a55cb7b9",
   "metadata": {},
   "outputs": [
    {
     "name": "stdout",
     "output_type": "stream",
     "text": [
      "Missing values summary:\n",
      "Survived      0\n",
      "Pclass        0\n",
      "Sex           0\n",
      "Age         109\n",
      "SibSp         0\n",
      "Parch         0\n",
      "Fare          0\n",
      "Embarked      0\n",
      "Title         0\n",
      "hasCabin      0\n",
      "dtype: int64 \n"
     ]
    }
   ],
   "source": [
    "# Convert Cabin NaN to a new boolean Column and drop the Cabin column\n",
    "df2[\"Cabin\"] = df2[\"Cabin\"].fillna(0)\n",
    "df2[\"hasCabin\"] = df2.Cabin.apply(lambda x: 0 if x == 0 else 1)\n",
    "df2.drop(columns=[\"Cabin\"], inplace=True)\n",
    "\n",
    "print(f\"Missing values summary:\\n{ df2.isnull().sum() } \") # Check for missing values"
   ]
  },
  {
   "cell_type": "markdown",
   "id": "7124401f",
   "metadata": {},
   "source": [
    "#### Age Column\n",
    "\n",
    "The NaN values will be imputed with the average (of the selected technique) of the Age column data.\n",
    "\n",
    "* [Scikit Learn - Imputation of missing values](https://scikit-learn.org/stable/modules/impute.html)\n",
    "* [Scikit Learn - Imputation techniques](https://scikit-learn.org/stable/api/sklearn.impute.html)\n",
    "* [Scikit Learn - SimpleImputer](https://scikit-learn.org/stable/modules/generated/sklearn.impute.SimpleImputer.html#sklearn.impute.SimpleImputer)\n"
   ]
  },
  {
   "cell_type": "code",
   "execution_count": 9,
   "id": "be231803",
   "metadata": {},
   "outputs": [],
   "source": [
    "from sklearn.impute import SimpleImputer, KNNImputer"
   ]
  },
  {
   "cell_type": "code",
   "execution_count": 10,
   "id": "b07b8a12",
   "metadata": {},
   "outputs": [],
   "source": [
    "df3 = df2.copy()"
   ]
  },
  {
   "cell_type": "code",
   "execution_count": 11,
   "id": "2a101c38",
   "metadata": {},
   "outputs": [
    {
     "name": "stdout",
     "output_type": "stream",
     "text": [
      "Missing values summary:\n",
      "Survived    0\n",
      "Pclass      0\n",
      "Sex         0\n",
      "Age         0\n",
      "SibSp       0\n",
      "Parch       0\n",
      "Fare        0\n",
      "Embarked    0\n",
      "Title       0\n",
      "hasCabin    0\n",
      "dtype: int64 \n"
     ]
    }
   ],
   "source": [
    "# Age Column Imputation 1\n",
    "# 1. Extracted the \"Age\" column from the dataframe into a separate dataframe `X`.\n",
    "# 2. Initialized a `SimpleImputer` object (`imputer1`) with the strategy set to `\"mean\"`, which replaces missing values with the mean of the available values.\n",
    "# 3. Fitted the imputer to the data in `X` to calculate the mean age.\n",
    "# 4. Transformed the data, replacing missing values with the calculated mean, and stored the result in `X_new`.\n",
    "# 5. Updated the original dataframe (`df2`) with the imputed age values.\n",
    "# 6. Verified the imputation by checking the summary of missing values, confirming no missing values remain in the \"Age\" column.\n",
    "\n",
    "## This code is commented out to avoid running it again. Another imputation method is used below.\n",
    "X = df2[['Age']]\n",
    "imputer1 = SimpleImputer(strategy=\"mean\")\n",
    "imputer1.fit(X)\n",
    "X_new = imputer1.transform(X)\n",
    "df2[['Age']] = X_new\n",
    "print(f\"Missing values summary:\\n{ df2.isnull().sum() } \") # Check for missing values"
   ]
  },
  {
   "cell_type": "code",
   "execution_count": 12,
   "id": "2bd4754d",
   "metadata": {},
   "outputs": [
    {
     "name": "stdout",
     "output_type": "stream",
     "text": [
      "Missing values summary:\n",
      "Survived    0\n",
      "Pclass      0\n",
      "Sex         0\n",
      "Age         0\n",
      "SibSp       0\n",
      "Parch       0\n",
      "Fare        0\n",
      "Embarked    0\n",
      "Title       0\n",
      "hasCabin    0\n",
      "dtype: int64 \n",
      "DS Tail: \n",
      "     Survived  Pclass     Sex   Age  SibSp  Parch   Fare Embarked Title  \\\n",
      "886         0     2.0    male  27.0    0.0    0.0  13.00        S   Rev   \n",
      "887         1     1.0  female  19.0    0.0    0.0  30.00        S  Miss   \n",
      "888         0     3.0  female  26.8    1.0    2.0  23.45        S  Miss   \n",
      "889         1     1.0    male  26.0    0.0    0.0  30.00        C    Mr   \n",
      "890         0     3.0    male  32.0    0.0    0.0   7.75        Q    Mr   \n",
      "\n",
      "     hasCabin  \n",
      "886         0  \n",
      "887         1  \n",
      "888         0  \n",
      "889         1  \n",
      "890         0   \n"
     ]
    }
   ],
   "source": [
    "# Age Column Imputation 2\n",
    "# Impute missing values in key columns using KNNImputer with 5 neighbors and nan_euclidean metric\n",
    "# Fit the imputer to the selected columns and transform the data\n",
    "# Update the dataframe with the imputed values and verify the result\n",
    "\n",
    "key_columns = ['Pclass', 'Age', 'SibSp', 'Parch', 'Fare']\n",
    "X = df3[key_columns]\n",
    "imputer2 = KNNImputer(n_neighbors=5, metric=\"nan_euclidean\")\n",
    "imputer2.fit(X)\n",
    "X_new = imputer2.transform(X)\n",
    "df3[key_columns] = X_new\n",
    "print(f\"Missing values summary:\\n{ df3.isnull().sum() } \")\n",
    "print(f\"DS Tail: \\n{ df3.tail() } \")"
   ]
  },
  {
   "cell_type": "markdown",
   "id": "d2f9ebc2",
   "metadata": {},
   "source": [
    "#### Explanation of KNNImputer Technique in SciKit Learn\n",
    "\n",
    "The **KNNImputer** (K-Nearest Neighbors Imputer) is a method provided by SciKit Learn to handle missing values in datasets. It works by estimating missing values based on the values of the nearest neighbors. Specifically, it follows these steps:\n",
    "\n",
    "1. **Identify missing values**: For each data point with missing values, the algorithm finds the nearest neighbors based on the available (non-missing) features.\n",
    "2. **Calculate distances**: It computes distances between data points using a specified distance metric (default is Euclidean distance).\n",
    "3. **Impute missing values**: Missing values are filled by averaging (or taking the median, depending on the implementation) the corresponding values from the nearest neighbors.\n",
    "\n",
    "This approach leverages the similarity between data points to estimate missing values, making it particularly useful when data points with similar characteristics are expected to have similar values.\n",
    "\n",
    "### Explanation of the provided function:\n",
    "\n",
    "```\n",
    "KNNImputer(n_neighbors=5, metric=\"nan_euclidean\")\n",
    "```\n",
    "\n",
    "- **`n_neighbors=5`**: Specifies that the algorithm will use the 5 nearest neighbors to estimate each missing value. The imputed value is the average of these neighbors' corresponding feature values.\n",
    "- **`metric=\"nan_euclidean\"`**: Defines the distance metric used to measure similarity between data points. The `\"nan_euclidean\"` metric is a variant of the Euclidean distance that can handle missing values by ignoring them when calculating distances. This allows the algorithm to compute distances even when some features are missing in the data points.\n",
    "\n",
    "In summary, this function call creates a KNNImputer instance that fills missing values by averaging the values of the 5 closest neighbors, using a distance metric that gracefully handles missing data."
   ]
  },
  {
   "cell_type": "markdown",
   "id": "21d8d4cb",
   "metadata": {},
   "source": [
    "### Create a Plot comparing the results of both imputations"
   ]
  },
  {
   "cell_type": "code",
   "execution_count": 13,
   "id": "4c52b18a",
   "metadata": {},
   "outputs": [
    {
     "data": {
      "image/png": "[encoded data removed]",
      "text/plain": [
       "<Figure size 1000x300 with 2 Axes>"
      ]
     },
     "metadata": {},
     "output_type": "display_data"
    }
   ],
   "source": [
    "X1 = df2[['Age']]\n",
    "X2 = df3[['Age']]\n",
    "\n",
    "plt.figure(figsize=(10, 3))\n",
    "plt.subplot(1, 2, 1)\n",
    "plt.title(\"Age Imputation - 1\")\n",
    "sns.histplot(X1, kde=True, ax=plt.gca())\n",
    "plt.subplot(1, 2, 2)\n",
    "plt.title(\"Age Imputation - 2\")\n",
    "sns.histplot(X2, kde=True, ax=plt.gca())\n",
    "plt.tight_layout()\n",
    "plt.show()"
   ]
  },
  {
   "cell_type": "markdown",
   "id": "2f2c3867",
   "metadata": {},
   "source": [
    "### Plots"
   ]
  },
  {
   "cell_type": "code",
   "execution_count": 14,
   "id": "e9c780b3",
   "metadata": {},
   "outputs": [
    {
     "data": {
      "application/vnd.microsoft.datawrangler.viewer.v0+json": {
       "columns": [
        {
         "name": "index",
         "rawType": "object",
         "type": "string"
        },
        {
         "name": "0",
         "rawType": "object",
         "type": "unknown"
        }
       ],
       "ref": "84280ca3-4942-4557-be45-523bbba3a0a4",
       "rows": [
        [
         "Survived",
         "int64"
        ],
        [
         "Pclass",
         "float64"
        ],
        [
         "Sex",
         "object"
        ],
        [
         "Age",
         "float64"
        ],
        [
         "SibSp",
         "float64"
        ],
        [
         "Parch",
         "float64"
        ],
        [
         "Fare",
         "float64"
        ],
        [
         "Embarked",
         "object"
        ],
        [
         "Title",
         "object"
        ],
        [
         "hasCabin",
         "int64"
        ]
       ],
       "shape": {
        "columns": 1,
        "rows": 10
       }
      },
      "text/plain": [
       "Survived      int64\n",
       "Pclass      float64\n",
       "Sex          object\n",
       "Age         float64\n",
       "SibSp       float64\n",
       "Parch       float64\n",
       "Fare        float64\n",
       "Embarked     object\n",
       "Title        object\n",
       "hasCabin      int64\n",
       "dtype: object"
      ]
     },
     "execution_count": 14,
     "metadata": {},
     "output_type": "execute_result"
    }
   ],
   "source": [
    "df3.dtypes"
   ]
  },
  {
   "cell_type": "code",
   "execution_count": 15,
   "id": "14e9483b",
   "metadata": {},
   "outputs": [],
   "source": [
    "# Create a Dataset with Categorical Variables only\n",
    "cat_cols = ['Pclass', 'Sex', 'SibSp', 'Parch', 'hasCabin', 'Embarked', 'Title']\n",
    "num_cols = ['Age', 'Fare']"
   ]
  },
  {
   "cell_type": "code",
   "execution_count": 16,
   "id": "edfd1492",
   "metadata": {},
   "outputs": [
    {
     "data": {
      "image/png": "[encoded data removed]",
      "text/plain": [
       "<Figure size 1000x200 with 1 Axes>"
      ]
     },
     "metadata": {},
     "output_type": "display_data"
    },
    {
     "data": {
      "image/png": "[encoded data removed]",
      "text/plain": [
       "<Figure size 1000x200 with 1 Axes>"
      ]
     },
     "metadata": {},
     "output_type": "display_data"
    },
    {
     "data": {
      "image/png": "[encoded data removed]",
      "text/plain": [
       "<Figure size 1000x200 with 1 Axes>"
      ]
     },
     "metadata": {},
     "output_type": "display_data"
    },
    {
     "data": {
      "image/png": "[encoded data removed]",
      "text/plain": [
       "<Figure size 1000x200 with 1 Axes>"
      ]
     },
     "metadata": {},
     "output_type": "display_data"
    },
    {
     "data": {
      "image/png": "[encoded data removed]",
      "text/plain": [
       "<Figure size 1000x200 with 1 Axes>"
      ]
     },
     "metadata": {},
     "output_type": "display_data"
    },
    {
     "data": {
      "image/png": "[encoded data removed]",
      "text/plain": [
       "<Figure size 1000x200 with 1 Axes>"
      ]
     },
     "metadata": {},
     "output_type": "display_data"
    },
    {
     "data": {
      "image/png": "[encoded data removed]",
      "text/plain": [
       "<Figure size 1000x200 with 1 Axes>"
      ]
     },
     "metadata": {},
     "output_type": "display_data"
    }
   ],
   "source": [
    "# Graphical Analysis of Categorical Variables Distribution\n",
    "for col in cat_cols:\n",
    "    plt.figure(figsize=(10, 2))\n",
    "    sns.countplot(data=df3, x=col, ax=plt.gca())\n",
    "    plt.title(f\"Count of: {col}\")\n",
    "    #plt.xticks(rotation=45)\n",
    "    plt.show()"
   ]
  },
  {
   "cell_type": "code",
   "execution_count": 17,
   "id": "8f770ff5",
   "metadata": {},
   "outputs": [
    {
     "data": {
      "image/png": "[encoded data removed]",
      "text/plain": [
       "<Figure size 1000x200 with 1 Axes>"
      ]
     },
     "metadata": {},
     "output_type": "display_data"
    },
    {
     "data": {
      "image/png": "[encoded data removed]",
      "text/plain": [
       "<Figure size 1000x200 with 1 Axes>"
      ]
     },
     "metadata": {},
     "output_type": "display_data"
    }
   ],
   "source": [
    "# Graphical Analysis of Numerical Variables Distribution\n",
    "for col in num_cols:\n",
    "    plt.figure(figsize=(10, 2))\n",
    "    #sns.countplot(data=df3, x=col, ax=plt.gca())\n",
    "    sns.histplot(data=df3, x=col, kde=True, ax=plt.gca())\n",
    "    plt.title(f\"Distribution of: {col}\")\n",
    "    #plt.xticks(rotation=45)\n",
    "    plt.show()"
   ]
  },
  {
   "cell_type": "markdown",
   "id": "b56fe46e",
   "metadata": {},
   "source": [
    "### Categorical Transformations"
   ]
  },
  {
   "cell_type": "code",
   "execution_count": 18,
   "id": "76a10c09",
   "metadata": {},
   "outputs": [],
   "source": [
    "df4 = df3.copy()"
   ]
  },
  {
   "cell_type": "markdown",
   "id": "cc2f9271",
   "metadata": {},
   "source": [
    "#### Joining Categories"
   ]
  },
  {
   "cell_type": "code",
   "execution_count": 19,
   "id": "efa09d85",
   "metadata": {},
   "outputs": [],
   "source": [
    "# df4[\"SibSp\"] = df4[\"SibSp\"].apply(lambda x: 2 if x >= 2 else x)\n",
    "# df4[\"Parch\"] = df4[\"Parch\"].apply(lambda x: 2 if x >= 2 else x)\n",
    "# df4[\"Title\"] = df4[\"Title\"].apply(lambda x: x if x in [\"Mr\", \"Mrs\", \"Miss\"] else \"Otros\")\n",
    "\n",
    "df4[\"SibSp\"] = df4.SibSp.apply(lambda x: 2 if x >= 2 else x)\n",
    "df4[\"Parch\"] = df4.Parch.apply(lambda x: 2 if x >= 2 else x)\n",
    "df4[\"Title\"] = df4.Title.apply(lambda x: x if x in [\"Mr\", \"Mrs\", \"Miss\"] else \"Otros\")"
   ]
  },
  {
   "cell_type": "code",
   "execution_count": 20,
   "id": "0a792bb6",
   "metadata": {},
   "outputs": [
    {
     "data": {
      "image/png": "[encoded data removed]",
      "text/plain": [
       "<Figure size 1000x200 with 1 Axes>"
      ]
     },
     "metadata": {},
     "output_type": "display_data"
    },
    {
     "data": {
      "image/png": "[encoded data removed]",
      "text/plain": [
       "<Figure size 1000x200 with 1 Axes>"
      ]
     },
     "metadata": {},
     "output_type": "display_data"
    },
    {
     "data": {
      "image/png": "[encoded data removed]",
      "text/plain": [
       "<Figure size 1000x200 with 1 Axes>"
      ]
     },
     "metadata": {},
     "output_type": "display_data"
    },
    {
     "data": {
      "image/png": "[encoded data removed]",
      "text/plain": [
       "<Figure size 1000x200 with 1 Axes>"
      ]
     },
     "metadata": {},
     "output_type": "display_data"
    },
    {
     "data": {
      "image/png": "[encoded data removed]",
      "text/plain": [
       "<Figure size 1000x200 with 1 Axes>"
      ]
     },
     "metadata": {},
     "output_type": "display_data"
    },
    {
     "data": {
      "image/png": "[encoded data removed]",
      "text/plain": [
       "<Figure size 1000x200 with 1 Axes>"
      ]
     },
     "metadata": {},
     "output_type": "display_data"
    },
    {
     "data": {
      "image/png": "[encoded data removed]",
      "text/plain": [
       "<Figure size 1000x200 with 1 Axes>"
      ]
     },
     "metadata": {},
     "output_type": "display_data"
    }
   ],
   "source": [
    "# Graphical Analysis of Categorical Variables Distribution\n",
    "for col in cat_cols:\n",
    "    plt.figure(figsize=(10, 2))\n",
    "    sns.countplot(data=df4, x=col, hue=\"Survived\", ax=plt.gca())\n",
    "    plt.title(f\"Count of: {col}\")\n",
    "    #plt.xticks(rotation=45)\n",
    "    plt.show()"
   ]
  },
  {
   "cell_type": "markdown",
   "id": "05ff5ad3",
   "metadata": {},
   "source": [
    "#### One Hot Encoder\n",
    "\n",
    "* [Scikit-learn - OneHotEncoder](https://scikit-learn.org/stable/modules/generated/sklearn.preprocessing.OneHotEncoder.html)\n",
    "\n",
    "OneHotEncoder in Scikit-Learn is a preprocessing tool used to convert categorical data into a numerical format suitable for machine learning models. It applies one-hot encoding, which transforms categorical variables into binary vectors, ensuring that models can interpret them correctly."
   ]
  },
  {
   "cell_type": "code",
   "execution_count": 21,
   "id": "63ba0708",
   "metadata": {},
   "outputs": [],
   "source": [
    "from sklearn.preprocessing import OneHotEncoder"
   ]
  },
  {
   "cell_type": "code",
   "execution_count": 22,
   "id": "1661bfca",
   "metadata": {},
   "outputs": [],
   "source": [
    "df5 = df4.copy()"
   ]
  },
  {
   "cell_type": "code",
   "execution_count": 23,
   "id": "e9ea7e1b",
   "metadata": {},
   "outputs": [
    {
     "data": {
      "text/plain": [
       "array([[1.],\n",
       "       [0.],\n",
       "       [0.],\n",
       "       [0.],\n",
       "       [1.]])"
      ]
     },
     "execution_count": 23,
     "metadata": {},
     "output_type": "execute_result"
    }
   ],
   "source": [
    "# Transform variable sex using OneHotEncoder\n",
    "# Select the \"Sex\" column from df5 and store it in X\n",
    "# Initialize OneHotEncoder with drop=\"if_binary\" to avoid multicollinearity\n",
    "# Fit the encoder to the \"Sex\" column and transform the data\n",
    "# Convert the transformed data to an array and display the first 5 rows\n",
    "\n",
    "X = df5[[\"Sex\"]]\n",
    "ohe_sex = OneHotEncoder(drop=\"if_binary\")\n",
    "X_new = ohe_sex.fit_transform(X)\n",
    "X_new.toarray()[:5]"
   ]
  },
  {
   "cell_type": "code",
   "execution_count": 24,
   "id": "140627ae",
   "metadata": {},
   "outputs": [
    {
     "data": {
      "text/plain": [
       "array([[0., 1.],\n",
       "       [0., 0.],\n",
       "       [0., 1.],\n",
       "       [0., 1.],\n",
       "       [0., 1.]])"
      ]
     },
     "execution_count": 24,
     "metadata": {},
     "output_type": "execute_result"
    }
   ],
   "source": [
    "# Transform variable Embarked using OneHotEncoder\n",
    "#  The drop=\"first\" parameter specifies that, for each categorical feature, the encoder will drop the first category when creating the binary (one-hot) columns. This is often done to avoid the \"dummy variable trap,\" which can cause multicollinearity in linear models due to redundant information.\n",
    "X = df5[[\"Embarked\"]]\n",
    "ohe_embarked = OneHotEncoder(drop=\"first\")\n",
    "X_new = ohe_embarked.fit_transform(X)\n",
    "X_new.toarray()[:5]"
   ]
  },
  {
   "cell_type": "code",
   "execution_count": 25,
   "id": "9a5202f0",
   "metadata": {},
   "outputs": [
    {
     "data": {
      "application/vnd.microsoft.datawrangler.viewer.v0+json": {
       "columns": [
        {
         "name": "index",
         "rawType": "int64",
         "type": "integer"
        },
        {
         "name": "Survived",
         "rawType": "int64",
         "type": "integer"
        },
        {
         "name": "Pclass",
         "rawType": "float64",
         "type": "float"
        },
        {
         "name": "Sex",
         "rawType": "object",
         "type": "string"
        },
        {
         "name": "Age",
         "rawType": "float64",
         "type": "float"
        },
        {
         "name": "SibSp",
         "rawType": "float64",
         "type": "float"
        },
        {
         "name": "Parch",
         "rawType": "float64",
         "type": "float"
        },
        {
         "name": "Fare",
         "rawType": "float64",
         "type": "float"
        },
        {
         "name": "Embarked",
         "rawType": "object",
         "type": "string"
        },
        {
         "name": "Title",
         "rawType": "object",
         "type": "string"
        },
        {
         "name": "hasCabin",
         "rawType": "int64",
         "type": "integer"
        }
       ],
       "ref": "6b445c63-5018-4ddd-ac20-f64f1c5a9b50",
       "rows": [
        [
         "0",
         "0",
         "3.0",
         "male",
         "22.0",
         "1.0",
         "0.0",
         "7.25",
         "S",
         "Mr",
         "0"
        ],
        [
         "1",
         "1",
         "1.0",
         "female",
         "38.0",
         "1.0",
         "0.0",
         "71.2833",
         "C",
         "Mrs",
         "1"
        ],
        [
         "2",
         "1",
         "3.0",
         "female",
         "26.0",
         "0.0",
         "0.0",
         "7.925",
         "S",
         "Miss",
         "0"
        ],
        [
         "3",
         "1",
         "1.0",
         "female",
         "35.0",
         "1.0",
         "0.0",
         "53.1",
         "S",
         "Mrs",
         "1"
        ],
        [
         "4",
         "0",
         "3.0",
         "male",
         "35.0",
         "0.0",
         "0.0",
         "8.05",
         "S",
         "Mr",
         "0"
        ],
        [
         "5",
         "0",
         "3.0",
         "male",
         "26.8",
         "0.0",
         "0.0",
         "8.4583",
         "Q",
         "Mr",
         "0"
        ],
        [
         "6",
         "0",
         "1.0",
         "male",
         "54.0",
         "0.0",
         "0.0",
         "51.8625",
         "S",
         "Mr",
         "1"
        ],
        [
         "7",
         "0",
         "3.0",
         "male",
         "2.0",
         "2.0",
         "1.0",
         "21.075",
         "S",
         "Otros",
         "0"
        ],
        [
         "8",
         "1",
         "3.0",
         "female",
         "27.0",
         "0.0",
         "2.0",
         "11.1333",
         "S",
         "Mrs",
         "0"
        ],
        [
         "9",
         "1",
         "2.0",
         "female",
         "14.0",
         "1.0",
         "0.0",
         "30.0708",
         "C",
         "Mrs",
         "0"
        ],
        [
         "10",
         "1",
         "3.0",
         "female",
         "4.0",
         "1.0",
         "1.0",
         "16.7",
         "S",
         "Miss",
         "1"
        ],
        [
         "11",
         "1",
         "1.0",
         "female",
         "58.0",
         "0.0",
         "0.0",
         "26.55",
         "S",
         "Miss",
         "1"
        ],
        [
         "12",
         "0",
         "3.0",
         "male",
         "20.0",
         "0.0",
         "0.0",
         "8.05",
         "S",
         "Mr",
         "0"
        ],
        [
         "13",
         "0",
         "3.0",
         "male",
         "39.0",
         "1.0",
         "2.0",
         "31.275",
         "S",
         "Mr",
         "0"
        ],
        [
         "14",
         "0",
         "3.0",
         "female",
         "14.0",
         "0.0",
         "0.0",
         "7.8542",
         "S",
         "Miss",
         "0"
        ],
        [
         "15",
         "1",
         "2.0",
         "female",
         "55.0",
         "0.0",
         "0.0",
         "16.0",
         "S",
         "Mrs",
         "0"
        ],
        [
         "16",
         "0",
         "3.0",
         "male",
         "2.0",
         "2.0",
         "1.0",
         "29.125",
         "Q",
         "Otros",
         "0"
        ],
        [
         "17",
         "1",
         "2.0",
         "male",
         "36.5",
         "0.0",
         "0.0",
         "13.0",
         "S",
         "Mr",
         "0"
        ],
        [
         "18",
         "0",
         "3.0",
         "female",
         "31.0",
         "1.0",
         "0.0",
         "18.0",
         "S",
         "Mrs",
         "0"
        ],
        [
         "19",
         "1",
         "3.0",
         "female",
         "32.5",
         "0.0",
         "0.0",
         "7.225",
         "C",
         "Mrs",
         "0"
        ],
        [
         "20",
         "0",
         "2.0",
         "male",
         "35.0",
         "0.0",
         "0.0",
         "26.0",
         "S",
         "Mr",
         "0"
        ],
        [
         "21",
         "1",
         "2.0",
         "male",
         "34.0",
         "0.0",
         "0.0",
         "13.0",
         "S",
         "Mr",
         "1"
        ],
        [
         "22",
         "1",
         "3.0",
         "female",
         "15.0",
         "0.0",
         "0.0",
         "8.0292",
         "Q",
         "Miss",
         "0"
        ],
        [
         "23",
         "1",
         "1.0",
         "male",
         "28.0",
         "0.0",
         "0.0",
         "35.5",
         "S",
         "Mr",
         "1"
        ],
        [
         "24",
         "0",
         "3.0",
         "female",
         "8.0",
         "2.0",
         "1.0",
         "21.075",
         "S",
         "Miss",
         "0"
        ],
        [
         "25",
         "1",
         "3.0",
         "female",
         "38.0",
         "1.0",
         "2.0",
         "31.3875",
         "S",
         "Mrs",
         "0"
        ],
        [
         "26",
         "0",
         "3.0",
         "male",
         "32.5",
         "0.0",
         "0.0",
         "7.225",
         "C",
         "Mr",
         "0"
        ],
        [
         "27",
         "0",
         "1.0",
         "male",
         "19.0",
         "2.0",
         "2.0",
         "263.0",
         "S",
         "Mr",
         "1"
        ],
        [
         "28",
         "1",
         "3.0",
         "female",
         "27.8",
         "0.0",
         "0.0",
         "7.8792",
         "Q",
         "Miss",
         "0"
        ],
        [
         "29",
         "0",
         "3.0",
         "male",
         "31.6",
         "0.0",
         "0.0",
         "7.8958",
         "S",
         "Mr",
         "0"
        ],
        [
         "30",
         "0",
         "1.0",
         "male",
         "40.0",
         "0.0",
         "0.0",
         "27.7208",
         "C",
         "Otros",
         "0"
        ],
        [
         "31",
         "1",
         "1.0",
         "female",
         "21.584",
         "1.0",
         "0.0",
         "146.5208",
         "C",
         "Mrs",
         "1"
        ],
        [
         "32",
         "1",
         "3.0",
         "female",
         "31.3",
         "0.0",
         "0.0",
         "7.75",
         "Q",
         "Miss",
         "0"
        ],
        [
         "33",
         "0",
         "2.0",
         "male",
         "66.0",
         "0.0",
         "0.0",
         "10.5",
         "S",
         "Mr",
         "0"
        ],
        [
         "34",
         "0",
         "1.0",
         "male",
         "28.0",
         "1.0",
         "0.0",
         "82.1708",
         "C",
         "Mr",
         "0"
        ],
        [
         "35",
         "0",
         "1.0",
         "male",
         "42.0",
         "1.0",
         "0.0",
         "52.0",
         "S",
         "Mr",
         "0"
        ],
        [
         "36",
         "1",
         "3.0",
         "male",
         "23.0",
         "0.0",
         "0.0",
         "7.2292",
         "C",
         "Mr",
         "0"
        ],
        [
         "37",
         "0",
         "3.0",
         "male",
         "21.0",
         "0.0",
         "0.0",
         "8.05",
         "S",
         "Mr",
         "0"
        ],
        [
         "38",
         "0",
         "3.0",
         "female",
         "18.0",
         "2.0",
         "0.0",
         "18.0",
         "S",
         "Miss",
         "0"
        ],
        [
         "39",
         "1",
         "3.0",
         "female",
         "14.0",
         "1.0",
         "0.0",
         "11.2417",
         "C",
         "Miss",
         "0"
        ],
        [
         "40",
         "0",
         "3.0",
         "female",
         "40.0",
         "1.0",
         "0.0",
         "9.475",
         "S",
         "Mrs",
         "0"
        ],
        [
         "41",
         "0",
         "2.0",
         "female",
         "27.0",
         "1.0",
         "0.0",
         "21.0",
         "S",
         "Mrs",
         "0"
        ],
        [
         "42",
         "0",
         "3.0",
         "male",
         "31.6",
         "0.0",
         "0.0",
         "7.8958",
         "C",
         "Mr",
         "0"
        ],
        [
         "43",
         "1",
         "2.0",
         "female",
         "3.0",
         "1.0",
         "2.0",
         "41.5792",
         "C",
         "Miss",
         "0"
        ],
        [
         "44",
         "1",
         "3.0",
         "female",
         "19.0",
         "0.0",
         "0.0",
         "7.8792",
         "Q",
         "Miss",
         "0"
        ],
        [
         "45",
         "0",
         "3.0",
         "male",
         "39.2",
         "0.0",
         "0.0",
         "8.05",
         "S",
         "Mr",
         "0"
        ],
        [
         "46",
         "0",
         "3.0",
         "male",
         "29.2",
         "1.0",
         "0.0",
         "15.5",
         "Q",
         "Mr",
         "0"
        ],
        [
         "48",
         "0",
         "3.0",
         "male",
         "15.2",
         "2.0",
         "0.0",
         "21.6792",
         "C",
         "Mr",
         "0"
        ],
        [
         "49",
         "0",
         "3.0",
         "female",
         "18.0",
         "1.0",
         "0.0",
         "17.8",
         "S",
         "Mrs",
         "0"
        ],
        [
         "50",
         "0",
         "3.0",
         "male",
         "7.0",
         "2.0",
         "1.0",
         "39.6875",
         "S",
         "Otros",
         "0"
        ]
       ],
       "shape": {
        "columns": 10,
        "rows": 788
       }
      },
      "text/html": [
       "<div>\n",
       "<style scoped>\n",
       "    .dataframe tbody tr th:only-of-type {\n",
       "        vertical-align: middle;\n",
       "    }\n",
       "\n",
       "    .dataframe tbody tr th {\n",
       "        vertical-align: top;\n",
       "    }\n",
       "\n",
       "    .dataframe thead th {\n",
       "        text-align: right;\n",
       "    }\n",
       "</style>\n",
       "<table border=\"1\" class=\"dataframe\">\n",
       "  <thead>\n",
       "    <tr style=\"text-align: right;\">\n",
       "      <th></th>\n",
       "      <th>Survived</th>\n",
       "      <th>Pclass</th>\n",
       "      <th>Sex</th>\n",
       "      <th>Age</th>\n",
       "      <th>SibSp</th>\n",
       "      <th>Parch</th>\n",
       "      <th>Fare</th>\n",
       "      <th>Embarked</th>\n",
       "      <th>Title</th>\n",
       "      <th>hasCabin</th>\n",
       "    </tr>\n",
       "  </thead>\n",
       "  <tbody>\n",
       "    <tr>\n",
       "      <th>0</th>\n",
       "      <td>0</td>\n",
       "      <td>3.0</td>\n",
       "      <td>male</td>\n",
       "      <td>22.0</td>\n",
       "      <td>1.0</td>\n",
       "      <td>0.0</td>\n",
       "      <td>7.2500</td>\n",
       "      <td>S</td>\n",
       "      <td>Mr</td>\n",
       "      <td>0</td>\n",
       "    </tr>\n",
       "    <tr>\n",
       "      <th>1</th>\n",
       "      <td>1</td>\n",
       "      <td>1.0</td>\n",
       "      <td>female</td>\n",
       "      <td>38.0</td>\n",
       "      <td>1.0</td>\n",
       "      <td>0.0</td>\n",
       "      <td>71.2833</td>\n",
       "      <td>C</td>\n",
       "      <td>Mrs</td>\n",
       "      <td>1</td>\n",
       "    </tr>\n",
       "    <tr>\n",
       "      <th>2</th>\n",
       "      <td>1</td>\n",
       "      <td>3.0</td>\n",
       "      <td>female</td>\n",
       "      <td>26.0</td>\n",
       "      <td>0.0</td>\n",
       "      <td>0.0</td>\n",
       "      <td>7.9250</td>\n",
       "      <td>S</td>\n",
       "      <td>Miss</td>\n",
       "      <td>0</td>\n",
       "    </tr>\n",
       "    <tr>\n",
       "      <th>3</th>\n",
       "      <td>1</td>\n",
       "      <td>1.0</td>\n",
       "      <td>female</td>\n",
       "      <td>35.0</td>\n",
       "      <td>1.0</td>\n",
       "      <td>0.0</td>\n",
       "      <td>53.1000</td>\n",
       "      <td>S</td>\n",
       "      <td>Mrs</td>\n",
       "      <td>1</td>\n",
       "    </tr>\n",
       "    <tr>\n",
       "      <th>4</th>\n",
       "      <td>0</td>\n",
       "      <td>3.0</td>\n",
       "      <td>male</td>\n",
       "      <td>35.0</td>\n",
       "      <td>0.0</td>\n",
       "      <td>0.0</td>\n",
       "      <td>8.0500</td>\n",
       "      <td>S</td>\n",
       "      <td>Mr</td>\n",
       "      <td>0</td>\n",
       "    </tr>\n",
       "    <tr>\n",
       "      <th>...</th>\n",
       "      <td>...</td>\n",
       "      <td>...</td>\n",
       "      <td>...</td>\n",
       "      <td>...</td>\n",
       "      <td>...</td>\n",
       "      <td>...</td>\n",
       "      <td>...</td>\n",
       "      <td>...</td>\n",
       "      <td>...</td>\n",
       "      <td>...</td>\n",
       "    </tr>\n",
       "    <tr>\n",
       "      <th>886</th>\n",
       "      <td>0</td>\n",
       "      <td>2.0</td>\n",
       "      <td>male</td>\n",
       "      <td>27.0</td>\n",
       "      <td>0.0</td>\n",
       "      <td>0.0</td>\n",
       "      <td>13.0000</td>\n",
       "      <td>S</td>\n",
       "      <td>Otros</td>\n",
       "      <td>0</td>\n",
       "    </tr>\n",
       "    <tr>\n",
       "      <th>887</th>\n",
       "      <td>1</td>\n",
       "      <td>1.0</td>\n",
       "      <td>female</td>\n",
       "      <td>19.0</td>\n",
       "      <td>0.0</td>\n",
       "      <td>0.0</td>\n",
       "      <td>30.0000</td>\n",
       "      <td>S</td>\n",
       "      <td>Miss</td>\n",
       "      <td>1</td>\n",
       "    </tr>\n",
       "    <tr>\n",
       "      <th>888</th>\n",
       "      <td>0</td>\n",
       "      <td>3.0</td>\n",
       "      <td>female</td>\n",
       "      <td>26.8</td>\n",
       "      <td>1.0</td>\n",
       "      <td>2.0</td>\n",
       "      <td>23.4500</td>\n",
       "      <td>S</td>\n",
       "      <td>Miss</td>\n",
       "      <td>0</td>\n",
       "    </tr>\n",
       "    <tr>\n",
       "      <th>889</th>\n",
       "      <td>1</td>\n",
       "      <td>1.0</td>\n",
       "      <td>male</td>\n",
       "      <td>26.0</td>\n",
       "      <td>0.0</td>\n",
       "      <td>0.0</td>\n",
       "      <td>30.0000</td>\n",
       "      <td>C</td>\n",
       "      <td>Mr</td>\n",
       "      <td>1</td>\n",
       "    </tr>\n",
       "    <tr>\n",
       "      <th>890</th>\n",
       "      <td>0</td>\n",
       "      <td>3.0</td>\n",
       "      <td>male</td>\n",
       "      <td>32.0</td>\n",
       "      <td>0.0</td>\n",
       "      <td>0.0</td>\n",
       "      <td>7.7500</td>\n",
       "      <td>Q</td>\n",
       "      <td>Mr</td>\n",
       "      <td>0</td>\n",
       "    </tr>\n",
       "  </tbody>\n",
       "</table>\n",
       "<p>788 rows × 10 columns</p>\n",
       "</div>"
      ],
      "text/plain": [
       "     Survived  Pclass     Sex   Age  SibSp  Parch     Fare Embarked  Title  \\\n",
       "0           0     3.0    male  22.0    1.0    0.0   7.2500        S     Mr   \n",
       "1           1     1.0  female  38.0    1.0    0.0  71.2833        C    Mrs   \n",
       "2           1     3.0  female  26.0    0.0    0.0   7.9250        S   Miss   \n",
       "3           1     1.0  female  35.0    1.0    0.0  53.1000        S    Mrs   \n",
       "4           0     3.0    male  35.0    0.0    0.0   8.0500        S     Mr   \n",
       "..        ...     ...     ...   ...    ...    ...      ...      ...    ...   \n",
       "886         0     2.0    male  27.0    0.0    0.0  13.0000        S  Otros   \n",
       "887         1     1.0  female  19.0    0.0    0.0  30.0000        S   Miss   \n",
       "888         0     3.0  female  26.8    1.0    2.0  23.4500        S   Miss   \n",
       "889         1     1.0    male  26.0    0.0    0.0  30.0000        C     Mr   \n",
       "890         0     3.0    male  32.0    0.0    0.0   7.7500        Q     Mr   \n",
       "\n",
       "     hasCabin  \n",
       "0           0  \n",
       "1           1  \n",
       "2           0  \n",
       "3           1  \n",
       "4           0  \n",
       "..        ...  \n",
       "886         0  \n",
       "887         1  \n",
       "888         0  \n",
       "889         1  \n",
       "890         0  \n",
       "\n",
       "[788 rows x 10 columns]"
      ]
     },
     "execution_count": 25,
     "metadata": {},
     "output_type": "execute_result"
    }
   ],
   "source": [
    "df5"
   ]
  },
  {
   "cell_type": "code",
   "execution_count": 26,
   "id": "9312dbcf",
   "metadata": {},
   "outputs": [
    {
     "data": {
      "text/plain": [
       "array([[1., 0., 0.],\n",
       "       [0., 1., 0.],\n",
       "       [0., 0., 1.],\n",
       "       [0., 1., 0.],\n",
       "       [1., 0., 0.]])"
      ]
     },
     "execution_count": 26,
     "metadata": {},
     "output_type": "execute_result"
    }
   ],
   "source": [
    "# Transform variable Title using OneHotEncoder\n",
    "X = df5[[\"Title\"]]\n",
    "titles = [[\"Mr\", \"Mrs\", \"Miss\"]]\n",
    "ohe_title = OneHotEncoder(categories=titles, handle_unknown=\"ignore\")\n",
    "X_new = ohe_title.fit_transform(X)\n",
    "X_new.toarray()[:5]"
   ]
  },
  {
   "cell_type": "markdown",
   "id": "4377e590",
   "metadata": {},
   "source": [
    "#### Compare the transformation techniques using OHE and Pandas Get Dummies\n",
    "\n",
    "* [Pandas - get_dummies](https://pandas.pydata.org/pandas-docs/stable/reference/api/pandas.get_dummies.html)"
   ]
  },
  {
   "cell_type": "code",
   "execution_count": 27,
   "id": "acff20a2",
   "metadata": {},
   "outputs": [
    {
     "data": {
      "application/vnd.microsoft.datawrangler.viewer.v0+json": {
       "columns": [
        {
         "name": "index",
         "rawType": "int64",
         "type": "integer"
        },
        {
         "name": "Survived",
         "rawType": "int64",
         "type": "integer"
        },
        {
         "name": "Pclass",
         "rawType": "float64",
         "type": "float"
        },
        {
         "name": "Age",
         "rawType": "float64",
         "type": "float"
        },
        {
         "name": "SibSp",
         "rawType": "float64",
         "type": "float"
        },
        {
         "name": "Parch",
         "rawType": "float64",
         "type": "float"
        },
        {
         "name": "Fare",
         "rawType": "float64",
         "type": "float"
        },
        {
         "name": "hasCabin",
         "rawType": "int64",
         "type": "integer"
        },
        {
         "name": "Sex_male",
         "rawType": "int64",
         "type": "integer"
        },
        {
         "name": "Embarked_Q",
         "rawType": "int64",
         "type": "integer"
        },
        {
         "name": "Embarked_S",
         "rawType": "int64",
         "type": "integer"
        },
        {
         "name": "Title_Mr",
         "rawType": "int64",
         "type": "integer"
        },
        {
         "name": "Title_Mrs",
         "rawType": "int64",
         "type": "integer"
        },
        {
         "name": "Title_Otros",
         "rawType": "int64",
         "type": "integer"
        }
       ],
       "ref": "1dbd3ff0-e469-4fb4-ad89-10e16896f640",
       "rows": [
        [
         "0",
         "0",
         "3.0",
         "22.0",
         "1.0",
         "0.0",
         "7.25",
         "0",
         "1",
         "0",
         "1",
         "1",
         "0",
         "0"
        ],
        [
         "1",
         "1",
         "1.0",
         "38.0",
         "1.0",
         "0.0",
         "71.2833",
         "1",
         "0",
         "0",
         "0",
         "0",
         "1",
         "0"
        ],
        [
         "2",
         "1",
         "3.0",
         "26.0",
         "0.0",
         "0.0",
         "7.925",
         "0",
         "0",
         "0",
         "1",
         "0",
         "0",
         "0"
        ],
        [
         "3",
         "1",
         "1.0",
         "35.0",
         "1.0",
         "0.0",
         "53.1",
         "1",
         "0",
         "0",
         "1",
         "0",
         "1",
         "0"
        ],
        [
         "4",
         "0",
         "3.0",
         "35.0",
         "0.0",
         "0.0",
         "8.05",
         "0",
         "1",
         "0",
         "1",
         "1",
         "0",
         "0"
        ]
       ],
       "shape": {
        "columns": 13,
        "rows": 5
       }
      },
      "text/html": [
       "<div>\n",
       "<style scoped>\n",
       "    .dataframe tbody tr th:only-of-type {\n",
       "        vertical-align: middle;\n",
       "    }\n",
       "\n",
       "    .dataframe tbody tr th {\n",
       "        vertical-align: top;\n",
       "    }\n",
       "\n",
       "    .dataframe thead th {\n",
       "        text-align: right;\n",
       "    }\n",
       "</style>\n",
       "<table border=\"1\" class=\"dataframe\">\n",
       "  <thead>\n",
       "    <tr style=\"text-align: right;\">\n",
       "      <th></th>\n",
       "      <th>Survived</th>\n",
       "      <th>Pclass</th>\n",
       "      <th>Age</th>\n",
       "      <th>SibSp</th>\n",
       "      <th>Parch</th>\n",
       "      <th>Fare</th>\n",
       "      <th>hasCabin</th>\n",
       "      <th>Sex_male</th>\n",
       "      <th>Embarked_Q</th>\n",
       "      <th>Embarked_S</th>\n",
       "      <th>Title_Mr</th>\n",
       "      <th>Title_Mrs</th>\n",
       "      <th>Title_Otros</th>\n",
       "    </tr>\n",
       "  </thead>\n",
       "  <tbody>\n",
       "    <tr>\n",
       "      <th>0</th>\n",
       "      <td>0</td>\n",
       "      <td>3.0</td>\n",
       "      <td>22.0</td>\n",
       "      <td>1.0</td>\n",
       "      <td>0.0</td>\n",
       "      <td>7.2500</td>\n",
       "      <td>0</td>\n",
       "      <td>1</td>\n",
       "      <td>0</td>\n",
       "      <td>1</td>\n",
       "      <td>1</td>\n",
       "      <td>0</td>\n",
       "      <td>0</td>\n",
       "    </tr>\n",
       "    <tr>\n",
       "      <th>1</th>\n",
       "      <td>1</td>\n",
       "      <td>1.0</td>\n",
       "      <td>38.0</td>\n",
       "      <td>1.0</td>\n",
       "      <td>0.0</td>\n",
       "      <td>71.2833</td>\n",
       "      <td>1</td>\n",
       "      <td>0</td>\n",
       "      <td>0</td>\n",
       "      <td>0</td>\n",
       "      <td>0</td>\n",
       "      <td>1</td>\n",
       "      <td>0</td>\n",
       "    </tr>\n",
       "    <tr>\n",
       "      <th>2</th>\n",
       "      <td>1</td>\n",
       "      <td>3.0</td>\n",
       "      <td>26.0</td>\n",
       "      <td>0.0</td>\n",
       "      <td>0.0</td>\n",
       "      <td>7.9250</td>\n",
       "      <td>0</td>\n",
       "      <td>0</td>\n",
       "      <td>0</td>\n",
       "      <td>1</td>\n",
       "      <td>0</td>\n",
       "      <td>0</td>\n",
       "      <td>0</td>\n",
       "    </tr>\n",
       "    <tr>\n",
       "      <th>3</th>\n",
       "      <td>1</td>\n",
       "      <td>1.0</td>\n",
       "      <td>35.0</td>\n",
       "      <td>1.0</td>\n",
       "      <td>0.0</td>\n",
       "      <td>53.1000</td>\n",
       "      <td>1</td>\n",
       "      <td>0</td>\n",
       "      <td>0</td>\n",
       "      <td>1</td>\n",
       "      <td>0</td>\n",
       "      <td>1</td>\n",
       "      <td>0</td>\n",
       "    </tr>\n",
       "    <tr>\n",
       "      <th>4</th>\n",
       "      <td>0</td>\n",
       "      <td>3.0</td>\n",
       "      <td>35.0</td>\n",
       "      <td>0.0</td>\n",
       "      <td>0.0</td>\n",
       "      <td>8.0500</td>\n",
       "      <td>0</td>\n",
       "      <td>1</td>\n",
       "      <td>0</td>\n",
       "      <td>1</td>\n",
       "      <td>1</td>\n",
       "      <td>0</td>\n",
       "      <td>0</td>\n",
       "    </tr>\n",
       "  </tbody>\n",
       "</table>\n",
       "</div>"
      ],
      "text/plain": [
       "   Survived  Pclass   Age  SibSp  Parch     Fare  hasCabin  Sex_male  \\\n",
       "0         0     3.0  22.0    1.0    0.0   7.2500         0         1   \n",
       "1         1     1.0  38.0    1.0    0.0  71.2833         1         0   \n",
       "2         1     3.0  26.0    0.0    0.0   7.9250         0         0   \n",
       "3         1     1.0  35.0    1.0    0.0  53.1000         1         0   \n",
       "4         0     3.0  35.0    0.0    0.0   8.0500         0         1   \n",
       "\n",
       "   Embarked_Q  Embarked_S  Title_Mr  Title_Mrs  Title_Otros  \n",
       "0           0           1         1          0            0  \n",
       "1           0           0         0          1            0  \n",
       "2           0           1         0          0            0  \n",
       "3           0           1         0          1            0  \n",
       "4           0           1         1          0            0  "
      ]
     },
     "execution_count": 27,
     "metadata": {},
     "output_type": "execute_result"
    }
   ],
   "source": [
    "# The parameter drop_first=True tells pandas to drop the first category for each categorical variable, \\\n",
    "# which helps prevent multicollinearity (the \"dummy variable trap\") in linear models by removing \\\n",
    "# redundant information. The dtype=int argument ensures that the resulting columns are of integer \\\n",
    "# type (0 or 1), rather than the default boolean type.\n",
    "pd.get_dummies(df4, drop_first=True, dtype=int).head()"
   ]
  },
  {
   "cell_type": "markdown",
   "id": "827b4478",
   "metadata": {},
   "source": [
    "## Automated the Variable Transformation"
   ]
  },
  {
   "cell_type": "markdown",
   "id": "65f37ae4",
   "metadata": {},
   "source": [
    "### Column Transformer\n",
    "\n",
    "* [Scikit-learn - ColumnTransformer](https://scikit-learn.org/stable/modules/generated/sklearn.compose.ColumnTransformer.html)\n",
    "\n",
    "The ColumnTransformer is a powerful tool in the scikit-learn library that allows you to apply different transformations to different columns of a dataset. This is particularly useful when dealing with heterogeneous data, where different columns may require different preprocessing steps."
   ]
  },
  {
   "cell_type": "code",
   "execution_count": 28,
   "id": "a9bc43e9",
   "metadata": {},
   "outputs": [],
   "source": [
    "from sklearn.compose import ColumnTransformer"
   ]
  },
  {
   "cell_type": "code",
   "execution_count": 29,
   "id": "f2fecd02",
   "metadata": {},
   "outputs": [
    {
     "data": {
      "application/vnd.microsoft.datawrangler.viewer.v0+json": {
       "columns": [
        {
         "name": "index",
         "rawType": "int64",
         "type": "integer"
        },
        {
         "name": "Survived",
         "rawType": "int64",
         "type": "integer"
        },
        {
         "name": "Pclass",
         "rawType": "float64",
         "type": "float"
        },
        {
         "name": "Sex",
         "rawType": "object",
         "type": "string"
        },
        {
         "name": "Age",
         "rawType": "float64",
         "type": "float"
        },
        {
         "name": "SibSp",
         "rawType": "float64",
         "type": "float"
        },
        {
         "name": "Parch",
         "rawType": "float64",
         "type": "float"
        },
        {
         "name": "Fare",
         "rawType": "float64",
         "type": "float"
        },
        {
         "name": "Embarked",
         "rawType": "object",
         "type": "string"
        },
        {
         "name": "Title",
         "rawType": "object",
         "type": "string"
        },
        {
         "name": "hasCabin",
         "rawType": "int64",
         "type": "integer"
        }
       ],
       "ref": "b7823621-daf1-4254-92c0-9a0bf10a940e",
       "rows": [
        [
         "0",
         "0",
         "3.0",
         "male",
         "22.0",
         "1.0",
         "0.0",
         "7.25",
         "S",
         "Mr",
         "0"
        ],
        [
         "1",
         "1",
         "1.0",
         "female",
         "38.0",
         "1.0",
         "0.0",
         "71.2833",
         "C",
         "Mrs",
         "1"
        ],
        [
         "2",
         "1",
         "3.0",
         "female",
         "26.0",
         "0.0",
         "0.0",
         "7.925",
         "S",
         "Miss",
         "0"
        ],
        [
         "3",
         "1",
         "1.0",
         "female",
         "35.0",
         "1.0",
         "0.0",
         "53.1",
         "S",
         "Mrs",
         "1"
        ],
        [
         "4",
         "0",
         "3.0",
         "male",
         "35.0",
         "0.0",
         "0.0",
         "8.05",
         "S",
         "Mr",
         "0"
        ]
       ],
       "shape": {
        "columns": 10,
        "rows": 5
       }
      },
      "text/html": [
       "<div>\n",
       "<style scoped>\n",
       "    .dataframe tbody tr th:only-of-type {\n",
       "        vertical-align: middle;\n",
       "    }\n",
       "\n",
       "    .dataframe tbody tr th {\n",
       "        vertical-align: top;\n",
       "    }\n",
       "\n",
       "    .dataframe thead th {\n",
       "        text-align: right;\n",
       "    }\n",
       "</style>\n",
       "<table border=\"1\" class=\"dataframe\">\n",
       "  <thead>\n",
       "    <tr style=\"text-align: right;\">\n",
       "      <th></th>\n",
       "      <th>Survived</th>\n",
       "      <th>Pclass</th>\n",
       "      <th>Sex</th>\n",
       "      <th>Age</th>\n",
       "      <th>SibSp</th>\n",
       "      <th>Parch</th>\n",
       "      <th>Fare</th>\n",
       "      <th>Embarked</th>\n",
       "      <th>Title</th>\n",
       "      <th>hasCabin</th>\n",
       "    </tr>\n",
       "  </thead>\n",
       "  <tbody>\n",
       "    <tr>\n",
       "      <th>0</th>\n",
       "      <td>0</td>\n",
       "      <td>3.0</td>\n",
       "      <td>male</td>\n",
       "      <td>22.0</td>\n",
       "      <td>1.0</td>\n",
       "      <td>0.0</td>\n",
       "      <td>7.2500</td>\n",
       "      <td>S</td>\n",
       "      <td>Mr</td>\n",
       "      <td>0</td>\n",
       "    </tr>\n",
       "    <tr>\n",
       "      <th>1</th>\n",
       "      <td>1</td>\n",
       "      <td>1.0</td>\n",
       "      <td>female</td>\n",
       "      <td>38.0</td>\n",
       "      <td>1.0</td>\n",
       "      <td>0.0</td>\n",
       "      <td>71.2833</td>\n",
       "      <td>C</td>\n",
       "      <td>Mrs</td>\n",
       "      <td>1</td>\n",
       "    </tr>\n",
       "    <tr>\n",
       "      <th>2</th>\n",
       "      <td>1</td>\n",
       "      <td>3.0</td>\n",
       "      <td>female</td>\n",
       "      <td>26.0</td>\n",
       "      <td>0.0</td>\n",
       "      <td>0.0</td>\n",
       "      <td>7.9250</td>\n",
       "      <td>S</td>\n",
       "      <td>Miss</td>\n",
       "      <td>0</td>\n",
       "    </tr>\n",
       "    <tr>\n",
       "      <th>3</th>\n",
       "      <td>1</td>\n",
       "      <td>1.0</td>\n",
       "      <td>female</td>\n",
       "      <td>35.0</td>\n",
       "      <td>1.0</td>\n",
       "      <td>0.0</td>\n",
       "      <td>53.1000</td>\n",
       "      <td>S</td>\n",
       "      <td>Mrs</td>\n",
       "      <td>1</td>\n",
       "    </tr>\n",
       "    <tr>\n",
       "      <th>4</th>\n",
       "      <td>0</td>\n",
       "      <td>3.0</td>\n",
       "      <td>male</td>\n",
       "      <td>35.0</td>\n",
       "      <td>0.0</td>\n",
       "      <td>0.0</td>\n",
       "      <td>8.0500</td>\n",
       "      <td>S</td>\n",
       "      <td>Mr</td>\n",
       "      <td>0</td>\n",
       "    </tr>\n",
       "  </tbody>\n",
       "</table>\n",
       "</div>"
      ],
      "text/plain": [
       "   Survived  Pclass     Sex   Age  SibSp  Parch     Fare Embarked Title  \\\n",
       "0         0     3.0    male  22.0    1.0    0.0   7.2500        S    Mr   \n",
       "1         1     1.0  female  38.0    1.0    0.0  71.2833        C   Mrs   \n",
       "2         1     3.0  female  26.0    0.0    0.0   7.9250        S  Miss   \n",
       "3         1     1.0  female  35.0    1.0    0.0  53.1000        S   Mrs   \n",
       "4         0     3.0    male  35.0    0.0    0.0   8.0500        S    Mr   \n",
       "\n",
       "   hasCabin  \n",
       "0         0  \n",
       "1         1  \n",
       "2         0  \n",
       "3         1  \n",
       "4         0  "
      ]
     },
     "execution_count": 29,
     "metadata": {},
     "output_type": "execute_result"
    }
   ],
   "source": [
    "df6 = df4.copy()\n",
    "df6.head()"
   ]
  },
  {
   "cell_type": "code",
   "execution_count": 30,
   "id": "6c9bc695",
   "metadata": {},
   "outputs": [
    {
     "data": {
      "application/vnd.microsoft.datawrangler.viewer.v0+json": {
       "columns": [
        {
         "name": "index",
         "rawType": "int64",
         "type": "integer"
        },
        {
         "name": "imputer__Age",
         "rawType": "float64",
         "type": "float"
        },
        {
         "name": "imputer__SibSp",
         "rawType": "float64",
         "type": "float"
        },
        {
         "name": "imputer__Parch",
         "rawType": "float64",
         "type": "float"
        },
        {
         "name": "imputer__Fare",
         "rawType": "float64",
         "type": "float"
        },
        {
         "name": "enc1__Sex_male",
         "rawType": "float64",
         "type": "float"
        },
        {
         "name": "enc2__Embarked_Q",
         "rawType": "float64",
         "type": "float"
        },
        {
         "name": "enc2__Embarked_S",
         "rawType": "float64",
         "type": "float"
        },
        {
         "name": "enc2__Pclass_2.0",
         "rawType": "float64",
         "type": "float"
        },
        {
         "name": "enc2__Pclass_3.0",
         "rawType": "float64",
         "type": "float"
        },
        {
         "name": "enc3__Title_Mr",
         "rawType": "float64",
         "type": "float"
        },
        {
         "name": "enc3__Title_Mrs",
         "rawType": "float64",
         "type": "float"
        },
        {
         "name": "enc3__Title_Miss",
         "rawType": "float64",
         "type": "float"
        },
        {
         "name": "remainder__Survived",
         "rawType": "float64",
         "type": "float"
        },
        {
         "name": "remainder__hasCabin",
         "rawType": "float64",
         "type": "float"
        }
       ],
       "ref": "f87a1527-5abf-479a-a6a4-a200d5a06174",
       "rows": [
        [
         "0",
         "22.0",
         "1.0",
         "0.0",
         "7.25",
         "1.0",
         "0.0",
         "1.0",
         "0.0",
         "1.0",
         "1.0",
         "0.0",
         "0.0",
         "0.0",
         "0.0"
        ],
        [
         "1",
         "38.0",
         "1.0",
         "0.0",
         "71.2833",
         "0.0",
         "0.0",
         "0.0",
         "0.0",
         "0.0",
         "0.0",
         "1.0",
         "0.0",
         "1.0",
         "1.0"
        ],
        [
         "2",
         "26.0",
         "0.0",
         "0.0",
         "7.925",
         "0.0",
         "0.0",
         "1.0",
         "0.0",
         "1.0",
         "0.0",
         "0.0",
         "1.0",
         "1.0",
         "0.0"
        ],
        [
         "3",
         "35.0",
         "1.0",
         "0.0",
         "53.1",
         "0.0",
         "0.0",
         "1.0",
         "0.0",
         "0.0",
         "0.0",
         "1.0",
         "0.0",
         "1.0",
         "1.0"
        ],
        [
         "4",
         "35.0",
         "0.0",
         "0.0",
         "8.05",
         "1.0",
         "0.0",
         "1.0",
         "0.0",
         "1.0",
         "1.0",
         "0.0",
         "0.0",
         "0.0",
         "0.0"
        ]
       ],
       "shape": {
        "columns": 14,
        "rows": 5
       }
      },
      "text/html": [
       "<div>\n",
       "<style scoped>\n",
       "    .dataframe tbody tr th:only-of-type {\n",
       "        vertical-align: middle;\n",
       "    }\n",
       "\n",
       "    .dataframe tbody tr th {\n",
       "        vertical-align: top;\n",
       "    }\n",
       "\n",
       "    .dataframe thead th {\n",
       "        text-align: right;\n",
       "    }\n",
       "</style>\n",
       "<table border=\"1\" class=\"dataframe\">\n",
       "  <thead>\n",
       "    <tr style=\"text-align: right;\">\n",
       "      <th></th>\n",
       "      <th>imputer__Age</th>\n",
       "      <th>imputer__SibSp</th>\n",
       "      <th>imputer__Parch</th>\n",
       "      <th>imputer__Fare</th>\n",
       "      <th>enc1__Sex_male</th>\n",
       "      <th>enc2__Embarked_Q</th>\n",
       "      <th>enc2__Embarked_S</th>\n",
       "      <th>enc2__Pclass_2.0</th>\n",
       "      <th>enc2__Pclass_3.0</th>\n",
       "      <th>enc3__Title_Mr</th>\n",
       "      <th>enc3__Title_Mrs</th>\n",
       "      <th>enc3__Title_Miss</th>\n",
       "      <th>remainder__Survived</th>\n",
       "      <th>remainder__hasCabin</th>\n",
       "    </tr>\n",
       "  </thead>\n",
       "  <tbody>\n",
       "    <tr>\n",
       "      <th>0</th>\n",
       "      <td>22.0</td>\n",
       "      <td>1.0</td>\n",
       "      <td>0.0</td>\n",
       "      <td>7.2500</td>\n",
       "      <td>1.0</td>\n",
       "      <td>0.0</td>\n",
       "      <td>1.0</td>\n",
       "      <td>0.0</td>\n",
       "      <td>1.0</td>\n",
       "      <td>1.0</td>\n",
       "      <td>0.0</td>\n",
       "      <td>0.0</td>\n",
       "      <td>0.0</td>\n",
       "      <td>0.0</td>\n",
       "    </tr>\n",
       "    <tr>\n",
       "      <th>1</th>\n",
       "      <td>38.0</td>\n",
       "      <td>1.0</td>\n",
       "      <td>0.0</td>\n",
       "      <td>71.2833</td>\n",
       "      <td>0.0</td>\n",
       "      <td>0.0</td>\n",
       "      <td>0.0</td>\n",
       "      <td>0.0</td>\n",
       "      <td>0.0</td>\n",
       "      <td>0.0</td>\n",
       "      <td>1.0</td>\n",
       "      <td>0.0</td>\n",
       "      <td>1.0</td>\n",
       "      <td>1.0</td>\n",
       "    </tr>\n",
       "    <tr>\n",
       "      <th>2</th>\n",
       "      <td>26.0</td>\n",
       "      <td>0.0</td>\n",
       "      <td>0.0</td>\n",
       "      <td>7.9250</td>\n",
       "      <td>0.0</td>\n",
       "      <td>0.0</td>\n",
       "      <td>1.0</td>\n",
       "      <td>0.0</td>\n",
       "      <td>1.0</td>\n",
       "      <td>0.0</td>\n",
       "      <td>0.0</td>\n",
       "      <td>1.0</td>\n",
       "      <td>1.0</td>\n",
       "      <td>0.0</td>\n",
       "    </tr>\n",
       "    <tr>\n",
       "      <th>3</th>\n",
       "      <td>35.0</td>\n",
       "      <td>1.0</td>\n",
       "      <td>0.0</td>\n",
       "      <td>53.1000</td>\n",
       "      <td>0.0</td>\n",
       "      <td>0.0</td>\n",
       "      <td>1.0</td>\n",
       "      <td>0.0</td>\n",
       "      <td>0.0</td>\n",
       "      <td>0.0</td>\n",
       "      <td>1.0</td>\n",
       "      <td>0.0</td>\n",
       "      <td>1.0</td>\n",
       "      <td>1.0</td>\n",
       "    </tr>\n",
       "    <tr>\n",
       "      <th>4</th>\n",
       "      <td>35.0</td>\n",
       "      <td>0.0</td>\n",
       "      <td>0.0</td>\n",
       "      <td>8.0500</td>\n",
       "      <td>1.0</td>\n",
       "      <td>0.0</td>\n",
       "      <td>1.0</td>\n",
       "      <td>0.0</td>\n",
       "      <td>1.0</td>\n",
       "      <td>1.0</td>\n",
       "      <td>0.0</td>\n",
       "      <td>0.0</td>\n",
       "      <td>0.0</td>\n",
       "      <td>0.0</td>\n",
       "    </tr>\n",
       "  </tbody>\n",
       "</table>\n",
       "</div>"
      ],
      "text/plain": [
       "   imputer__Age  imputer__SibSp  imputer__Parch  imputer__Fare  \\\n",
       "0          22.0             1.0             0.0         7.2500   \n",
       "1          38.0             1.0             0.0        71.2833   \n",
       "2          26.0             0.0             0.0         7.9250   \n",
       "3          35.0             1.0             0.0        53.1000   \n",
       "4          35.0             0.0             0.0         8.0500   \n",
       "\n",
       "   enc1__Sex_male  enc2__Embarked_Q  enc2__Embarked_S  enc2__Pclass_2.0  \\\n",
       "0             1.0               0.0               1.0               0.0   \n",
       "1             0.0               0.0               0.0               0.0   \n",
       "2             0.0               0.0               1.0               0.0   \n",
       "3             0.0               0.0               1.0               0.0   \n",
       "4             1.0               0.0               1.0               0.0   \n",
       "\n",
       "   enc2__Pclass_3.0  enc3__Title_Mr  enc3__Title_Mrs  enc3__Title_Miss  \\\n",
       "0               1.0             1.0              0.0               0.0   \n",
       "1               0.0             0.0              1.0               0.0   \n",
       "2               1.0             0.0              0.0               1.0   \n",
       "3               0.0             0.0              1.0               0.0   \n",
       "4               1.0             1.0              0.0               0.0   \n",
       "\n",
       "   remainder__Survived  remainder__hasCabin  \n",
       "0                  0.0                  0.0  \n",
       "1                  1.0                  1.0  \n",
       "2                  1.0                  0.0  \n",
       "3                  1.0                  1.0  \n",
       "4                  0.0                  0.0  "
      ]
     },
     "execution_count": 30,
     "metadata": {},
     "output_type": "execute_result"
    }
   ],
   "source": [
    "# Impute missing values for numerical columns using KNNImputer with 5 neighbors\n",
    "# Encode binary categorical variable \"Sex\" using OneHotEncoder, dropping one category to avoid multicollinearity\n",
    "# Encode categorical variables \"Embarked\" and \"Pclass\" using OneHotEncoder, dropping the first category to avoid multicollinearity\n",
    "# Encode categorical variable \"Title\" using OneHotEncoder with predefined categories, ignoring unknown categories\n",
    "\n",
    "titles = [[\"Mr\", \"Mrs\", \"Miss\"]]\n",
    "\n",
    "ctrasnf = ColumnTransformer([\n",
    "    (\"imputer\", KNNImputer(n_neighbors=5), ['Age', 'SibSp', 'Parch', 'Fare']),\n",
    "    (\"enc1\", OneHotEncoder(drop=\"if_binary\"), [\"Sex\"]),\n",
    "    (\"enc2\", OneHotEncoder(drop=\"first\"), [\"Embarked\", 'Pclass']),\n",
    "    (\"enc3\", OneHotEncoder(categories=titles, handle_unknown=\"ignore\"), [\"Title\"])\n",
    "    ], remainder=\"passthrough\" # Keep the rest of the columns unchanged\n",
    ")\n",
    "\n",
    "X_new = ctrasnf.fit_transform(df6)\n",
    "pd.DataFrame(X_new, columns=ctrasnf.get_feature_names_out()).head()"
   ]
  },
  {
   "cell_type": "markdown",
   "id": "0b74dbd3",
   "metadata": {},
   "source": [
    "### Modelos de ML"
   ]
  },
  {
   "cell_type": "code",
   "execution_count": 31,
   "id": "8a3e7c55",
   "metadata": {},
   "outputs": [],
   "source": [
    "from sklearn.pipeline import Pipeline\n",
    "from sklearn.model_selection import train_test_split\n",
    "from sklearn.linear_model import LogisticRegression\n",
    "from sklearn.metrics import accuracy_score"
   ]
  },
  {
   "cell_type": "markdown",
   "id": "f7473ca8",
   "metadata": {},
   "source": [
    "#### Crear Modelo End to End utilizando un Pipeline que Transforma variables y un algoritmo que entrena el modelo"
   ]
  },
  {
   "cell_type": "code",
   "execution_count": 32,
   "id": "4e5bb08c",
   "metadata": {},
   "outputs": [
    {
     "name": "stdout",
     "output_type": "stream",
     "text": [
      "Num Columns: ['Age', 'Fare']\n",
      "Cat Columns: ['Pclass', 'Sex', 'SibSp', 'Parch', 'hasCabin', 'Embarked', 'Title']\n"
     ]
    }
   ],
   "source": [
    "# Show Columns data\n",
    "print(\"Num Columns: \" + str(num_cols))\n",
    "print(\"Cat Columns: \" + str(cat_cols))"
   ]
  },
  {
   "cell_type": "code",
   "execution_count": 33,
   "id": "87507d60",
   "metadata": {},
   "outputs": [
    {
     "data": {
      "text/html": [
       "<style>#sk-container-id-1 {\n",
       "  /* Definition of color scheme common for light and dark mode */\n",
       "  --sklearn-color-text: #000;\n",
       "  --sklearn-color-text-muted: #666;\n",
       "  --sklearn-color-line: gray;\n",
       "  /* Definition of color scheme for unfitted estimators */\n",
       "  --sklearn-color-unfitted-level-0: #fff5e6;\n",
       "  --sklearn-color-unfitted-level-1: #f6e4d2;\n",
       "  --sklearn-color-unfitted-level-2: #ffe0b3;\n",
       "  --sklearn-color-unfitted-level-3: chocolate;\n",
       "  /* Definition of color scheme for fitted estimators */\n",
       "  --sklearn-color-fitted-level-0: #f0f8ff;\n",
       "  --sklearn-color-fitted-level-1: #d4ebff;\n",
       "  --sklearn-color-fitted-level-2: #b3dbfd;\n",
       "  --sklearn-color-fitted-level-3: cornflowerblue;\n",
       "\n",
       "  /* Specific color for light theme */\n",
       "  --sklearn-color-text-on-default-background: var(--sg-text-color, var(--theme-code-foreground, var(--jp-content-font-color1, black)));\n",
       "  --sklearn-color-background: var(--sg-background-color, var(--theme-background, var(--jp-layout-color0, white)));\n",
       "  --sklearn-color-border-box: var(--sg-text-color, var(--theme-code-foreground, var(--jp-content-font-color1, black)));\n",
       "  --sklearn-color-icon: #696969;\n",
       "\n",
       "  @media (prefers-color-scheme: dark) {\n",
       "    /* Redefinition of color scheme for dark theme */\n",
       "    --sklearn-color-text-on-default-background: var(--sg-text-color, var(--theme-code-foreground, var(--jp-content-font-color1, white)));\n",
       "    --sklearn-color-background: var(--sg-background-color, var(--theme-background, var(--jp-layout-color0, #111)));\n",
       "    --sklearn-color-border-box: var(--sg-text-color, var(--theme-code-foreground, var(--jp-content-font-color1, white)));\n",
       "    --sklearn-color-icon: #878787;\n",
       "  }\n",
       "}\n",
       "\n",
       "#sk-container-id-1 {\n",
       "  color: var(--sklearn-color-text);\n",
       "}\n",
       "\n",
       "#sk-container-id-1 pre {\n",
       "  padding: 0;\n",
       "}\n",
       "\n",
       "#sk-container-id-1 input.sk-hidden--visually {\n",
       "  border: 0;\n",
       "  clip: rect(1px 1px 1px 1px);\n",
       "  clip: rect(1px, 1px, 1px, 1px);\n",
       "  height: 1px;\n",
       "  margin: -1px;\n",
       "  overflow: hidden;\n",
       "  padding: 0;\n",
       "  position: absolute;\n",
       "  width: 1px;\n",
       "}\n",
       "\n",
       "#sk-container-id-1 div.sk-dashed-wrapped {\n",
       "  border: 1px dashed var(--sklearn-color-line);\n",
       "  margin: 0 0.4em 0.5em 0.4em;\n",
       "  box-sizing: border-box;\n",
       "  padding-bottom: 0.4em;\n",
       "  background-color: var(--sklearn-color-background);\n",
       "}\n",
       "\n",
       "#sk-container-id-1 div.sk-container {\n",
       "  /* jupyter's `normalize.less` sets `[hidden] { display: none; }`\n",
       "     but bootstrap.min.css set `[hidden] { display: none !important; }`\n",
       "     so we also need the `!important` here to be able to override the\n",
       "     default hidden behavior on the sphinx rendered scikit-learn.org.\n",
       "     See: https://github.com/scikit-learn/scikit-learn/issues/21755 */\n",
       "  display: inline-block !important;\n",
       "  position: relative;\n",
       "}\n",
       "\n",
       "#sk-container-id-1 div.sk-text-repr-fallback {\n",
       "  display: none;\n",
       "}\n",
       "\n",
       "div.sk-parallel-item,\n",
       "div.sk-serial,\n",
       "div.sk-item {\n",
       "  /* draw centered vertical line to link estimators */\n",
       "  background-image: linear-gradient(var(--sklearn-color-text-on-default-background), var(--sklearn-color-text-on-default-background));\n",
       "  background-size: 2px 100%;\n",
       "  background-repeat: no-repeat;\n",
       "  background-position: center center;\n",
       "}\n",
       "\n",
       "/* Parallel-specific style estimator block */\n",
       "\n",
       "#sk-container-id-1 div.sk-parallel-item::after {\n",
       "  content: \"\";\n",
       "  width: 100%;\n",
       "  border-bottom: 2px solid var(--sklearn-color-text-on-default-background);\n",
       "  flex-grow: 1;\n",
       "}\n",
       "\n",
       "#sk-container-id-1 div.sk-parallel {\n",
       "  display: flex;\n",
       "  align-items: stretch;\n",
       "  justify-content: center;\n",
       "  background-color: var(--sklearn-color-background);\n",
       "  position: relative;\n",
       "}\n",
       "\n",
       "#sk-container-id-1 div.sk-parallel-item {\n",
       "  display: flex;\n",
       "  flex-direction: column;\n",
       "}\n",
       "\n",
       "#sk-container-id-1 div.sk-parallel-item:first-child::after {\n",
       "  align-self: flex-end;\n",
       "  width: 50%;\n",
       "}\n",
       "\n",
       "#sk-container-id-1 div.sk-parallel-item:last-child::after {\n",
       "  align-self: flex-start;\n",
       "  width: 50%;\n",
       "}\n",
       "\n",
       "#sk-container-id-1 div.sk-parallel-item:only-child::after {\n",
       "  width: 0;\n",
       "}\n",
       "\n",
       "/* Serial-specific style estimator block */\n",
       "\n",
       "#sk-container-id-1 div.sk-serial {\n",
       "  display: flex;\n",
       "  flex-direction: column;\n",
       "  align-items: center;\n",
       "  background-color: var(--sklearn-color-background);\n",
       "  padding-right: 1em;\n",
       "  padding-left: 1em;\n",
       "}\n",
       "\n",
       "\n",
       "/* Toggleable style: style used for estimator/Pipeline/ColumnTransformer box that is\n",
       "clickable and can be expanded/collapsed.\n",
       "- Pipeline and ColumnTransformer use this feature and define the default style\n",
       "- Estimators will overwrite some part of the style using the `sk-estimator` class\n",
       "*/\n",
       "\n",
       "/* Pipeline and ColumnTransformer style (default) */\n",
       "\n",
       "#sk-container-id-1 div.sk-toggleable {\n",
       "  /* Default theme specific background. It is overwritten whether we have a\n",
       "  specific estimator or a Pipeline/ColumnTransformer */\n",
       "  background-color: var(--sklearn-color-background);\n",
       "}\n",
       "\n",
       "/* Toggleable label */\n",
       "#sk-container-id-1 label.sk-toggleable__label {\n",
       "  cursor: pointer;\n",
       "  display: flex;\n",
       "  width: 100%;\n",
       "  margin-bottom: 0;\n",
       "  padding: 0.5em;\n",
       "  box-sizing: border-box;\n",
       "  text-align: center;\n",
       "  align-items: start;\n",
       "  justify-content: space-between;\n",
       "  gap: 0.5em;\n",
       "}\n",
       "\n",
       "#sk-container-id-1 label.sk-toggleable__label .caption {\n",
       "  font-size: 0.6rem;\n",
       "  font-weight: lighter;\n",
       "  color: var(--sklearn-color-text-muted);\n",
       "}\n",
       "\n",
       "#sk-container-id-1 label.sk-toggleable__label-arrow:before {\n",
       "  /* Arrow on the left of the label */\n",
       "  content: \"▸\";\n",
       "  float: left;\n",
       "  margin-right: 0.25em;\n",
       "  color: var(--sklearn-color-icon);\n",
       "}\n",
       "\n",
       "#sk-container-id-1 label.sk-toggleable__label-arrow:hover:before {\n",
       "  color: var(--sklearn-color-text);\n",
       "}\n",
       "\n",
       "/* Toggleable content - dropdown */\n",
       "\n",
       "#sk-container-id-1 div.sk-toggleable__content {\n",
       "  max-height: 0;\n",
       "  max-width: 0;\n",
       "  overflow: hidden;\n",
       "  text-align: left;\n",
       "  /* unfitted */\n",
       "  background-color: var(--sklearn-color-unfitted-level-0);\n",
       "}\n",
       "\n",
       "#sk-container-id-1 div.sk-toggleable__content.fitted {\n",
       "  /* fitted */\n",
       "  background-color: var(--sklearn-color-fitted-level-0);\n",
       "}\n",
       "\n",
       "#sk-container-id-1 div.sk-toggleable__content pre {\n",
       "  margin: 0.2em;\n",
       "  border-radius: 0.25em;\n",
       "  color: var(--sklearn-color-text);\n",
       "  /* unfitted */\n",
       "  background-color: var(--sklearn-color-unfitted-level-0);\n",
       "}\n",
       "\n",
       "#sk-container-id-1 div.sk-toggleable__content.fitted pre {\n",
       "  /* unfitted */\n",
       "  background-color: var(--sklearn-color-fitted-level-0);\n",
       "}\n",
       "\n",
       "#sk-container-id-1 input.sk-toggleable__control:checked~div.sk-toggleable__content {\n",
       "  /* Expand drop-down */\n",
       "  max-height: 200px;\n",
       "  max-width: 100%;\n",
       "  overflow: auto;\n",
       "}\n",
       "\n",
       "#sk-container-id-1 input.sk-toggleable__control:checked~label.sk-toggleable__label-arrow:before {\n",
       "  content: \"▾\";\n",
       "}\n",
       "\n",
       "/* Pipeline/ColumnTransformer-specific style */\n",
       "\n",
       "#sk-container-id-1 div.sk-label input.sk-toggleable__control:checked~label.sk-toggleable__label {\n",
       "  color: var(--sklearn-color-text);\n",
       "  background-color: var(--sklearn-color-unfitted-level-2);\n",
       "}\n",
       "\n",
       "#sk-container-id-1 div.sk-label.fitted input.sk-toggleable__control:checked~label.sk-toggleable__label {\n",
       "  background-color: var(--sklearn-color-fitted-level-2);\n",
       "}\n",
       "\n",
       "/* Estimator-specific style */\n",
       "\n",
       "/* Colorize estimator box */\n",
       "#sk-container-id-1 div.sk-estimator input.sk-toggleable__control:checked~label.sk-toggleable__label {\n",
       "  /* unfitted */\n",
       "  background-color: var(--sklearn-color-unfitted-level-2);\n",
       "}\n",
       "\n",
       "#sk-container-id-1 div.sk-estimator.fitted input.sk-toggleable__control:checked~label.sk-toggleable__label {\n",
       "  /* fitted */\n",
       "  background-color: var(--sklearn-color-fitted-level-2);\n",
       "}\n",
       "\n",
       "#sk-container-id-1 div.sk-label label.sk-toggleable__label,\n",
       "#sk-container-id-1 div.sk-label label {\n",
       "  /* The background is the default theme color */\n",
       "  color: var(--sklearn-color-text-on-default-background);\n",
       "}\n",
       "\n",
       "/* On hover, darken the color of the background */\n",
       "#sk-container-id-1 div.sk-label:hover label.sk-toggleable__label {\n",
       "  color: var(--sklearn-color-text);\n",
       "  background-color: var(--sklearn-color-unfitted-level-2);\n",
       "}\n",
       "\n",
       "/* Label box, darken color on hover, fitted */\n",
       "#sk-container-id-1 div.sk-label.fitted:hover label.sk-toggleable__label.fitted {\n",
       "  color: var(--sklearn-color-text);\n",
       "  background-color: var(--sklearn-color-fitted-level-2);\n",
       "}\n",
       "\n",
       "/* Estimator label */\n",
       "\n",
       "#sk-container-id-1 div.sk-label label {\n",
       "  font-family: monospace;\n",
       "  font-weight: bold;\n",
       "  display: inline-block;\n",
       "  line-height: 1.2em;\n",
       "}\n",
       "\n",
       "#sk-container-id-1 div.sk-label-container {\n",
       "  text-align: center;\n",
       "}\n",
       "\n",
       "/* Estimator-specific */\n",
       "#sk-container-id-1 div.sk-estimator {\n",
       "  font-family: monospace;\n",
       "  border: 1px dotted var(--sklearn-color-border-box);\n",
       "  border-radius: 0.25em;\n",
       "  box-sizing: border-box;\n",
       "  margin-bottom: 0.5em;\n",
       "  /* unfitted */\n",
       "  background-color: var(--sklearn-color-unfitted-level-0);\n",
       "}\n",
       "\n",
       "#sk-container-id-1 div.sk-estimator.fitted {\n",
       "  /* fitted */\n",
       "  background-color: var(--sklearn-color-fitted-level-0);\n",
       "}\n",
       "\n",
       "/* on hover */\n",
       "#sk-container-id-1 div.sk-estimator:hover {\n",
       "  /* unfitted */\n",
       "  background-color: var(--sklearn-color-unfitted-level-2);\n",
       "}\n",
       "\n",
       "#sk-container-id-1 div.sk-estimator.fitted:hover {\n",
       "  /* fitted */\n",
       "  background-color: var(--sklearn-color-fitted-level-2);\n",
       "}\n",
       "\n",
       "/* Specification for estimator info (e.g. \"i\" and \"?\") */\n",
       "\n",
       "/* Common style for \"i\" and \"?\" */\n",
       "\n",
       ".sk-estimator-doc-link,\n",
       "a:link.sk-estimator-doc-link,\n",
       "a:visited.sk-estimator-doc-link {\n",
       "  float: right;\n",
       "  font-size: smaller;\n",
       "  line-height: 1em;\n",
       "  font-family: monospace;\n",
       "  background-color: var(--sklearn-color-background);\n",
       "  border-radius: 1em;\n",
       "  height: 1em;\n",
       "  width: 1em;\n",
       "  text-decoration: none !important;\n",
       "  margin-left: 0.5em;\n",
       "  text-align: center;\n",
       "  /* unfitted */\n",
       "  border: var(--sklearn-color-unfitted-level-1) 1pt solid;\n",
       "  color: var(--sklearn-color-unfitted-level-1);\n",
       "}\n",
       "\n",
       ".sk-estimator-doc-link.fitted,\n",
       "a:link.sk-estimator-doc-link.fitted,\n",
       "a:visited.sk-estimator-doc-link.fitted {\n",
       "  /* fitted */\n",
       "  border: var(--sklearn-color-fitted-level-1) 1pt solid;\n",
       "  color: var(--sklearn-color-fitted-level-1);\n",
       "}\n",
       "\n",
       "/* On hover */\n",
       "div.sk-estimator:hover .sk-estimator-doc-link:hover,\n",
       ".sk-estimator-doc-link:hover,\n",
       "div.sk-label-container:hover .sk-estimator-doc-link:hover,\n",
       ".sk-estimator-doc-link:hover {\n",
       "  /* unfitted */\n",
       "  background-color: var(--sklearn-color-unfitted-level-3);\n",
       "  color: var(--sklearn-color-background);\n",
       "  text-decoration: none;\n",
       "}\n",
       "\n",
       "div.sk-estimator.fitted:hover .sk-estimator-doc-link.fitted:hover,\n",
       ".sk-estimator-doc-link.fitted:hover,\n",
       "div.sk-label-container:hover .sk-estimator-doc-link.fitted:hover,\n",
       ".sk-estimator-doc-link.fitted:hover {\n",
       "  /* fitted */\n",
       "  background-color: var(--sklearn-color-fitted-level-3);\n",
       "  color: var(--sklearn-color-background);\n",
       "  text-decoration: none;\n",
       "}\n",
       "\n",
       "/* Span, style for the box shown on hovering the info icon */\n",
       ".sk-estimator-doc-link span {\n",
       "  display: none;\n",
       "  z-index: 9999;\n",
       "  position: relative;\n",
       "  font-weight: normal;\n",
       "  right: .2ex;\n",
       "  padding: .5ex;\n",
       "  margin: .5ex;\n",
       "  width: min-content;\n",
       "  min-width: 20ex;\n",
       "  max-width: 50ex;\n",
       "  color: var(--sklearn-color-text);\n",
       "  box-shadow: 2pt 2pt 4pt #999;\n",
       "  /* unfitted */\n",
       "  background: var(--sklearn-color-unfitted-level-0);\n",
       "  border: .5pt solid var(--sklearn-color-unfitted-level-3);\n",
       "}\n",
       "\n",
       ".sk-estimator-doc-link.fitted span {\n",
       "  /* fitted */\n",
       "  background: var(--sklearn-color-fitted-level-0);\n",
       "  border: var(--sklearn-color-fitted-level-3);\n",
       "}\n",
       "\n",
       ".sk-estimator-doc-link:hover span {\n",
       "  display: block;\n",
       "}\n",
       "\n",
       "/* \"?\"-specific style due to the `<a>` HTML tag */\n",
       "\n",
       "#sk-container-id-1 a.estimator_doc_link {\n",
       "  float: right;\n",
       "  font-size: 1rem;\n",
       "  line-height: 1em;\n",
       "  font-family: monospace;\n",
       "  background-color: var(--sklearn-color-background);\n",
       "  border-radius: 1rem;\n",
       "  height: 1rem;\n",
       "  width: 1rem;\n",
       "  text-decoration: none;\n",
       "  /* unfitted */\n",
       "  color: var(--sklearn-color-unfitted-level-1);\n",
       "  border: var(--sklearn-color-unfitted-level-1) 1pt solid;\n",
       "}\n",
       "\n",
       "#sk-container-id-1 a.estimator_doc_link.fitted {\n",
       "  /* fitted */\n",
       "  border: var(--sklearn-color-fitted-level-1) 1pt solid;\n",
       "  color: var(--sklearn-color-fitted-level-1);\n",
       "}\n",
       "\n",
       "/* On hover */\n",
       "#sk-container-id-1 a.estimator_doc_link:hover {\n",
       "  /* unfitted */\n",
       "  background-color: var(--sklearn-color-unfitted-level-3);\n",
       "  color: var(--sklearn-color-background);\n",
       "  text-decoration: none;\n",
       "}\n",
       "\n",
       "#sk-container-id-1 a.estimator_doc_link.fitted:hover {\n",
       "  /* fitted */\n",
       "  background-color: var(--sklearn-color-fitted-level-3);\n",
       "}\n",
       "</style><div id=\"sk-container-id-1\" class=\"sk-top-container\"><div class=\"sk-text-repr-fallback\"><pre>Pipeline(steps=[(&#x27;mi_transformador&#x27;,\n",
       "                 ColumnTransformer(remainder=&#x27;passthrough&#x27;,\n",
       "                                   transformers=[(&#x27;imputer&#x27;, KNNImputer(),\n",
       "                                                  [&#x27;Age&#x27;, &#x27;SibSp&#x27;, &#x27;Parch&#x27;,\n",
       "                                                   &#x27;Fare&#x27;]),\n",
       "                                                 (&#x27;enc1&#x27;,\n",
       "                                                  OneHotEncoder(drop=&#x27;if_binary&#x27;),\n",
       "                                                  [&#x27;Sex&#x27;]),\n",
       "                                                 (&#x27;enc2&#x27;,\n",
       "                                                  OneHotEncoder(drop=&#x27;first&#x27;),\n",
       "                                                  [&#x27;Embarked&#x27;, &#x27;Pclass&#x27;]),\n",
       "                                                 (&#x27;enc3&#x27;,\n",
       "                                                  OneHotEncoder(categories=[[&#x27;Mr&#x27;,\n",
       "                                                                             &#x27;Mrs&#x27;,\n",
       "                                                                             &#x27;Miss&#x27;]],\n",
       "                                                                handle_unknown=&#x27;ignore&#x27;),\n",
       "                                                  [&#x27;Title&#x27;])])),\n",
       "                (&#x27;mi_algoritmo&#x27;, LogisticRegression(random_state=99))])</pre><b>In a Jupyter environment, please rerun this cell to show the HTML representation or trust the notebook. <br />On GitHub, the HTML representation is unable to render, please try loading this page with nbviewer.org.</b></div><div class=\"sk-container\" hidden><div class=\"sk-item sk-dashed-wrapped\"><div class=\"sk-label-container\"><div class=\"sk-label fitted sk-toggleable\"><input class=\"sk-toggleable__control sk-hidden--visually\" id=\"sk-estimator-id-1\" type=\"checkbox\" ><label for=\"sk-estimator-id-1\" class=\"sk-toggleable__label fitted sk-toggleable__label-arrow\"><div><div>Pipeline</div></div><div><a class=\"sk-estimator-doc-link fitted\" rel=\"noreferrer\" target=\"_blank\" href=\"https://scikit-learn.org/1.6/modules/generated/sklearn.pipeline.Pipeline.html\">?<span>Documentation for Pipeline</span></a><span class=\"sk-estimator-doc-link fitted\">i<span>Fitted</span></span></div></label><div class=\"sk-toggleable__content fitted\"><pre>Pipeline(steps=[(&#x27;mi_transformador&#x27;,\n",
       "                 ColumnTransformer(remainder=&#x27;passthrough&#x27;,\n",
       "                                   transformers=[(&#x27;imputer&#x27;, KNNImputer(),\n",
       "                                                  [&#x27;Age&#x27;, &#x27;SibSp&#x27;, &#x27;Parch&#x27;,\n",
       "                                                   &#x27;Fare&#x27;]),\n",
       "                                                 (&#x27;enc1&#x27;,\n",
       "                                                  OneHotEncoder(drop=&#x27;if_binary&#x27;),\n",
       "                                                  [&#x27;Sex&#x27;]),\n",
       "                                                 (&#x27;enc2&#x27;,\n",
       "                                                  OneHotEncoder(drop=&#x27;first&#x27;),\n",
       "                                                  [&#x27;Embarked&#x27;, &#x27;Pclass&#x27;]),\n",
       "                                                 (&#x27;enc3&#x27;,\n",
       "                                                  OneHotEncoder(categories=[[&#x27;Mr&#x27;,\n",
       "                                                                             &#x27;Mrs&#x27;,\n",
       "                                                                             &#x27;Miss&#x27;]],\n",
       "                                                                handle_unknown=&#x27;ignore&#x27;),\n",
       "                                                  [&#x27;Title&#x27;])])),\n",
       "                (&#x27;mi_algoritmo&#x27;, LogisticRegression(random_state=99))])</pre></div> </div></div><div class=\"sk-serial\"><div class=\"sk-item sk-dashed-wrapped\"><div class=\"sk-label-container\"><div class=\"sk-label fitted sk-toggleable\"><input class=\"sk-toggleable__control sk-hidden--visually\" id=\"sk-estimator-id-2\" type=\"checkbox\" ><label for=\"sk-estimator-id-2\" class=\"sk-toggleable__label fitted sk-toggleable__label-arrow\"><div><div>mi_transformador: ColumnTransformer</div></div><div><a class=\"sk-estimator-doc-link fitted\" rel=\"noreferrer\" target=\"_blank\" href=\"https://scikit-learn.org/1.6/modules/generated/sklearn.compose.ColumnTransformer.html\">?<span>Documentation for mi_transformador: ColumnTransformer</span></a></div></label><div class=\"sk-toggleable__content fitted\"><pre>ColumnTransformer(remainder=&#x27;passthrough&#x27;,\n",
       "                  transformers=[(&#x27;imputer&#x27;, KNNImputer(),\n",
       "                                 [&#x27;Age&#x27;, &#x27;SibSp&#x27;, &#x27;Parch&#x27;, &#x27;Fare&#x27;]),\n",
       "                                (&#x27;enc1&#x27;, OneHotEncoder(drop=&#x27;if_binary&#x27;),\n",
       "                                 [&#x27;Sex&#x27;]),\n",
       "                                (&#x27;enc2&#x27;, OneHotEncoder(drop=&#x27;first&#x27;),\n",
       "                                 [&#x27;Embarked&#x27;, &#x27;Pclass&#x27;]),\n",
       "                                (&#x27;enc3&#x27;,\n",
       "                                 OneHotEncoder(categories=[[&#x27;Mr&#x27;, &#x27;Mrs&#x27;,\n",
       "                                                            &#x27;Miss&#x27;]],\n",
       "                                               handle_unknown=&#x27;ignore&#x27;),\n",
       "                                 [&#x27;Title&#x27;])])</pre></div> </div></div><div class=\"sk-parallel\"><div class=\"sk-parallel-item\"><div class=\"sk-item\"><div class=\"sk-label-container\"><div class=\"sk-label fitted sk-toggleable\"><input class=\"sk-toggleable__control sk-hidden--visually\" id=\"sk-estimator-id-3\" type=\"checkbox\" ><label for=\"sk-estimator-id-3\" class=\"sk-toggleable__label fitted sk-toggleable__label-arrow\"><div><div>imputer</div></div></label><div class=\"sk-toggleable__content fitted\"><pre>[&#x27;Age&#x27;, &#x27;SibSp&#x27;, &#x27;Parch&#x27;, &#x27;Fare&#x27;]</pre></div> </div></div><div class=\"sk-serial\"><div class=\"sk-item\"><div class=\"sk-estimator fitted sk-toggleable\"><input class=\"sk-toggleable__control sk-hidden--visually\" id=\"sk-estimator-id-4\" type=\"checkbox\" ><label for=\"sk-estimator-id-4\" class=\"sk-toggleable__label fitted sk-toggleable__label-arrow\"><div><div>KNNImputer</div></div><div><a class=\"sk-estimator-doc-link fitted\" rel=\"noreferrer\" target=\"_blank\" href=\"https://scikit-learn.org/1.6/modules/generated/sklearn.impute.KNNImputer.html\">?<span>Documentation for KNNImputer</span></a></div></label><div class=\"sk-toggleable__content fitted\"><pre>KNNImputer()</pre></div> </div></div></div></div></div><div class=\"sk-parallel-item\"><div class=\"sk-item\"><div class=\"sk-label-container\"><div class=\"sk-label fitted sk-toggleable\"><input class=\"sk-toggleable__control sk-hidden--visually\" id=\"sk-estimator-id-5\" type=\"checkbox\" ><label for=\"sk-estimator-id-5\" class=\"sk-toggleable__label fitted sk-toggleable__label-arrow\"><div><div>enc1</div></div></label><div class=\"sk-toggleable__content fitted\"><pre>[&#x27;Sex&#x27;]</pre></div> </div></div><div class=\"sk-serial\"><div class=\"sk-item\"><div class=\"sk-estimator fitted sk-toggleable\"><input class=\"sk-toggleable__control sk-hidden--visually\" id=\"sk-estimator-id-6\" type=\"checkbox\" ><label for=\"sk-estimator-id-6\" class=\"sk-toggleable__label fitted sk-toggleable__label-arrow\"><div><div>OneHotEncoder</div></div><div><a class=\"sk-estimator-doc-link fitted\" rel=\"noreferrer\" target=\"_blank\" href=\"https://scikit-learn.org/1.6/modules/generated/sklearn.preprocessing.OneHotEncoder.html\">?<span>Documentation for OneHotEncoder</span></a></div></label><div class=\"sk-toggleable__content fitted\"><pre>OneHotEncoder(drop=&#x27;if_binary&#x27;)</pre></div> </div></div></div></div></div><div class=\"sk-parallel-item\"><div class=\"sk-item\"><div class=\"sk-label-container\"><div class=\"sk-label fitted sk-toggleable\"><input class=\"sk-toggleable__control sk-hidden--visually\" id=\"sk-estimator-id-7\" type=\"checkbox\" ><label for=\"sk-estimator-id-7\" class=\"sk-toggleable__label fitted sk-toggleable__label-arrow\"><div><div>enc2</div></div></label><div class=\"sk-toggleable__content fitted\"><pre>[&#x27;Embarked&#x27;, &#x27;Pclass&#x27;]</pre></div> </div></div><div class=\"sk-serial\"><div class=\"sk-item\"><div class=\"sk-estimator fitted sk-toggleable\"><input class=\"sk-toggleable__control sk-hidden--visually\" id=\"sk-estimator-id-8\" type=\"checkbox\" ><label for=\"sk-estimator-id-8\" class=\"sk-toggleable__label fitted sk-toggleable__label-arrow\"><div><div>OneHotEncoder</div></div><div><a class=\"sk-estimator-doc-link fitted\" rel=\"noreferrer\" target=\"_blank\" href=\"https://scikit-learn.org/1.6/modules/generated/sklearn.preprocessing.OneHotEncoder.html\">?<span>Documentation for OneHotEncoder</span></a></div></label><div class=\"sk-toggleable__content fitted\"><pre>OneHotEncoder(drop=&#x27;first&#x27;)</pre></div> </div></div></div></div></div><div class=\"sk-parallel-item\"><div class=\"sk-item\"><div class=\"sk-label-container\"><div class=\"sk-label fitted sk-toggleable\"><input class=\"sk-toggleable__control sk-hidden--visually\" id=\"sk-estimator-id-9\" type=\"checkbox\" ><label for=\"sk-estimator-id-9\" class=\"sk-toggleable__label fitted sk-toggleable__label-arrow\"><div><div>enc3</div></div></label><div class=\"sk-toggleable__content fitted\"><pre>[&#x27;Title&#x27;]</pre></div> </div></div><div class=\"sk-serial\"><div class=\"sk-item\"><div class=\"sk-estimator fitted sk-toggleable\"><input class=\"sk-toggleable__control sk-hidden--visually\" id=\"sk-estimator-id-10\" type=\"checkbox\" ><label for=\"sk-estimator-id-10\" class=\"sk-toggleable__label fitted sk-toggleable__label-arrow\"><div><div>OneHotEncoder</div></div><div><a class=\"sk-estimator-doc-link fitted\" rel=\"noreferrer\" target=\"_blank\" href=\"https://scikit-learn.org/1.6/modules/generated/sklearn.preprocessing.OneHotEncoder.html\">?<span>Documentation for OneHotEncoder</span></a></div></label><div class=\"sk-toggleable__content fitted\"><pre>OneHotEncoder(categories=[[&#x27;Mr&#x27;, &#x27;Mrs&#x27;, &#x27;Miss&#x27;]], handle_unknown=&#x27;ignore&#x27;)</pre></div> </div></div></div></div></div><div class=\"sk-parallel-item\"><div class=\"sk-item\"><div class=\"sk-label-container\"><div class=\"sk-label fitted sk-toggleable\"><input class=\"sk-toggleable__control sk-hidden--visually\" id=\"sk-estimator-id-11\" type=\"checkbox\" ><label for=\"sk-estimator-id-11\" class=\"sk-toggleable__label fitted sk-toggleable__label-arrow\"><div><div>remainder</div></div></label><div class=\"sk-toggleable__content fitted\"><pre>[&#x27;hasCabin&#x27;]</pre></div> </div></div><div class=\"sk-serial\"><div class=\"sk-item\"><div class=\"sk-estimator fitted sk-toggleable\"><input class=\"sk-toggleable__control sk-hidden--visually\" id=\"sk-estimator-id-12\" type=\"checkbox\" ><label for=\"sk-estimator-id-12\" class=\"sk-toggleable__label fitted sk-toggleable__label-arrow\"><div><div>passthrough</div></div></label><div class=\"sk-toggleable__content fitted\"><pre>passthrough</pre></div> </div></div></div></div></div></div></div><div class=\"sk-item\"><div class=\"sk-estimator fitted sk-toggleable\"><input class=\"sk-toggleable__control sk-hidden--visually\" id=\"sk-estimator-id-13\" type=\"checkbox\" ><label for=\"sk-estimator-id-13\" class=\"sk-toggleable__label fitted sk-toggleable__label-arrow\"><div><div>LogisticRegression</div></div><div><a class=\"sk-estimator-doc-link fitted\" rel=\"noreferrer\" target=\"_blank\" href=\"https://scikit-learn.org/1.6/modules/generated/sklearn.linear_model.LogisticRegression.html\">?<span>Documentation for LogisticRegression</span></a></div></label><div class=\"sk-toggleable__content fitted\"><pre>LogisticRegression(random_state=99)</pre></div> </div></div></div></div></div></div>"
      ],
      "text/plain": [
       "Pipeline(steps=[('mi_transformador',\n",
       "                 ColumnTransformer(remainder='passthrough',\n",
       "                                   transformers=[('imputer', KNNImputer(),\n",
       "                                                  ['Age', 'SibSp', 'Parch',\n",
       "                                                   'Fare']),\n",
       "                                                 ('enc1',\n",
       "                                                  OneHotEncoder(drop='if_binary'),\n",
       "                                                  ['Sex']),\n",
       "                                                 ('enc2',\n",
       "                                                  OneHotEncoder(drop='first'),\n",
       "                                                  ['Embarked', 'Pclass']),\n",
       "                                                 ('enc3',\n",
       "                                                  OneHotEncoder(categories=[['Mr',\n",
       "                                                                             'Mrs',\n",
       "                                                                             'Miss']],\n",
       "                                                                handle_unknown='ignore'),\n",
       "                                                  ['Title'])])),\n",
       "                ('mi_algoritmo', LogisticRegression(random_state=99))])"
      ]
     },
     "execution_count": 33,
     "metadata": {},
     "output_type": "execute_result"
    }
   ],
   "source": [
    "# Create a pipeline with preprocessing and model training steps\n",
    "\n",
    "X = df4[num_cols + cat_cols]\n",
    "y = df4[\"Survived\"]\n",
    "\n",
    "seed = 99\n",
    "\n",
    "X_train, X_test, y_train, y_test = train_test_split(X, y, test_size=0.2, random_state=seed)\n",
    "\n",
    "alg = LogisticRegression(random_state=seed)\n",
    "\n",
    "ctrasnf = ColumnTransformer([\n",
    "    (\"imputer\", KNNImputer(n_neighbors=5), ['Age', 'SibSp', 'Parch', 'Fare']),\n",
    "    (\"enc1\", OneHotEncoder(drop=\"if_binary\"), [\"Sex\"]),\n",
    "    (\"enc2\", OneHotEncoder(drop=\"first\"), [\"Embarked\", 'Pclass']),\n",
    "    (\"enc3\", OneHotEncoder(categories=titles, handle_unknown=\"ignore\"), [\"Title\"])\n",
    "    ], remainder=\"passthrough\" # Keep the rest of the columns unchanged\n",
    ")\n",
    "\n",
    "model = Pipeline([\n",
    "    (\"mi_transformador\", ctrasnf),\n",
    "    (\"mi_algoritmo\", alg)\n",
    "])\n",
    "\n",
    "model.fit(X_train, y_train)\n"
   ]
  },
  {
   "cell_type": "code",
   "execution_count": 34,
   "id": "0849b7ab",
   "metadata": {},
   "outputs": [
    {
     "name": "stdout",
     "output_type": "stream",
     "text": [
      "Accuracy Score: 0.8037974683544303\n"
     ]
    }
   ],
   "source": [
    "y_hat = model.predict(X_test)\n",
    "print(\"Accuracy Score: \" + str(accuracy_score(y_true=y_test, y_pred=y_hat)))"
   ]
  },
  {
   "cell_type": "code",
   "execution_count": 35,
   "id": "1ea6c88e",
   "metadata": {},
   "outputs": [
    {
     "name": "stdout",
     "output_type": "stream",
     "text": [
      "Model steps: \n",
      "[('mi_transformador', ColumnTransformer(remainder='passthrough',\n",
      "                  transformers=[('imputer', KNNImputer(),\n",
      "                                 ['Age', 'SibSp', 'Parch', 'Fare']),\n",
      "                                ('enc1', OneHotEncoder(drop='if_binary'),\n",
      "                                 ['Sex']),\n",
      "                                ('enc2', OneHotEncoder(drop='first'),\n",
      "                                 ['Embarked', 'Pclass']),\n",
      "                                ('enc3',\n",
      "                                 OneHotEncoder(categories=[['Mr', 'Mrs',\n",
      "                                                            'Miss']],\n",
      "                                               handle_unknown='ignore'),\n",
      "                                 ['Title'])])), ('mi_algoritmo', LogisticRegression(random_state=99))]\n"
     ]
    }
   ],
   "source": [
    "print(\"Model steps: \\n\"+ str(model.steps))"
   ]
  },
  {
   "cell_type": "code",
   "execution_count": 36,
   "id": "ff12e0cf",
   "metadata": {},
   "outputs": [
    {
     "name": "stdout",
     "output_type": "stream",
     "text": [
      "Model enc1 feature names: ['Sex_male']\n",
      "Model enc1 categories: [array(['female', 'male'], dtype=object)]\n"
     ]
    }
   ],
   "source": [
    "# Query the fitted model\n",
    "print(\"Model enc1 feature names: \" + str(model.steps[0][1]['enc1'].get_feature_names_out()))\n",
    "print(\"Model enc1 categories: \" + str(model.steps[0][1]['enc1'].categories_))"
   ]
  },
  {
   "cell_type": "markdown",
   "id": "1b4d72d5",
   "metadata": {},
   "source": [
    "## Transformaciones Numericas"
   ]
  },
  {
   "cell_type": "markdown",
   "id": "e6526730",
   "metadata": {},
   "source": [
    "* [Scikit-learn - preprocessing](https://scikit-learn.org/stable/api/sklearn.preprocessing.html)\n",
    "* [Scikit-learn - non-linear-transformation](https://scikit-learn.org/stable/modules/preprocessing.html#non-linear-transformation)\n",
    "* [Scikit-learn - PowerTransformer](https://scikit-learn.org/stable/modules/generated/sklearn.preprocessing.PowerTransformer.html)"
   ]
  },
  {
   "cell_type": "code",
   "execution_count": 37,
   "id": "36acd81e",
   "metadata": {},
   "outputs": [],
   "source": [
    "# Visualize the distribution of the \"Fare\" column\n",
    "# The Fare column is a continuous variable representing the ticket fare paid by each passenger.\n",
    "X = df6['Fare']\n",
    "\n",
    "# Normal distribution\n",
    "# # Notice that the Fare column has a long tail distribution, with most passengers paying lower fares and a few passengers paying significantly higher fares. \\\n",
    "# This distribution can be problematic for some machine learning algorithms, as they may not handle long-tailed distributions well. \\"
   ]
  },
  {
   "cell_type": "code",
   "execution_count": 38,
   "id": "ae53ccbe",
   "metadata": {},
   "outputs": [
    {
     "data": {
      "image/png": "[encoded data removed]",
      "text/plain": [
       "<Figure size 1000x400 with 1 Axes>"
      ]
     },
     "metadata": {},
     "output_type": "display_data"
    }
   ],
   "source": [
    "# Logarithmic transformation\n",
    "\n",
    "plt.figure(figsize=(10, 4))\n",
    "sns.histplot(np.log1p(X+1), kde=True, ax=plt.gca())\n",
    "plt.title(\"Logarithmic Transformation of: Fare\")\n",
    "plt.show()\n",
    "# The logarithmic transformation helps to reduce the skewness of the distribution and make it more symmetric.\n",
    "# This can improve the performance of machine learning algorithms that assume a normal distribution of the input features."
   ]
  },
  {
   "cell_type": "markdown",
   "id": "5e5045bd",
   "metadata": {},
   "source": [
    "### PowerTransformer Transformer"
   ]
  },
  {
   "cell_type": "code",
   "execution_count": 39,
   "id": "b424462c",
   "metadata": {},
   "outputs": [],
   "source": [
    "from sklearn.preprocessing import PowerTransformer"
   ]
  },
  {
   "cell_type": "code",
   "execution_count": 40,
   "id": "05c7501e",
   "metadata": {},
   "outputs": [],
   "source": [
    "X = df6[['Fare']]"
   ]
  },
  {
   "cell_type": "code",
   "execution_count": 41,
   "id": "b667d7c5",
   "metadata": {},
   "outputs": [],
   "source": [
    "# Transform the \"Fare\" column using the Yeo-Johnson method\n",
    "# The Yeo-Johnson transformation is a power transformation that can handle both positive and negative values. \\\n",
    "pt = PowerTransformer(method=\"yeo-johnson\", standardize=True)\n",
    "X_new = pt.fit_transform(X)"
   ]
  },
  {
   "cell_type": "code",
   "execution_count": 42,
   "id": "913b1ea8",
   "metadata": {},
   "outputs": [
    {
     "data": {
      "image/png": "[encoded data removed]",
      "text/plain": [
       "<Figure size 1000x200 with 2 Axes>"
      ]
     },
     "metadata": {},
     "output_type": "display_data"
    },
    {
     "data": {
      "image/png": "[encoded data removed]",
      "text/plain": [
       "<Figure size 1000x200 with 2 Axes>"
      ]
     },
     "metadata": {},
     "output_type": "display_data"
    }
   ],
   "source": [
    "# Compare the original and transformed distributions\n",
    "for col in num_cols:\n",
    "    X = df6[[col]]\n",
    "    X_new = pt.fit_transform(X)\n",
    "    plt.figure(figsize=(10, 2))\n",
    "    plt.subplot(1, 2, 1)\n",
    "    plt.title(f\"Original: {col}\")\n",
    "    sns.histplot(X, kde=True, ax=plt.gca())\n",
    "    plt.subplot(1, 2, 2)\n",
    "    plt.title(f\"Transformed: {col}\")\n",
    "    sns.histplot(X_new, kde=True, ax=plt.gca())\n",
    "    plt.show()"
   ]
  },
  {
   "cell_type": "markdown",
   "id": "8430fe0c",
   "metadata": {},
   "source": [
    "### Robust Scaler \n",
    "\n",
    "* [Scikit-learn - plot_all_scaling](https://scikit-learn.org/stable/auto_examples/preprocessing/plot_all_scaling.html)\n",
    "* [Scikit-learn - RobustScaler](https://scikit-learn.org/stable/modules/generated/sklearn.preprocessing.RobustScaler.html)"
   ]
  },
  {
   "cell_type": "code",
   "execution_count": 43,
   "id": "cf83600c",
   "metadata": {},
   "outputs": [],
   "source": [
    "from sklearn.preprocessing import RobustScaler"
   ]
  },
  {
   "cell_type": "markdown",
   "id": "d718cb70",
   "metadata": {},
   "source": [
    "## Modelo de ML avanzados\n",
    "\n",
    "* [Scikit-learn - RandomForestClassifier](https://scikit-learn.org/stable/modules/generated/sklearn.ensemble.RandomForestClassifier.html)\n",
    "\n",
    "Random Forest is a method that combines the predictions of multiple decision trees to produce a more accurate and stable result. It can be used for both classification and regression tasks. In classification tasks, Random Forest Classification predicts categorical outcomes based on the input data. It uses multiple decision trees and outputs the label that has the maximum votes among all the individual tree predictions and in this article we will learn more about it."
   ]
  },
  {
   "cell_type": "code",
   "execution_count": 44,
   "id": "3fecf742",
   "metadata": {},
   "outputs": [],
   "source": [
    "from sklearn.ensemble import RandomForestClassifier"
   ]
  },
  {
   "cell_type": "code",
   "execution_count": 49,
   "id": "db88d050",
   "metadata": {},
   "outputs": [
    {
     "data": {
      "text/html": [
       "<style>#sk-container-id-3 {\n",
       "  /* Definition of color scheme common for light and dark mode */\n",
       "  --sklearn-color-text: #000;\n",
       "  --sklearn-color-text-muted: #666;\n",
       "  --sklearn-color-line: gray;\n",
       "  /* Definition of color scheme for unfitted estimators */\n",
       "  --sklearn-color-unfitted-level-0: #fff5e6;\n",
       "  --sklearn-color-unfitted-level-1: #f6e4d2;\n",
       "  --sklearn-color-unfitted-level-2: #ffe0b3;\n",
       "  --sklearn-color-unfitted-level-3: chocolate;\n",
       "  /* Definition of color scheme for fitted estimators */\n",
       "  --sklearn-color-fitted-level-0: #f0f8ff;\n",
       "  --sklearn-color-fitted-level-1: #d4ebff;\n",
       "  --sklearn-color-fitted-level-2: #b3dbfd;\n",
       "  --sklearn-color-fitted-level-3: cornflowerblue;\n",
       "\n",
       "  /* Specific color for light theme */\n",
       "  --sklearn-color-text-on-default-background: var(--sg-text-color, var(--theme-code-foreground, var(--jp-content-font-color1, black)));\n",
       "  --sklearn-color-background: var(--sg-background-color, var(--theme-background, var(--jp-layout-color0, white)));\n",
       "  --sklearn-color-border-box: var(--sg-text-color, var(--theme-code-foreground, var(--jp-content-font-color1, black)));\n",
       "  --sklearn-color-icon: #696969;\n",
       "\n",
       "  @media (prefers-color-scheme: dark) {\n",
       "    /* Redefinition of color scheme for dark theme */\n",
       "    --sklearn-color-text-on-default-background: var(--sg-text-color, var(--theme-code-foreground, var(--jp-content-font-color1, white)));\n",
       "    --sklearn-color-background: var(--sg-background-color, var(--theme-background, var(--jp-layout-color0, #111)));\n",
       "    --sklearn-color-border-box: var(--sg-text-color, var(--theme-code-foreground, var(--jp-content-font-color1, white)));\n",
       "    --sklearn-color-icon: #878787;\n",
       "  }\n",
       "}\n",
       "\n",
       "#sk-container-id-3 {\n",
       "  color: var(--sklearn-color-text);\n",
       "}\n",
       "\n",
       "#sk-container-id-3 pre {\n",
       "  padding: 0;\n",
       "}\n",
       "\n",
       "#sk-container-id-3 input.sk-hidden--visually {\n",
       "  border: 0;\n",
       "  clip: rect(1px 1px 1px 1px);\n",
       "  clip: rect(1px, 1px, 1px, 1px);\n",
       "  height: 1px;\n",
       "  margin: -1px;\n",
       "  overflow: hidden;\n",
       "  padding: 0;\n",
       "  position: absolute;\n",
       "  width: 1px;\n",
       "}\n",
       "\n",
       "#sk-container-id-3 div.sk-dashed-wrapped {\n",
       "  border: 1px dashed var(--sklearn-color-line);\n",
       "  margin: 0 0.4em 0.5em 0.4em;\n",
       "  box-sizing: border-box;\n",
       "  padding-bottom: 0.4em;\n",
       "  background-color: var(--sklearn-color-background);\n",
       "}\n",
       "\n",
       "#sk-container-id-3 div.sk-container {\n",
       "  /* jupyter's `normalize.less` sets `[hidden] { display: none; }`\n",
       "     but bootstrap.min.css set `[hidden] { display: none !important; }`\n",
       "     so we also need the `!important` here to be able to override the\n",
       "     default hidden behavior on the sphinx rendered scikit-learn.org.\n",
       "     See: https://github.com/scikit-learn/scikit-learn/issues/21755 */\n",
       "  display: inline-block !important;\n",
       "  position: relative;\n",
       "}\n",
       "\n",
       "#sk-container-id-3 div.sk-text-repr-fallback {\n",
       "  display: none;\n",
       "}\n",
       "\n",
       "div.sk-parallel-item,\n",
       "div.sk-serial,\n",
       "div.sk-item {\n",
       "  /* draw centered vertical line to link estimators */\n",
       "  background-image: linear-gradient(var(--sklearn-color-text-on-default-background), var(--sklearn-color-text-on-default-background));\n",
       "  background-size: 2px 100%;\n",
       "  background-repeat: no-repeat;\n",
       "  background-position: center center;\n",
       "}\n",
       "\n",
       "/* Parallel-specific style estimator block */\n",
       "\n",
       "#sk-container-id-3 div.sk-parallel-item::after {\n",
       "  content: \"\";\n",
       "  width: 100%;\n",
       "  border-bottom: 2px solid var(--sklearn-color-text-on-default-background);\n",
       "  flex-grow: 1;\n",
       "}\n",
       "\n",
       "#sk-container-id-3 div.sk-parallel {\n",
       "  display: flex;\n",
       "  align-items: stretch;\n",
       "  justify-content: center;\n",
       "  background-color: var(--sklearn-color-background);\n",
       "  position: relative;\n",
       "}\n",
       "\n",
       "#sk-container-id-3 div.sk-parallel-item {\n",
       "  display: flex;\n",
       "  flex-direction: column;\n",
       "}\n",
       "\n",
       "#sk-container-id-3 div.sk-parallel-item:first-child::after {\n",
       "  align-self: flex-end;\n",
       "  width: 50%;\n",
       "}\n",
       "\n",
       "#sk-container-id-3 div.sk-parallel-item:last-child::after {\n",
       "  align-self: flex-start;\n",
       "  width: 50%;\n",
       "}\n",
       "\n",
       "#sk-container-id-3 div.sk-parallel-item:only-child::after {\n",
       "  width: 0;\n",
       "}\n",
       "\n",
       "/* Serial-specific style estimator block */\n",
       "\n",
       "#sk-container-id-3 div.sk-serial {\n",
       "  display: flex;\n",
       "  flex-direction: column;\n",
       "  align-items: center;\n",
       "  background-color: var(--sklearn-color-background);\n",
       "  padding-right: 1em;\n",
       "  padding-left: 1em;\n",
       "}\n",
       "\n",
       "\n",
       "/* Toggleable style: style used for estimator/Pipeline/ColumnTransformer box that is\n",
       "clickable and can be expanded/collapsed.\n",
       "- Pipeline and ColumnTransformer use this feature and define the default style\n",
       "- Estimators will overwrite some part of the style using the `sk-estimator` class\n",
       "*/\n",
       "\n",
       "/* Pipeline and ColumnTransformer style (default) */\n",
       "\n",
       "#sk-container-id-3 div.sk-toggleable {\n",
       "  /* Default theme specific background. It is overwritten whether we have a\n",
       "  specific estimator or a Pipeline/ColumnTransformer */\n",
       "  background-color: var(--sklearn-color-background);\n",
       "}\n",
       "\n",
       "/* Toggleable label */\n",
       "#sk-container-id-3 label.sk-toggleable__label {\n",
       "  cursor: pointer;\n",
       "  display: flex;\n",
       "  width: 100%;\n",
       "  margin-bottom: 0;\n",
       "  padding: 0.5em;\n",
       "  box-sizing: border-box;\n",
       "  text-align: center;\n",
       "  align-items: start;\n",
       "  justify-content: space-between;\n",
       "  gap: 0.5em;\n",
       "}\n",
       "\n",
       "#sk-container-id-3 label.sk-toggleable__label .caption {\n",
       "  font-size: 0.6rem;\n",
       "  font-weight: lighter;\n",
       "  color: var(--sklearn-color-text-muted);\n",
       "}\n",
       "\n",
       "#sk-container-id-3 label.sk-toggleable__label-arrow:before {\n",
       "  /* Arrow on the left of the label */\n",
       "  content: \"▸\";\n",
       "  float: left;\n",
       "  margin-right: 0.25em;\n",
       "  color: var(--sklearn-color-icon);\n",
       "}\n",
       "\n",
       "#sk-container-id-3 label.sk-toggleable__label-arrow:hover:before {\n",
       "  color: var(--sklearn-color-text);\n",
       "}\n",
       "\n",
       "/* Toggleable content - dropdown */\n",
       "\n",
       "#sk-container-id-3 div.sk-toggleable__content {\n",
       "  max-height: 0;\n",
       "  max-width: 0;\n",
       "  overflow: hidden;\n",
       "  text-align: left;\n",
       "  /* unfitted */\n",
       "  background-color: var(--sklearn-color-unfitted-level-0);\n",
       "}\n",
       "\n",
       "#sk-container-id-3 div.sk-toggleable__content.fitted {\n",
       "  /* fitted */\n",
       "  background-color: var(--sklearn-color-fitted-level-0);\n",
       "}\n",
       "\n",
       "#sk-container-id-3 div.sk-toggleable__content pre {\n",
       "  margin: 0.2em;\n",
       "  border-radius: 0.25em;\n",
       "  color: var(--sklearn-color-text);\n",
       "  /* unfitted */\n",
       "  background-color: var(--sklearn-color-unfitted-level-0);\n",
       "}\n",
       "\n",
       "#sk-container-id-3 div.sk-toggleable__content.fitted pre {\n",
       "  /* unfitted */\n",
       "  background-color: var(--sklearn-color-fitted-level-0);\n",
       "}\n",
       "\n",
       "#sk-container-id-3 input.sk-toggleable__control:checked~div.sk-toggleable__content {\n",
       "  /* Expand drop-down */\n",
       "  max-height: 200px;\n",
       "  max-width: 100%;\n",
       "  overflow: auto;\n",
       "}\n",
       "\n",
       "#sk-container-id-3 input.sk-toggleable__control:checked~label.sk-toggleable__label-arrow:before {\n",
       "  content: \"▾\";\n",
       "}\n",
       "\n",
       "/* Pipeline/ColumnTransformer-specific style */\n",
       "\n",
       "#sk-container-id-3 div.sk-label input.sk-toggleable__control:checked~label.sk-toggleable__label {\n",
       "  color: var(--sklearn-color-text);\n",
       "  background-color: var(--sklearn-color-unfitted-level-2);\n",
       "}\n",
       "\n",
       "#sk-container-id-3 div.sk-label.fitted input.sk-toggleable__control:checked~label.sk-toggleable__label {\n",
       "  background-color: var(--sklearn-color-fitted-level-2);\n",
       "}\n",
       "\n",
       "/* Estimator-specific style */\n",
       "\n",
       "/* Colorize estimator box */\n",
       "#sk-container-id-3 div.sk-estimator input.sk-toggleable__control:checked~label.sk-toggleable__label {\n",
       "  /* unfitted */\n",
       "  background-color: var(--sklearn-color-unfitted-level-2);\n",
       "}\n",
       "\n",
       "#sk-container-id-3 div.sk-estimator.fitted input.sk-toggleable__control:checked~label.sk-toggleable__label {\n",
       "  /* fitted */\n",
       "  background-color: var(--sklearn-color-fitted-level-2);\n",
       "}\n",
       "\n",
       "#sk-container-id-3 div.sk-label label.sk-toggleable__label,\n",
       "#sk-container-id-3 div.sk-label label {\n",
       "  /* The background is the default theme color */\n",
       "  color: var(--sklearn-color-text-on-default-background);\n",
       "}\n",
       "\n",
       "/* On hover, darken the color of the background */\n",
       "#sk-container-id-3 div.sk-label:hover label.sk-toggleable__label {\n",
       "  color: var(--sklearn-color-text);\n",
       "  background-color: var(--sklearn-color-unfitted-level-2);\n",
       "}\n",
       "\n",
       "/* Label box, darken color on hover, fitted */\n",
       "#sk-container-id-3 div.sk-label.fitted:hover label.sk-toggleable__label.fitted {\n",
       "  color: var(--sklearn-color-text);\n",
       "  background-color: var(--sklearn-color-fitted-level-2);\n",
       "}\n",
       "\n",
       "/* Estimator label */\n",
       "\n",
       "#sk-container-id-3 div.sk-label label {\n",
       "  font-family: monospace;\n",
       "  font-weight: bold;\n",
       "  display: inline-block;\n",
       "  line-height: 1.2em;\n",
       "}\n",
       "\n",
       "#sk-container-id-3 div.sk-label-container {\n",
       "  text-align: center;\n",
       "}\n",
       "\n",
       "/* Estimator-specific */\n",
       "#sk-container-id-3 div.sk-estimator {\n",
       "  font-family: monospace;\n",
       "  border: 1px dotted var(--sklearn-color-border-box);\n",
       "  border-radius: 0.25em;\n",
       "  box-sizing: border-box;\n",
       "  margin-bottom: 0.5em;\n",
       "  /* unfitted */\n",
       "  background-color: var(--sklearn-color-unfitted-level-0);\n",
       "}\n",
       "\n",
       "#sk-container-id-3 div.sk-estimator.fitted {\n",
       "  /* fitted */\n",
       "  background-color: var(--sklearn-color-fitted-level-0);\n",
       "}\n",
       "\n",
       "/* on hover */\n",
       "#sk-container-id-3 div.sk-estimator:hover {\n",
       "  /* unfitted */\n",
       "  background-color: var(--sklearn-color-unfitted-level-2);\n",
       "}\n",
       "\n",
       "#sk-container-id-3 div.sk-estimator.fitted:hover {\n",
       "  /* fitted */\n",
       "  background-color: var(--sklearn-color-fitted-level-2);\n",
       "}\n",
       "\n",
       "/* Specification for estimator info (e.g. \"i\" and \"?\") */\n",
       "\n",
       "/* Common style for \"i\" and \"?\" */\n",
       "\n",
       ".sk-estimator-doc-link,\n",
       "a:link.sk-estimator-doc-link,\n",
       "a:visited.sk-estimator-doc-link {\n",
       "  float: right;\n",
       "  font-size: smaller;\n",
       "  line-height: 1em;\n",
       "  font-family: monospace;\n",
       "  background-color: var(--sklearn-color-background);\n",
       "  border-radius: 1em;\n",
       "  height: 1em;\n",
       "  width: 1em;\n",
       "  text-decoration: none !important;\n",
       "  margin-left: 0.5em;\n",
       "  text-align: center;\n",
       "  /* unfitted */\n",
       "  border: var(--sklearn-color-unfitted-level-1) 1pt solid;\n",
       "  color: var(--sklearn-color-unfitted-level-1);\n",
       "}\n",
       "\n",
       ".sk-estimator-doc-link.fitted,\n",
       "a:link.sk-estimator-doc-link.fitted,\n",
       "a:visited.sk-estimator-doc-link.fitted {\n",
       "  /* fitted */\n",
       "  border: var(--sklearn-color-fitted-level-1) 1pt solid;\n",
       "  color: var(--sklearn-color-fitted-level-1);\n",
       "}\n",
       "\n",
       "/* On hover */\n",
       "div.sk-estimator:hover .sk-estimator-doc-link:hover,\n",
       ".sk-estimator-doc-link:hover,\n",
       "div.sk-label-container:hover .sk-estimator-doc-link:hover,\n",
       ".sk-estimator-doc-link:hover {\n",
       "  /* unfitted */\n",
       "  background-color: var(--sklearn-color-unfitted-level-3);\n",
       "  color: var(--sklearn-color-background);\n",
       "  text-decoration: none;\n",
       "}\n",
       "\n",
       "div.sk-estimator.fitted:hover .sk-estimator-doc-link.fitted:hover,\n",
       ".sk-estimator-doc-link.fitted:hover,\n",
       "div.sk-label-container:hover .sk-estimator-doc-link.fitted:hover,\n",
       ".sk-estimator-doc-link.fitted:hover {\n",
       "  /* fitted */\n",
       "  background-color: var(--sklearn-color-fitted-level-3);\n",
       "  color: var(--sklearn-color-background);\n",
       "  text-decoration: none;\n",
       "}\n",
       "\n",
       "/* Span, style for the box shown on hovering the info icon */\n",
       ".sk-estimator-doc-link span {\n",
       "  display: none;\n",
       "  z-index: 9999;\n",
       "  position: relative;\n",
       "  font-weight: normal;\n",
       "  right: .2ex;\n",
       "  padding: .5ex;\n",
       "  margin: .5ex;\n",
       "  width: min-content;\n",
       "  min-width: 20ex;\n",
       "  max-width: 50ex;\n",
       "  color: var(--sklearn-color-text);\n",
       "  box-shadow: 2pt 2pt 4pt #999;\n",
       "  /* unfitted */\n",
       "  background: var(--sklearn-color-unfitted-level-0);\n",
       "  border: .5pt solid var(--sklearn-color-unfitted-level-3);\n",
       "}\n",
       "\n",
       ".sk-estimator-doc-link.fitted span {\n",
       "  /* fitted */\n",
       "  background: var(--sklearn-color-fitted-level-0);\n",
       "  border: var(--sklearn-color-fitted-level-3);\n",
       "}\n",
       "\n",
       ".sk-estimator-doc-link:hover span {\n",
       "  display: block;\n",
       "}\n",
       "\n",
       "/* \"?\"-specific style due to the `<a>` HTML tag */\n",
       "\n",
       "#sk-container-id-3 a.estimator_doc_link {\n",
       "  float: right;\n",
       "  font-size: 1rem;\n",
       "  line-height: 1em;\n",
       "  font-family: monospace;\n",
       "  background-color: var(--sklearn-color-background);\n",
       "  border-radius: 1rem;\n",
       "  height: 1rem;\n",
       "  width: 1rem;\n",
       "  text-decoration: none;\n",
       "  /* unfitted */\n",
       "  color: var(--sklearn-color-unfitted-level-1);\n",
       "  border: var(--sklearn-color-unfitted-level-1) 1pt solid;\n",
       "}\n",
       "\n",
       "#sk-container-id-3 a.estimator_doc_link.fitted {\n",
       "  /* fitted */\n",
       "  border: var(--sklearn-color-fitted-level-1) 1pt solid;\n",
       "  color: var(--sklearn-color-fitted-level-1);\n",
       "}\n",
       "\n",
       "/* On hover */\n",
       "#sk-container-id-3 a.estimator_doc_link:hover {\n",
       "  /* unfitted */\n",
       "  background-color: var(--sklearn-color-unfitted-level-3);\n",
       "  color: var(--sklearn-color-background);\n",
       "  text-decoration: none;\n",
       "}\n",
       "\n",
       "#sk-container-id-3 a.estimator_doc_link.fitted:hover {\n",
       "  /* fitted */\n",
       "  background-color: var(--sklearn-color-fitted-level-3);\n",
       "}\n",
       "</style><div id=\"sk-container-id-3\" class=\"sk-top-container\"><div class=\"sk-text-repr-fallback\"><pre>Pipeline(steps=[(&#x27;ctrasnf1&#x27;,\n",
       "                 ColumnTransformer(remainder=&#x27;passthrough&#x27;,\n",
       "                                   transformers=[(&#x27;imputer&#x27;, KNNImputer(),\n",
       "                                                  [&#x27;Age&#x27;, &#x27;SibSp&#x27;, &#x27;Parch&#x27;,\n",
       "                                                   &#x27;Fare&#x27;]),\n",
       "                                                 (&#x27;enc1&#x27;,\n",
       "                                                  OneHotEncoder(drop=&#x27;if_binary&#x27;),\n",
       "                                                  [&#x27;Sex&#x27;]),\n",
       "                                                 (&#x27;enc2&#x27;,\n",
       "                                                  OneHotEncoder(drop=&#x27;first&#x27;),\n",
       "                                                  [&#x27;Embarked&#x27;, &#x27;Pclass&#x27;]),\n",
       "                                                 (&#x27;enc3&#x27;,\n",
       "                                                  OneHotEncoder(categories=[[&#x27;Mr&#x27;,\n",
       "                                                                             &#x27;Mrs&#x27;,\n",
       "                                                                             &#x27;Miss&#x27;]],\n",
       "                                                                handle_unknown=&#x27;ignore&#x27;),\n",
       "                                                  [&#x27;Title&#x27;])])),\n",
       "                (&#x27;ctrasnf2&#x27;,\n",
       "                 ColumnTransformer(remainder=&#x27;passthrough&#x27;,\n",
       "                                   transformers=[(&#x27;yeo-johnson&#x27;,\n",
       "                                                  PowerTransformer(),\n",
       "                                                  [0, 3])])),\n",
       "                (&#x27;RFC&#x27;, RandomForestClassifier(random_state=99))])</pre><b>In a Jupyter environment, please rerun this cell to show the HTML representation or trust the notebook. <br />On GitHub, the HTML representation is unable to render, please try loading this page with nbviewer.org.</b></div><div class=\"sk-container\" hidden><div class=\"sk-item sk-dashed-wrapped\"><div class=\"sk-label-container\"><div class=\"sk-label fitted sk-toggleable\"><input class=\"sk-toggleable__control sk-hidden--visually\" id=\"sk-estimator-id-27\" type=\"checkbox\" ><label for=\"sk-estimator-id-27\" class=\"sk-toggleable__label fitted sk-toggleable__label-arrow\"><div><div>Pipeline</div></div><div><a class=\"sk-estimator-doc-link fitted\" rel=\"noreferrer\" target=\"_blank\" href=\"https://scikit-learn.org/1.6/modules/generated/sklearn.pipeline.Pipeline.html\">?<span>Documentation for Pipeline</span></a><span class=\"sk-estimator-doc-link fitted\">i<span>Fitted</span></span></div></label><div class=\"sk-toggleable__content fitted\"><pre>Pipeline(steps=[(&#x27;ctrasnf1&#x27;,\n",
       "                 ColumnTransformer(remainder=&#x27;passthrough&#x27;,\n",
       "                                   transformers=[(&#x27;imputer&#x27;, KNNImputer(),\n",
       "                                                  [&#x27;Age&#x27;, &#x27;SibSp&#x27;, &#x27;Parch&#x27;,\n",
       "                                                   &#x27;Fare&#x27;]),\n",
       "                                                 (&#x27;enc1&#x27;,\n",
       "                                                  OneHotEncoder(drop=&#x27;if_binary&#x27;),\n",
       "                                                  [&#x27;Sex&#x27;]),\n",
       "                                                 (&#x27;enc2&#x27;,\n",
       "                                                  OneHotEncoder(drop=&#x27;first&#x27;),\n",
       "                                                  [&#x27;Embarked&#x27;, &#x27;Pclass&#x27;]),\n",
       "                                                 (&#x27;enc3&#x27;,\n",
       "                                                  OneHotEncoder(categories=[[&#x27;Mr&#x27;,\n",
       "                                                                             &#x27;Mrs&#x27;,\n",
       "                                                                             &#x27;Miss&#x27;]],\n",
       "                                                                handle_unknown=&#x27;ignore&#x27;),\n",
       "                                                  [&#x27;Title&#x27;])])),\n",
       "                (&#x27;ctrasnf2&#x27;,\n",
       "                 ColumnTransformer(remainder=&#x27;passthrough&#x27;,\n",
       "                                   transformers=[(&#x27;yeo-johnson&#x27;,\n",
       "                                                  PowerTransformer(),\n",
       "                                                  [0, 3])])),\n",
       "                (&#x27;RFC&#x27;, RandomForestClassifier(random_state=99))])</pre></div> </div></div><div class=\"sk-serial\"><div class=\"sk-item sk-dashed-wrapped\"><div class=\"sk-label-container\"><div class=\"sk-label fitted sk-toggleable\"><input class=\"sk-toggleable__control sk-hidden--visually\" id=\"sk-estimator-id-28\" type=\"checkbox\" ><label for=\"sk-estimator-id-28\" class=\"sk-toggleable__label fitted sk-toggleable__label-arrow\"><div><div>ctrasnf1: ColumnTransformer</div></div><div><a class=\"sk-estimator-doc-link fitted\" rel=\"noreferrer\" target=\"_blank\" href=\"https://scikit-learn.org/1.6/modules/generated/sklearn.compose.ColumnTransformer.html\">?<span>Documentation for ctrasnf1: ColumnTransformer</span></a></div></label><div class=\"sk-toggleable__content fitted\"><pre>ColumnTransformer(remainder=&#x27;passthrough&#x27;,\n",
       "                  transformers=[(&#x27;imputer&#x27;, KNNImputer(),\n",
       "                                 [&#x27;Age&#x27;, &#x27;SibSp&#x27;, &#x27;Parch&#x27;, &#x27;Fare&#x27;]),\n",
       "                                (&#x27;enc1&#x27;, OneHotEncoder(drop=&#x27;if_binary&#x27;),\n",
       "                                 [&#x27;Sex&#x27;]),\n",
       "                                (&#x27;enc2&#x27;, OneHotEncoder(drop=&#x27;first&#x27;),\n",
       "                                 [&#x27;Embarked&#x27;, &#x27;Pclass&#x27;]),\n",
       "                                (&#x27;enc3&#x27;,\n",
       "                                 OneHotEncoder(categories=[[&#x27;Mr&#x27;, &#x27;Mrs&#x27;,\n",
       "                                                            &#x27;Miss&#x27;]],\n",
       "                                               handle_unknown=&#x27;ignore&#x27;),\n",
       "                                 [&#x27;Title&#x27;])])</pre></div> </div></div><div class=\"sk-parallel\"><div class=\"sk-parallel-item\"><div class=\"sk-item\"><div class=\"sk-label-container\"><div class=\"sk-label fitted sk-toggleable\"><input class=\"sk-toggleable__control sk-hidden--visually\" id=\"sk-estimator-id-29\" type=\"checkbox\" ><label for=\"sk-estimator-id-29\" class=\"sk-toggleable__label fitted sk-toggleable__label-arrow\"><div><div>imputer</div></div></label><div class=\"sk-toggleable__content fitted\"><pre>[&#x27;Age&#x27;, &#x27;SibSp&#x27;, &#x27;Parch&#x27;, &#x27;Fare&#x27;]</pre></div> </div></div><div class=\"sk-serial\"><div class=\"sk-item\"><div class=\"sk-estimator fitted sk-toggleable\"><input class=\"sk-toggleable__control sk-hidden--visually\" id=\"sk-estimator-id-30\" type=\"checkbox\" ><label for=\"sk-estimator-id-30\" class=\"sk-toggleable__label fitted sk-toggleable__label-arrow\"><div><div>KNNImputer</div></div><div><a class=\"sk-estimator-doc-link fitted\" rel=\"noreferrer\" target=\"_blank\" href=\"https://scikit-learn.org/1.6/modules/generated/sklearn.impute.KNNImputer.html\">?<span>Documentation for KNNImputer</span></a></div></label><div class=\"sk-toggleable__content fitted\"><pre>KNNImputer()</pre></div> </div></div></div></div></div><div class=\"sk-parallel-item\"><div class=\"sk-item\"><div class=\"sk-label-container\"><div class=\"sk-label fitted sk-toggleable\"><input class=\"sk-toggleable__control sk-hidden--visually\" id=\"sk-estimator-id-31\" type=\"checkbox\" ><label for=\"sk-estimator-id-31\" class=\"sk-toggleable__label fitted sk-toggleable__label-arrow\"><div><div>enc1</div></div></label><div class=\"sk-toggleable__content fitted\"><pre>[&#x27;Sex&#x27;]</pre></div> </div></div><div class=\"sk-serial\"><div class=\"sk-item\"><div class=\"sk-estimator fitted sk-toggleable\"><input class=\"sk-toggleable__control sk-hidden--visually\" id=\"sk-estimator-id-32\" type=\"checkbox\" ><label for=\"sk-estimator-id-32\" class=\"sk-toggleable__label fitted sk-toggleable__label-arrow\"><div><div>OneHotEncoder</div></div><div><a class=\"sk-estimator-doc-link fitted\" rel=\"noreferrer\" target=\"_blank\" href=\"https://scikit-learn.org/1.6/modules/generated/sklearn.preprocessing.OneHotEncoder.html\">?<span>Documentation for OneHotEncoder</span></a></div></label><div class=\"sk-toggleable__content fitted\"><pre>OneHotEncoder(drop=&#x27;if_binary&#x27;)</pre></div> </div></div></div></div></div><div class=\"sk-parallel-item\"><div class=\"sk-item\"><div class=\"sk-label-container\"><div class=\"sk-label fitted sk-toggleable\"><input class=\"sk-toggleable__control sk-hidden--visually\" id=\"sk-estimator-id-33\" type=\"checkbox\" ><label for=\"sk-estimator-id-33\" class=\"sk-toggleable__label fitted sk-toggleable__label-arrow\"><div><div>enc2</div></div></label><div class=\"sk-toggleable__content fitted\"><pre>[&#x27;Embarked&#x27;, &#x27;Pclass&#x27;]</pre></div> </div></div><div class=\"sk-serial\"><div class=\"sk-item\"><div class=\"sk-estimator fitted sk-toggleable\"><input class=\"sk-toggleable__control sk-hidden--visually\" id=\"sk-estimator-id-34\" type=\"checkbox\" ><label for=\"sk-estimator-id-34\" class=\"sk-toggleable__label fitted sk-toggleable__label-arrow\"><div><div>OneHotEncoder</div></div><div><a class=\"sk-estimator-doc-link fitted\" rel=\"noreferrer\" target=\"_blank\" href=\"https://scikit-learn.org/1.6/modules/generated/sklearn.preprocessing.OneHotEncoder.html\">?<span>Documentation for OneHotEncoder</span></a></div></label><div class=\"sk-toggleable__content fitted\"><pre>OneHotEncoder(drop=&#x27;first&#x27;)</pre></div> </div></div></div></div></div><div class=\"sk-parallel-item\"><div class=\"sk-item\"><div class=\"sk-label-container\"><div class=\"sk-label fitted sk-toggleable\"><input class=\"sk-toggleable__control sk-hidden--visually\" id=\"sk-estimator-id-35\" type=\"checkbox\" ><label for=\"sk-estimator-id-35\" class=\"sk-toggleable__label fitted sk-toggleable__label-arrow\"><div><div>enc3</div></div></label><div class=\"sk-toggleable__content fitted\"><pre>[&#x27;Title&#x27;]</pre></div> </div></div><div class=\"sk-serial\"><div class=\"sk-item\"><div class=\"sk-estimator fitted sk-toggleable\"><input class=\"sk-toggleable__control sk-hidden--visually\" id=\"sk-estimator-id-36\" type=\"checkbox\" ><label for=\"sk-estimator-id-36\" class=\"sk-toggleable__label fitted sk-toggleable__label-arrow\"><div><div>OneHotEncoder</div></div><div><a class=\"sk-estimator-doc-link fitted\" rel=\"noreferrer\" target=\"_blank\" href=\"https://scikit-learn.org/1.6/modules/generated/sklearn.preprocessing.OneHotEncoder.html\">?<span>Documentation for OneHotEncoder</span></a></div></label><div class=\"sk-toggleable__content fitted\"><pre>OneHotEncoder(categories=[[&#x27;Mr&#x27;, &#x27;Mrs&#x27;, &#x27;Miss&#x27;]], handle_unknown=&#x27;ignore&#x27;)</pre></div> </div></div></div></div></div><div class=\"sk-parallel-item\"><div class=\"sk-item\"><div class=\"sk-label-container\"><div class=\"sk-label fitted sk-toggleable\"><input class=\"sk-toggleable__control sk-hidden--visually\" id=\"sk-estimator-id-37\" type=\"checkbox\" ><label for=\"sk-estimator-id-37\" class=\"sk-toggleable__label fitted sk-toggleable__label-arrow\"><div><div>remainder</div></div></label><div class=\"sk-toggleable__content fitted\"><pre>[&#x27;hasCabin&#x27;]</pre></div> </div></div><div class=\"sk-serial\"><div class=\"sk-item\"><div class=\"sk-estimator fitted sk-toggleable\"><input class=\"sk-toggleable__control sk-hidden--visually\" id=\"sk-estimator-id-38\" type=\"checkbox\" ><label for=\"sk-estimator-id-38\" class=\"sk-toggleable__label fitted sk-toggleable__label-arrow\"><div><div>passthrough</div></div></label><div class=\"sk-toggleable__content fitted\"><pre>passthrough</pre></div> </div></div></div></div></div></div></div><div class=\"sk-item sk-dashed-wrapped\"><div class=\"sk-label-container\"><div class=\"sk-label fitted sk-toggleable\"><input class=\"sk-toggleable__control sk-hidden--visually\" id=\"sk-estimator-id-39\" type=\"checkbox\" ><label for=\"sk-estimator-id-39\" class=\"sk-toggleable__label fitted sk-toggleable__label-arrow\"><div><div>ctrasnf2: ColumnTransformer</div></div><div><a class=\"sk-estimator-doc-link fitted\" rel=\"noreferrer\" target=\"_blank\" href=\"https://scikit-learn.org/1.6/modules/generated/sklearn.compose.ColumnTransformer.html\">?<span>Documentation for ctrasnf2: ColumnTransformer</span></a></div></label><div class=\"sk-toggleable__content fitted\"><pre>ColumnTransformer(remainder=&#x27;passthrough&#x27;,\n",
       "                  transformers=[(&#x27;yeo-johnson&#x27;, PowerTransformer(), [0, 3])])</pre></div> </div></div><div class=\"sk-parallel\"><div class=\"sk-parallel-item\"><div class=\"sk-item\"><div class=\"sk-label-container\"><div class=\"sk-label fitted sk-toggleable\"><input class=\"sk-toggleable__control sk-hidden--visually\" id=\"sk-estimator-id-40\" type=\"checkbox\" ><label for=\"sk-estimator-id-40\" class=\"sk-toggleable__label fitted sk-toggleable__label-arrow\"><div><div>yeo-johnson</div></div></label><div class=\"sk-toggleable__content fitted\"><pre>[0, 3]</pre></div> </div></div><div class=\"sk-serial\"><div class=\"sk-item\"><div class=\"sk-estimator fitted sk-toggleable\"><input class=\"sk-toggleable__control sk-hidden--visually\" id=\"sk-estimator-id-41\" type=\"checkbox\" ><label for=\"sk-estimator-id-41\" class=\"sk-toggleable__label fitted sk-toggleable__label-arrow\"><div><div>PowerTransformer</div></div><div><a class=\"sk-estimator-doc-link fitted\" rel=\"noreferrer\" target=\"_blank\" href=\"https://scikit-learn.org/1.6/modules/generated/sklearn.preprocessing.PowerTransformer.html\">?<span>Documentation for PowerTransformer</span></a></div></label><div class=\"sk-toggleable__content fitted\"><pre>PowerTransformer()</pre></div> </div></div></div></div></div><div class=\"sk-parallel-item\"><div class=\"sk-item\"><div class=\"sk-label-container\"><div class=\"sk-label fitted sk-toggleable\"><input class=\"sk-toggleable__control sk-hidden--visually\" id=\"sk-estimator-id-42\" type=\"checkbox\" ><label for=\"sk-estimator-id-42\" class=\"sk-toggleable__label fitted sk-toggleable__label-arrow\"><div><div>remainder</div></div></label><div class=\"sk-toggleable__content fitted\"><pre>[1, 2, 4, 5, 6, 7, 8, 9, 10, 11, 12]</pre></div> </div></div><div class=\"sk-serial\"><div class=\"sk-item\"><div class=\"sk-estimator fitted sk-toggleable\"><input class=\"sk-toggleable__control sk-hidden--visually\" id=\"sk-estimator-id-43\" type=\"checkbox\" ><label for=\"sk-estimator-id-43\" class=\"sk-toggleable__label fitted sk-toggleable__label-arrow\"><div><div>passthrough</div></div></label><div class=\"sk-toggleable__content fitted\"><pre>passthrough</pre></div> </div></div></div></div></div></div></div><div class=\"sk-item\"><div class=\"sk-estimator fitted sk-toggleable\"><input class=\"sk-toggleable__control sk-hidden--visually\" id=\"sk-estimator-id-44\" type=\"checkbox\" ><label for=\"sk-estimator-id-44\" class=\"sk-toggleable__label fitted sk-toggleable__label-arrow\"><div><div>RandomForestClassifier</div></div><div><a class=\"sk-estimator-doc-link fitted\" rel=\"noreferrer\" target=\"_blank\" href=\"https://scikit-learn.org/1.6/modules/generated/sklearn.ensemble.RandomForestClassifier.html\">?<span>Documentation for RandomForestClassifier</span></a></div></label><div class=\"sk-toggleable__content fitted\"><pre>RandomForestClassifier(random_state=99)</pre></div> </div></div></div></div></div></div>"
      ],
      "text/plain": [
       "Pipeline(steps=[('ctrasnf1',\n",
       "                 ColumnTransformer(remainder='passthrough',\n",
       "                                   transformers=[('imputer', KNNImputer(),\n",
       "                                                  ['Age', 'SibSp', 'Parch',\n",
       "                                                   'Fare']),\n",
       "                                                 ('enc1',\n",
       "                                                  OneHotEncoder(drop='if_binary'),\n",
       "                                                  ['Sex']),\n",
       "                                                 ('enc2',\n",
       "                                                  OneHotEncoder(drop='first'),\n",
       "                                                  ['Embarked', 'Pclass']),\n",
       "                                                 ('enc3',\n",
       "                                                  OneHotEncoder(categories=[['Mr',\n",
       "                                                                             'Mrs',\n",
       "                                                                             'Miss']],\n",
       "                                                                handle_unknown='ignore'),\n",
       "                                                  ['Title'])])),\n",
       "                ('ctrasnf2',\n",
       "                 ColumnTransformer(remainder='passthrough',\n",
       "                                   transformers=[('yeo-johnson',\n",
       "                                                  PowerTransformer(),\n",
       "                                                  [0, 3])])),\n",
       "                ('RFC', RandomForestClassifier(random_state=99))])"
      ]
     },
     "execution_count": 49,
     "metadata": {},
     "output_type": "execute_result"
    }
   ],
   "source": [
    "# Create a pipeline with preprocessing and model training steps\n",
    "\n",
    "X = df4[num_cols + cat_cols]\n",
    "y = df4[\"Survived\"]\n",
    "\n",
    "seed = 99\n",
    "\n",
    "X_train, X_test, y_train, y_test = train_test_split(X, y, test_size=0.2, random_state=seed)\n",
    "\n",
    "alg = RandomForestClassifier(random_state=seed)\n",
    "\n",
    "ctrasnf1 = ColumnTransformer([\n",
    "    (\"imputer\", KNNImputer(n_neighbors=5), ['Age', 'SibSp', 'Parch', 'Fare']),\n",
    "    (\"enc1\", OneHotEncoder(drop=\"if_binary\"), [\"Sex\"]),\n",
    "    (\"enc2\", OneHotEncoder(drop=\"first\"), [\"Embarked\", 'Pclass']),\n",
    "    (\"enc3\", OneHotEncoder(categories=titles, handle_unknown=\"ignore\"), [\"Title\"])\n",
    "    ], remainder=\"passthrough\" # Keep the rest of the columns unchanged\n",
    ")\n",
    "\n",
    "\n",
    "ctrasnf2 = ColumnTransformer([\n",
    "    # Transform the \"Fare\" column using the Yeo-Johnson method. The [0, 3] indicates the indices of the columns to be transformed which are imputer__Age and imputer__Fare. Check output of \"model.steps[0][1].get_feature_names_out()\" to find the names of the indexes.\n",
    "    (\"yeo-johnson\", PowerTransformer(method=\"yeo-johnson\"), [0, 3])\n",
    "    ], remainder=\"passthrough\" # Keep the rest of the columns unchanged\n",
    ")\n",
    "\n",
    "model = Pipeline([\n",
    "    (\"ctrasnf1\", ctrasnf1),\n",
    "    (\"ctrasnf2\", ctrasnf2),    \n",
    "    (\"RFC\", alg)\n",
    "])\n",
    "\n",
    "model.fit(X_train, y_train)"
   ]
  },
  {
   "cell_type": "code",
   "execution_count": 50,
   "id": "f154748b",
   "metadata": {},
   "outputs": [
    {
     "data": {
      "text/plain": [
       "array(['imputer__Age', 'imputer__SibSp', 'imputer__Parch',\n",
       "       'imputer__Fare', 'enc1__Sex_male', 'enc2__Embarked_Q',\n",
       "       'enc2__Embarked_S', 'enc2__Pclass_2.0', 'enc2__Pclass_3.0',\n",
       "       'enc3__Title_Mr', 'enc3__Title_Mrs', 'enc3__Title_Miss',\n",
       "       'remainder__hasCabin'], dtype=object)"
      ]
     },
     "execution_count": 50,
     "metadata": {},
     "output_type": "execute_result"
    }
   ],
   "source": [
    "model.steps[0][1].get_feature_names_out()"
   ]
  },
  {
   "cell_type": "code",
   "execution_count": 51,
   "id": "31a19f99",
   "metadata": {},
   "outputs": [
    {
     "name": "stdout",
     "output_type": "stream",
     "text": [
      "Accuracy Score: 0.8037974683544303\n"
     ]
    }
   ],
   "source": [
    "y_hat = model.predict(X_test)\n",
    "print(\"Accuracy Score: \" + str(accuracy_score(y_true=y_test, y_pred=y_hat)))"
   ]
  }
 ],
 "metadata": {
  "kernelspec": {
   "display_name": "venvml",
   "language": "python",
   "name": "python3"
  },
  "language_info": {
   "codemirror_mode": {
    "name": "ipython",
    "version": 3
   },
   "file_extension": ".py",
   "mimetype": "text/x-python",
   "name": "python",
   "nbconvert_exporter": "python",
   "pygments_lexer": "ipython3",
   "version": "3.12.4"
  }
 },
 "nbformat": 4,
 "nbformat_minor": 5
}
