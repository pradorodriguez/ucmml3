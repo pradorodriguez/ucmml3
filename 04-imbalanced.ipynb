{
 "cells": [
  {
   "cell_type": "markdown",
   "id": "d958146e",
   "metadata": {},
   "source": [
    "# Working with Imbalanced Datasets"
   ]
  },
  {
   "cell_type": "markdown",
   "id": "f4a5dd71",
   "metadata": {},
   "source": [
    "* [imbalanced-learn documentation](https://imbalanced-learn.org/stable/)\n",
    "\n",
    "Imbalanced-learn (imported as imblearn) is an open source, MIT-licensed library relying on scikit-learn (imported as sklearn) and provides tools when dealing with classification with imbalanced classes."
   ]
  },
  {
   "cell_type": "code",
   "execution_count": 1,
   "id": "d3037d26",
   "metadata": {},
   "outputs": [],
   "source": [
    "# Libraries\n",
    "import warnings\n",
    "\n",
    "import pandas as pd\n",
    "import numpy as np\n",
    "import matplotlib.pyplot as plt\n",
    "import seaborn as sns"
   ]
  },
  {
   "cell_type": "code",
   "execution_count": 2,
   "id": "1609fcbc",
   "metadata": {},
   "outputs": [],
   "source": [
    "# Remove warning logging\n",
    "warnings.filterwarnings(\"ignore\")\n",
    "\n",
    "# Set the seaborn style\n",
    "sns.set(style=\"darkgrid\")"
   ]
  },
  {
   "cell_type": "code",
   "execution_count": 3,
   "id": "15cd5e46",
   "metadata": {},
   "outputs": [
    {
     "data": {
      "application/vnd.microsoft.datawrangler.viewer.v0+json": {
       "columns": [
        {
         "name": "index",
         "rawType": "int64",
         "type": "integer"
        },
        {
         "name": "Pregnancies",
         "rawType": "int64",
         "type": "integer"
        },
        {
         "name": "Glucose",
         "rawType": "int64",
         "type": "integer"
        },
        {
         "name": "BloodPressure",
         "rawType": "int64",
         "type": "integer"
        },
        {
         "name": "SkinThickness",
         "rawType": "int64",
         "type": "integer"
        },
        {
         "name": "Insulin",
         "rawType": "int64",
         "type": "integer"
        },
        {
         "name": "BMI",
         "rawType": "float64",
         "type": "float"
        },
        {
         "name": "Pedigree",
         "rawType": "float64",
         "type": "float"
        },
        {
         "name": "Age",
         "rawType": "int64",
         "type": "integer"
        },
        {
         "name": "Diabetes",
         "rawType": "int64",
         "type": "integer"
        }
       ],
       "ref": "a059e39d-7349-4084-b6e7-c6ace1d0e3f6",
       "rows": [
        [
         "0",
         "10",
         "129",
         "76",
         "28",
         "122",
         "35.9",
         "0.28",
         "39",
         "0"
        ],
        [
         "1",
         "4",
         "84",
         "90",
         "23",
         "56",
         "39.5",
         "0.159",
         "25",
         "0"
        ],
        [
         "2",
         "0",
         "84",
         "82",
         "31",
         "125",
         "38.2",
         "0.233",
         "23",
         "0"
        ],
        [
         "3",
         "9",
         "134",
         "74",
         "33",
         "60",
         "25.9",
         "0.46",
         "81",
         "0"
        ],
        [
         "4",
         "0",
         "124",
         "56",
         "13",
         "105",
         "21.8",
         "0.452",
         "21",
         "0"
        ]
       ],
       "shape": {
        "columns": 9,
        "rows": 5
       }
      },
      "text/html": [
       "<div>\n",
       "<style scoped>\n",
       "    .dataframe tbody tr th:only-of-type {\n",
       "        vertical-align: middle;\n",
       "    }\n",
       "\n",
       "    .dataframe tbody tr th {\n",
       "        vertical-align: top;\n",
       "    }\n",
       "\n",
       "    .dataframe thead th {\n",
       "        text-align: right;\n",
       "    }\n",
       "</style>\n",
       "<table border=\"1\" class=\"dataframe\">\n",
       "  <thead>\n",
       "    <tr style=\"text-align: right;\">\n",
       "      <th></th>\n",
       "      <th>Pregnancies</th>\n",
       "      <th>Glucose</th>\n",
       "      <th>BloodPressure</th>\n",
       "      <th>SkinThickness</th>\n",
       "      <th>Insulin</th>\n",
       "      <th>BMI</th>\n",
       "      <th>Pedigree</th>\n",
       "      <th>Age</th>\n",
       "      <th>Diabetes</th>\n",
       "    </tr>\n",
       "  </thead>\n",
       "  <tbody>\n",
       "    <tr>\n",
       "      <th>0</th>\n",
       "      <td>10</td>\n",
       "      <td>129</td>\n",
       "      <td>76</td>\n",
       "      <td>28</td>\n",
       "      <td>122</td>\n",
       "      <td>35.9</td>\n",
       "      <td>0.280</td>\n",
       "      <td>39</td>\n",
       "      <td>0</td>\n",
       "    </tr>\n",
       "    <tr>\n",
       "      <th>1</th>\n",
       "      <td>4</td>\n",
       "      <td>84</td>\n",
       "      <td>90</td>\n",
       "      <td>23</td>\n",
       "      <td>56</td>\n",
       "      <td>39.5</td>\n",
       "      <td>0.159</td>\n",
       "      <td>25</td>\n",
       "      <td>0</td>\n",
       "    </tr>\n",
       "    <tr>\n",
       "      <th>2</th>\n",
       "      <td>0</td>\n",
       "      <td>84</td>\n",
       "      <td>82</td>\n",
       "      <td>31</td>\n",
       "      <td>125</td>\n",
       "      <td>38.2</td>\n",
       "      <td>0.233</td>\n",
       "      <td>23</td>\n",
       "      <td>0</td>\n",
       "    </tr>\n",
       "    <tr>\n",
       "      <th>3</th>\n",
       "      <td>9</td>\n",
       "      <td>134</td>\n",
       "      <td>74</td>\n",
       "      <td>33</td>\n",
       "      <td>60</td>\n",
       "      <td>25.9</td>\n",
       "      <td>0.460</td>\n",
       "      <td>81</td>\n",
       "      <td>0</td>\n",
       "    </tr>\n",
       "    <tr>\n",
       "      <th>4</th>\n",
       "      <td>0</td>\n",
       "      <td>124</td>\n",
       "      <td>56</td>\n",
       "      <td>13</td>\n",
       "      <td>105</td>\n",
       "      <td>21.8</td>\n",
       "      <td>0.452</td>\n",
       "      <td>21</td>\n",
       "      <td>0</td>\n",
       "    </tr>\n",
       "  </tbody>\n",
       "</table>\n",
       "</div>"
      ],
      "text/plain": [
       "   Pregnancies  Glucose  BloodPressure  SkinThickness  Insulin   BMI  \\\n",
       "0           10      129             76             28      122  35.9   \n",
       "1            4       84             90             23       56  39.5   \n",
       "2            0       84             82             31      125  38.2   \n",
       "3            9      134             74             33       60  25.9   \n",
       "4            0      124             56             13      105  21.8   \n",
       "\n",
       "   Pedigree  Age  Diabetes  \n",
       "0     0.280   39         0  \n",
       "1     0.159   25         0  \n",
       "2     0.233   23         0  \n",
       "3     0.460   81         0  \n",
       "4     0.452   21         0  "
      ]
     },
     "execution_count": 3,
     "metadata": {},
     "output_type": "execute_result"
    }
   ],
   "source": [
    "# Load Dataset\n",
    "df = pd.read_csv(\"diabetes.csv\")\n",
    "df.head()"
   ]
  },
  {
   "cell_type": "code",
   "execution_count": 4,
   "id": "5041dd25",
   "metadata": {},
   "outputs": [
    {
     "data": {
      "text/plain": [
       "(550, 9)"
      ]
     },
     "execution_count": 4,
     "metadata": {},
     "output_type": "execute_result"
    }
   ],
   "source": [
    "df.shape"
   ]
  },
  {
   "cell_type": "markdown",
   "id": "5691ed46",
   "metadata": {},
   "source": [
    "## Data Preprocessing"
   ]
  },
  {
   "cell_type": "code",
   "execution_count": 5,
   "id": "70f95053",
   "metadata": {},
   "outputs": [
    {
     "name": "stdout",
     "output_type": "stream",
     "text": [
      "Summary of Missing Values: Pregnancies      0\n",
      "Glucose          0\n",
      "BloodPressure    0\n",
      "SkinThickness    0\n",
      "Insulin          0\n",
      "BMI              0\n",
      "Pedigree         0\n",
      "Age              0\n",
      "Diabetes         0\n",
      "dtype: int64\n"
     ]
    }
   ],
   "source": [
    "# Drop duplicates\n",
    "# df.duplicated().sum() # Check for duplicates\n",
    "df.drop_duplicates(inplace=True)\n",
    "\n",
    "# Drop rows with missing values\n",
    "print(f\"Summary of Missing Values: {df.isnull().sum()}\") # Check for missing values"
   ]
  },
  {
   "cell_type": "markdown",
   "id": "39e21671",
   "metadata": {},
   "source": [
    "## View Data Balance/Imbalanced"
   ]
  },
  {
   "cell_type": "code",
   "execution_count": 6,
   "id": "d706a96a",
   "metadata": {},
   "outputs": [
    {
     "data": {
      "application/vnd.microsoft.datawrangler.viewer.v0+json": {
       "columns": [
        {
         "name": "Diabetes",
         "rawType": "int64",
         "type": "integer"
        },
        {
         "name": "0",
         "rawType": "int64",
         "type": "integer"
        }
       ],
       "ref": "5d4ec48d-10a0-4785-8357-b9401a773cbd",
       "rows": [
        [
         "0",
         "500"
        ],
        [
         "1",
         "21"
        ]
       ],
       "shape": {
        "columns": 1,
        "rows": 2
       }
      },
      "text/plain": [
       "Diabetes\n",
       "0    500\n",
       "1     21\n",
       "dtype: int64"
      ]
     },
     "execution_count": 6,
     "metadata": {},
     "output_type": "execute_result"
    }
   ],
   "source": [
    "df.groupby('Diabetes').size()"
   ]
  },
  {
   "cell_type": "markdown",
   "id": "b1d54c52",
   "metadata": {},
   "source": [
    "## Enfoque Clasico"
   ]
  },
  {
   "cell_type": "code",
   "execution_count": 7,
   "id": "2cf835d7",
   "metadata": {},
   "outputs": [],
   "source": [
    "from sklearn.model_selection import train_test_split\n",
    "from sklearn.linear_model import LogisticRegression\n",
    "from sklearn.tree import DecisionTreeClassifier\n",
    "from sklearn.ensemble import RandomForestClassifier\n",
    "from sklearn.neighbors import KNeighborsClassifier\n",
    "from sklearn.metrics import *\n"
   ]
  },
  {
   "cell_type": "code",
   "execution_count": 8,
   "id": "097f0528",
   "metadata": {},
   "outputs": [
    {
     "name": "stdout",
     "output_type": "stream",
     "text": [
      "Count of 0s: 100\n",
      "Count of 1s: 5\n"
     ]
    }
   ],
   "source": [
    "X = df.drop(columns=['Diabetes'])\n",
    "y = df['Diabetes']\n",
    "\n",
    "seed = 15\n",
    "X_train, X_test, y_train, y_test = train_test_split(X, y, test_size=0.2, random_state=seed)\n",
    "\n",
    "# Count the 0s and 1s in the target variable y_test\n",
    "print(f\"Count of 0s: {y_test.value_counts()[0]}\")\n",
    "print(f\"Count of 1s: {y_test.value_counts()[1]}\")\n",
    "\n",
    "# # Other option to count the 0s and 1s in the target variable y_test\n",
    "# print(f\"Count of 0s: {np.count_nonzero(y_test == 0)}\")\n",
    "# print(f\"Count of 1s: {np.count_nonzero(y_test == 1)}\")\n"
   ]
  },
  {
   "cell_type": "code",
   "execution_count": 9,
   "id": "e73ab2a3",
   "metadata": {},
   "outputs": [],
   "source": [
    "# Define the models in a list\n",
    "models = []\n",
    "models.append(('LR', LogisticRegression(random_state=seed)))\n",
    "models.append(('KNN', KNeighborsClassifier()))\n",
    "models.append(('DTC', DecisionTreeClassifier(random_state=seed)))\n",
    "models.append(('RFC', RandomForestClassifier(random_state=seed)))"
   ]
  },
  {
   "cell_type": "code",
   "execution_count": 10,
   "id": "a70b8192",
   "metadata": {},
   "outputs": [
    {
     "name": "stdout",
     "output_type": "stream",
     "text": [
      "- Model LR - Accuracy: 0.95 - Precision: 0.00 - Recall: 0.00\n",
      "  Confusion Matrix:\n",
      "  [[100   0]\n",
      " [  5   0]]\n",
      "- Model KNN - Accuracy: 0.95 - Precision: 0.00 - Recall: 0.00\n",
      "  Confusion Matrix:\n",
      "  [[100   0]\n",
      " [  5   0]]\n",
      "- Model DTC - Accuracy: 0.94 - Precision: 0.40 - Recall: 0.40\n",
      "  Confusion Matrix:\n",
      "  [[97  3]\n",
      " [ 3  2]]\n",
      "- Model RFC - Accuracy: 0.93 - Precision: 0.00 - Recall: 0.00\n",
      "  Confusion Matrix:\n",
      "  [[98  2]\n",
      " [ 5  0]]\n"
     ]
    }
   ],
   "source": [
    "# Fit the model\n",
    "# The model is fit to the training data\n",
    "# The model learns the relationship between X_train and y_train\n",
    "# The model is trained on the data\n",
    "for name, model in models:\n",
    "    model.fit(X_train, y_train)\n",
    "    y_hat = model.predict(X_test)\n",
    "    acc = accuracy_score(y_pred=y_hat, y_true=y_test)\n",
    "    pre = precision_score(y_pred=y_hat, y_true=y_test)\n",
    "    rec = recall_score(y_pred=y_hat, y_true=y_test)\n",
    "    print(f\"- Model {name} - Accuracy: {acc:.2f} - Precision: {pre:.2f} - Recall: {rec:.2f}\")\n",
    "    print(f\"  Confusion Matrix:\\n  {confusion_matrix(y_pred=y_hat, y_true=y_test)}\")\n"
   ]
  },
  {
   "cell_type": "markdown",
   "id": "15b3b620",
   "metadata": {},
   "source": [
    "### Results Summary\n",
    "\n",
    "The previous results showcase the performance of multiple classification models on the imbalanced diabetes dataset. The models evaluated include Logistic Regression (LR), K-Nearest Neighbors (KNN), Decision Tree Classifier (DTC), and Random Forest Classifier (RFC). The dataset was split into training and testing sets, with a random seed of 15 to ensure reproducibility.\n",
    "\n",
    "Key observations:\n",
    "- The dataset contains 521 entries with 8 features and a target variable (`Diabetes`), which is highly imbalanced (500 instances of class 0 and 21 instances of class 1).\n",
    "- After training, the models were evaluated on the test set (`X_test`, `y_test`) using accuracy and confusion matrices.\n",
    "- The Random Forest Classifier (RFC) achieved the highest accuracy of 93.33% on the test set.\n",
    "\n",
    "The imbalance in the dataset may affect the performance of the models, particularly in predicting the minority class (class 1). Further techniques, such as resampling or using specialized algorithms, could be explored to address this issue."
   ]
  },
  {
   "cell_type": "markdown",
   "id": "f2b6263a",
   "metadata": {},
   "source": [
    "## Estrategia Seleccion Muestreo 1: Stratify\n",
    "\n",
    "What is Stratified sampling?\n",
    "\n",
    "Stratified sampling is a sampling technique in which the population is subdivided into groups based on specific characteristics relevant to the problem before sampling. The samples are drawn from this group with ample sizes proportional to the size of the subgroup in the population and combined to form the final sample. The purpose is to ensure that all subgroup is represented proportionally in the final sample.\n",
    "\n",
    "Stratified sampling is particularly useful when there are known variations within the population that could significantly impact the model results.\n",
    "\n",
    "* [Scikit Learn - cross-validation-iterators-with-stratification-based-on-class-labels](https://scikit-learn.org/stable/modules/cross_validation.html#cross-validation-iterators-with-stratification-based-on-class-labels)\n",
    "* [Scikit Learn - train_test_split](https://scikit-learn.org/stable/modules/generated/sklearn.model_selection.train_test_split.html)\n",
    "\n"
   ]
  },
  {
   "cell_type": "code",
   "execution_count": 15,
   "id": "32d81f3f",
   "metadata": {},
   "outputs": [],
   "source": [
    "from sklearn.model_selection import GridSearchCV, StratifiedKFold"
   ]
  },
  {
   "cell_type": "code",
   "execution_count": 19,
   "id": "5ef8fea5",
   "metadata": {},
   "outputs": [
    {
     "name": "stdout",
     "output_type": "stream",
     "text": [
      "y_test:\n",
      "  Count of 0s: 101\n",
      "  Count of 1s: 4\n"
     ]
    },
    {
     "data": {
      "application/vnd.microsoft.datawrangler.viewer.v0+json": {
       "columns": [
        {
         "name": "index",
         "rawType": "int64",
         "type": "integer"
        },
        {
         "name": "Pregnancies",
         "rawType": "int64",
         "type": "integer"
        },
        {
         "name": "Glucose",
         "rawType": "int64",
         "type": "integer"
        },
        {
         "name": "BloodPressure",
         "rawType": "int64",
         "type": "integer"
        },
        {
         "name": "SkinThickness",
         "rawType": "int64",
         "type": "integer"
        },
        {
         "name": "Insulin",
         "rawType": "int64",
         "type": "integer"
        },
        {
         "name": "BMI",
         "rawType": "float64",
         "type": "float"
        },
        {
         "name": "Pedigree",
         "rawType": "float64",
         "type": "float"
        },
        {
         "name": "Age",
         "rawType": "int64",
         "type": "integer"
        }
       ],
       "ref": "fc72f2a0-9dca-49e8-ac54-626df1bebdc1",
       "rows": [
        [
         "56",
         "1",
         "97",
         "70",
         "15",
         "0",
         "18.2",
         "0.147",
         "21"
        ],
        [
         "296",
         "6",
         "96",
         "0",
         "0",
         "0",
         "23.7",
         "0.19",
         "28"
        ],
        [
         "519",
         "1",
         "0",
         "74",
         "20",
         "23",
         "27.7",
         "0.299",
         "21"
        ],
        [
         "203",
         "2",
         "56",
         "56",
         "28",
         "45",
         "24.2",
         "0.332",
         "22"
        ],
        [
         "211",
         "3",
         "129",
         "92",
         "49",
         "155",
         "36.4",
         "0.968",
         "32"
        ],
        [
         "373",
         "1",
         "124",
         "74",
         "36",
         "0",
         "27.8",
         "0.1",
         "30"
        ],
        [
         "460",
         "1",
         "116",
         "78",
         "29",
         "180",
         "36.1",
         "0.496",
         "25"
        ],
        [
         "267",
         "2",
         "98",
         "60",
         "17",
         "120",
         "34.7",
         "0.198",
         "22"
        ],
        [
         "165",
         "6",
         "114",
         "88",
         "0",
         "0",
         "27.8",
         "0.247",
         "66"
        ],
        [
         "70",
         "12",
         "121",
         "78",
         "17",
         "0",
         "26.5",
         "0.259",
         "62"
        ],
        [
         "245",
         "4",
         "137",
         "84",
         "0",
         "0",
         "31.2",
         "0.252",
         "30"
        ],
        [
         "116",
         "1",
         "114",
         "66",
         "36",
         "200",
         "38.1",
         "0.289",
         "21"
        ],
        [
         "479",
         "1",
         "71",
         "62",
         "0",
         "0",
         "21.8",
         "0.416",
         "26"
        ],
        [
         "134",
         "5",
         "158",
         "70",
         "0",
         "0",
         "29.8",
         "0.207",
         "63"
        ],
        [
         "97",
         "8",
         "126",
         "88",
         "36",
         "108",
         "38.5",
         "0.349",
         "49"
        ],
        [
         "437",
         "10",
         "133",
         "68",
         "0",
         "0",
         "27.0",
         "0.245",
         "36"
        ],
        [
         "270",
         "3",
         "148",
         "66",
         "25",
         "0",
         "32.5",
         "0.256",
         "22"
        ],
        [
         "234",
         "2",
         "122",
         "52",
         "43",
         "158",
         "36.2",
         "0.816",
         "28"
        ],
        [
         "420",
         "0",
         "131",
         "66",
         "40",
         "0",
         "34.3",
         "0.196",
         "22"
        ],
        [
         "196",
         "3",
         "96",
         "78",
         "39",
         "0",
         "37.3",
         "0.238",
         "40"
        ],
        [
         "244",
         "0",
         "105",
         "64",
         "41",
         "142",
         "41.5",
         "0.173",
         "22"
        ],
        [
         "126",
         "1",
         "143",
         "84",
         "23",
         "310",
         "42.4",
         "1.076",
         "22"
        ],
        [
         "338",
         "10",
         "115",
         "98",
         "0",
         "0",
         "24.0",
         "1.022",
         "34"
        ],
        [
         "60",
         "3",
         "81",
         "86",
         "16",
         "66",
         "27.5",
         "0.306",
         "22"
        ],
        [
         "255",
         "0",
         "100",
         "88",
         "60",
         "110",
         "46.8",
         "0.962",
         "31"
        ],
        [
         "133",
         "1",
         "97",
         "66",
         "15",
         "140",
         "23.2",
         "0.487",
         "22"
        ],
        [
         "316",
         "5",
         "106",
         "82",
         "30",
         "0",
         "39.5",
         "0.286",
         "38"
        ],
        [
         "85",
         "5",
         "128",
         "80",
         "0",
         "0",
         "34.6",
         "0.144",
         "45"
        ],
        [
         "174",
         "2",
         "105",
         "58",
         "40",
         "94",
         "34.9",
         "0.225",
         "25"
        ],
        [
         "253",
         "11",
         "85",
         "74",
         "0",
         "0",
         "30.1",
         "0.3",
         "35"
        ],
        [
         "459",
         "2",
         "105",
         "75",
         "0",
         "0",
         "23.3",
         "0.56",
         "53"
        ],
        [
         "275",
         "6",
         "151",
         "62",
         "31",
         "120",
         "35.5",
         "0.692",
         "28"
        ],
        [
         "266",
         "2",
         "127",
         "46",
         "21",
         "335",
         "34.4",
         "0.176",
         "22"
        ],
        [
         "154",
         "12",
         "140",
         "85",
         "33",
         "0",
         "37.4",
         "0.244",
         "41"
        ],
        [
         "45",
         "0",
         "104",
         "76",
         "0",
         "0",
         "18.4",
         "0.582",
         "27"
        ],
        [
         "150",
         "2",
         "130",
         "96",
         "0",
         "0",
         "22.6",
         "0.268",
         "21"
        ],
        [
         "75",
         "6",
         "144",
         "72",
         "27",
         "228",
         "33.9",
         "0.255",
         "40"
        ],
        [
         "228",
         "4",
         "123",
         "80",
         "15",
         "176",
         "32.0",
         "0.443",
         "34"
        ],
        [
         "388",
         "0",
         "165",
         "76",
         "43",
         "255",
         "47.9",
         "0.259",
         "26"
        ],
        [
         "214",
         "1",
         "90",
         "62",
         "12",
         "43",
         "27.2",
         "0.58",
         "24"
        ],
        [
         "77",
         "1",
         "112",
         "80",
         "45",
         "132",
         "34.8",
         "0.217",
         "24"
        ],
        [
         "106",
         "6",
         "105",
         "70",
         "32",
         "68",
         "30.8",
         "0.122",
         "37"
        ],
        [
         "412",
         "1",
         "136",
         "74",
         "50",
         "204",
         "37.4",
         "0.399",
         "24"
        ],
        [
         "472",
         "10",
         "75",
         "82",
         "0",
         "0",
         "33.3",
         "0.263",
         "38"
        ],
        [
         "31",
         "0",
         "137",
         "68",
         "14",
         "148",
         "24.8",
         "0.143",
         "21"
        ],
        [
         "64",
         "1",
         "138",
         "82",
         "0",
         "0",
         "40.1",
         "0.236",
         "28"
        ],
        [
         "236",
         "2",
         "146",
         "76",
         "35",
         "194",
         "38.2",
         "0.329",
         "29"
        ],
        [
         "144",
         "5",
         "109",
         "75",
         "26",
         "0",
         "36.0",
         "0.546",
         "60"
        ],
        [
         "81",
         "1",
         "109",
         "38",
         "18",
         "120",
         "23.1",
         "0.407",
         "26"
        ],
        [
         "249",
         "7",
         "137",
         "90",
         "41",
         "0",
         "32.0",
         "0.391",
         "39"
        ]
       ],
       "shape": {
        "columns": 8,
        "rows": 105
       }
      },
      "text/html": [
       "<div>\n",
       "<style scoped>\n",
       "    .dataframe tbody tr th:only-of-type {\n",
       "        vertical-align: middle;\n",
       "    }\n",
       "\n",
       "    .dataframe tbody tr th {\n",
       "        vertical-align: top;\n",
       "    }\n",
       "\n",
       "    .dataframe thead th {\n",
       "        text-align: right;\n",
       "    }\n",
       "</style>\n",
       "<table border=\"1\" class=\"dataframe\">\n",
       "  <thead>\n",
       "    <tr style=\"text-align: right;\">\n",
       "      <th></th>\n",
       "      <th>Pregnancies</th>\n",
       "      <th>Glucose</th>\n",
       "      <th>BloodPressure</th>\n",
       "      <th>SkinThickness</th>\n",
       "      <th>Insulin</th>\n",
       "      <th>BMI</th>\n",
       "      <th>Pedigree</th>\n",
       "      <th>Age</th>\n",
       "    </tr>\n",
       "  </thead>\n",
       "  <tbody>\n",
       "    <tr>\n",
       "      <th>56</th>\n",
       "      <td>1</td>\n",
       "      <td>97</td>\n",
       "      <td>70</td>\n",
       "      <td>15</td>\n",
       "      <td>0</td>\n",
       "      <td>18.2</td>\n",
       "      <td>0.147</td>\n",
       "      <td>21</td>\n",
       "    </tr>\n",
       "    <tr>\n",
       "      <th>296</th>\n",
       "      <td>6</td>\n",
       "      <td>96</td>\n",
       "      <td>0</td>\n",
       "      <td>0</td>\n",
       "      <td>0</td>\n",
       "      <td>23.7</td>\n",
       "      <td>0.190</td>\n",
       "      <td>28</td>\n",
       "    </tr>\n",
       "    <tr>\n",
       "      <th>519</th>\n",
       "      <td>1</td>\n",
       "      <td>0</td>\n",
       "      <td>74</td>\n",
       "      <td>20</td>\n",
       "      <td>23</td>\n",
       "      <td>27.7</td>\n",
       "      <td>0.299</td>\n",
       "      <td>21</td>\n",
       "    </tr>\n",
       "    <tr>\n",
       "      <th>203</th>\n",
       "      <td>2</td>\n",
       "      <td>56</td>\n",
       "      <td>56</td>\n",
       "      <td>28</td>\n",
       "      <td>45</td>\n",
       "      <td>24.2</td>\n",
       "      <td>0.332</td>\n",
       "      <td>22</td>\n",
       "    </tr>\n",
       "    <tr>\n",
       "      <th>211</th>\n",
       "      <td>3</td>\n",
       "      <td>129</td>\n",
       "      <td>92</td>\n",
       "      <td>49</td>\n",
       "      <td>155</td>\n",
       "      <td>36.4</td>\n",
       "      <td>0.968</td>\n",
       "      <td>32</td>\n",
       "    </tr>\n",
       "    <tr>\n",
       "      <th>...</th>\n",
       "      <td>...</td>\n",
       "      <td>...</td>\n",
       "      <td>...</td>\n",
       "      <td>...</td>\n",
       "      <td>...</td>\n",
       "      <td>...</td>\n",
       "      <td>...</td>\n",
       "      <td>...</td>\n",
       "    </tr>\n",
       "    <tr>\n",
       "      <th>314</th>\n",
       "      <td>2</td>\n",
       "      <td>112</td>\n",
       "      <td>66</td>\n",
       "      <td>22</td>\n",
       "      <td>0</td>\n",
       "      <td>25.0</td>\n",
       "      <td>0.307</td>\n",
       "      <td>24</td>\n",
       "    </tr>\n",
       "    <tr>\n",
       "      <th>375</th>\n",
       "      <td>6</td>\n",
       "      <td>92</td>\n",
       "      <td>92</td>\n",
       "      <td>0</td>\n",
       "      <td>0</td>\n",
       "      <td>19.9</td>\n",
       "      <td>0.188</td>\n",
       "      <td>28</td>\n",
       "    </tr>\n",
       "    <tr>\n",
       "      <th>47</th>\n",
       "      <td>0</td>\n",
       "      <td>102</td>\n",
       "      <td>86</td>\n",
       "      <td>17</td>\n",
       "      <td>105</td>\n",
       "      <td>29.3</td>\n",
       "      <td>0.695</td>\n",
       "      <td>27</td>\n",
       "    </tr>\n",
       "    <tr>\n",
       "      <th>107</th>\n",
       "      <td>6</td>\n",
       "      <td>183</td>\n",
       "      <td>94</td>\n",
       "      <td>0</td>\n",
       "      <td>0</td>\n",
       "      <td>40.8</td>\n",
       "      <td>1.461</td>\n",
       "      <td>45</td>\n",
       "    </tr>\n",
       "    <tr>\n",
       "      <th>256</th>\n",
       "      <td>3</td>\n",
       "      <td>99</td>\n",
       "      <td>62</td>\n",
       "      <td>19</td>\n",
       "      <td>74</td>\n",
       "      <td>21.8</td>\n",
       "      <td>0.279</td>\n",
       "      <td>26</td>\n",
       "    </tr>\n",
       "  </tbody>\n",
       "</table>\n",
       "<p>105 rows × 8 columns</p>\n",
       "</div>"
      ],
      "text/plain": [
       "     Pregnancies  Glucose  BloodPressure  SkinThickness  Insulin   BMI  \\\n",
       "56             1       97             70             15        0  18.2   \n",
       "296            6       96              0              0        0  23.7   \n",
       "519            1        0             74             20       23  27.7   \n",
       "203            2       56             56             28       45  24.2   \n",
       "211            3      129             92             49      155  36.4   \n",
       "..           ...      ...            ...            ...      ...   ...   \n",
       "314            2      112             66             22        0  25.0   \n",
       "375            6       92             92              0        0  19.9   \n",
       "47             0      102             86             17      105  29.3   \n",
       "107            6      183             94              0        0  40.8   \n",
       "256            3       99             62             19       74  21.8   \n",
       "\n",
       "     Pedigree  Age  \n",
       "56      0.147   21  \n",
       "296     0.190   28  \n",
       "519     0.299   21  \n",
       "203     0.332   22  \n",
       "211     0.968   32  \n",
       "..        ...  ...  \n",
       "314     0.307   24  \n",
       "375     0.188   28  \n",
       "47      0.695   27  \n",
       "107     1.461   45  \n",
       "256     0.279   26  \n",
       "\n",
       "[105 rows x 8 columns]"
      ]
     },
     "execution_count": 19,
     "metadata": {},
     "output_type": "execute_result"
    }
   ],
   "source": [
    "X = df.drop(columns=['Diabetes'])\n",
    "y = df['Diabetes']\n",
    "\n",
    "seed = 99\n",
    "\n",
    "# Stratified sampling ensures that the proportion of classes in the target variable is maintained in both training and testing sets\n",
    "X_train, X_test, y_train, y_test = train_test_split(X, y, test_size=0.2, random_state=seed, stratify=y)\n",
    "\n",
    "# Count the 0s and 1s in the target variable y_test\n",
    "print(\"y_test:\")\n",
    "print(f\"  Count of 0s: {y_test.value_counts()[0]}\")\n",
    "print(f\"  Count of 1s: {y_test.value_counts()[1]}\")\n",
    "\n",
    "X_test"
   ]
  },
  {
   "cell_type": "code",
   "execution_count": null,
   "id": "41bc00b9",
   "metadata": {},
   "outputs": [
    {
     "name": "stdout",
     "output_type": "stream",
     "text": [
      "- Model LR - Accuracy: 0.95 - Precision: 0.00 - Recall: 0.00\n",
      "- Model KNN - Accuracy: 0.95 - Precision: 0.00 - Recall: 0.00\n",
      "- Model DTC - Accuracy: 0.95 - Precision: 0.00 - Recall: 0.00\n",
      "- Model RFC - Accuracy: 0.95 - Precision: 0.00 - Recall: 0.00\n"
     ]
    }
   ],
   "source": [
    "# Fit the model\n",
    "# The model is fit to the training data\n",
    "# The model learns the relationship between X_train and y_train\n",
    "for name, alg in models:\n",
    "    grid_model = GridSearchCV(\n",
    "            estimator=alg,\n",
    "            param_grid = {},\n",
    "            #param_grid={'n_neighbors': [3, 5, 7, 9], 'weights': ['uniform', 'distance']},\n",
    "            scoring='f1',\n",
    "            cv=StratifiedKFold(n_splits=5, shuffle=True, random_state=seed)\n",
    "            #verbose=0,\n",
    "            #n_jobs=-1\n",
    "        )\n",
    "    grid_model.fit(X_train, y_train)\n",
    "    y_hat = grid_model.predict(X_test)\n",
    "    acc = accuracy_score(y_pred=y_hat, y_true=y_test)\n",
    "    pre = precision_score(y_pred=y_hat, y_true=y_test)\n",
    "    rec = recall_score(y_pred=y_hat, y_true=y_test)\n",
    "    print(f\"- Model {name} - Accuracy: {acc:.2f} - Precision: {pre:.2f} - Recall: {rec:.2f}\")\n",
    "    #print(f\"  Confusion Matrix:\\n  {confusion_matrix(y_pred=y_hat, y_true=y_test)}\")"
   ]
  },
  {
   "cell_type": "markdown",
   "id": "3b8fdace",
   "metadata": {},
   "source": [
    "## Estrategia Seleccion Muestreo 2: Random Over Sampling\n",
    "\n",
    "Over-sampling is a technique used to address class imbalance in datasets—where one class (e.g., \"fraudulent transactions\") is significantly underrepresented compared to another (e.g., \"legitimate transactions\").\n",
    "\n",
    "What It Does: Over-sampling increases the number of instances in the minority class to balance the dataset. This helps models learn the characteristics of both classes more effectively and reduces bias toward the majority class.\n",
    "\n",
    "* [Imbalanced-learn - over_sampling](https://imbalanced-learn.org/stable/over_sampling.html)"
   ]
  }
 ],
 "metadata": {
  "kernelspec": {
   "display_name": "venvml",
   "language": "python",
   "name": "python3"
  },
  "language_info": {
   "codemirror_mode": {
    "name": "ipython",
    "version": 3
   },
   "file_extension": ".py",
   "mimetype": "text/x-python",
   "name": "python",
   "nbconvert_exporter": "python",
   "pygments_lexer": "ipython3",
   "version": "3.12.4"
  }
 },
 "nbformat": 4,
 "nbformat_minor": 5
}
