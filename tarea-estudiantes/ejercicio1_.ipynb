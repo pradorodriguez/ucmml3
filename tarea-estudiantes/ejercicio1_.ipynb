{
 "cells": [
  {
   "cell_type": "markdown",
   "metadata": {
    "id": "W-8uXTooUUmW",
    "nbgrader": {
     "grade": false,
     "grade_id": "cell-cda383df8cb6d4c8",
     "locked": true,
     "schema_version": 3,
     "solution": false,
     "task": false
    }
   },
   "source": [
    "# Lista 1 de Ejercicios\n",
    "\n",
    "### Objetivo:\n",
    "Estos ejercicios pretenden poner en práctica la habilidad del estudiante para crear un modelo sencillo pero completo _end2end_ con la librería __sklearn__ mediante el uso de transformadores _ad hoc_, una batería de algoritmos y un tuneado de parámetros.\n",
    "\n",
    "### Tarea del estudiante:\n",
    "\n",
    "#### Lee detenidamente las siguientes instrucciones\n",
    "En cada trozo de código debes responder a la pregunta formulada, asegurándote de que el resultado queda guardado en la(s) variable(s) indicadas que, por defecto, vienen inicializadas a `None`. Puedes usar variables intermedias siempre que el resultado final del cálculo quede guardado exactamente en la variable que indica el enunciado (debes reemplazar `None` el código necesario, pero nunca cambiar el nombre de las variables ya creadas).\n",
    "\n",
    "Después de cada apartado verás _celdas de control_. Ejecútalas todas y no modifiques su código. Éstas te dirán si tu solución va por buen camino. Así, si la solución es incorrecta, verás un error indicando cuál es el _assert_ que tu solución no pasa. Además de esas pruebas, se realizarán algunas más (ocultas) a la hora de puntuar el ejercicio. \n",
    "\n",
    "Una vez finalizada la actividad, guarda tu fichero, ciérralo con `File -> Close and Halt`, y después vuélvelo a abrir y ejecútalo completo pinchando en `Cell -> Run All Cells`, y **asegúrate de que no se lanza ningún error. De esta manera comprobarás que no has olvidado nada y que es posible ejecutarlo completo desde 0 y sin errores**. Finalmente, **TODO EL CÓDIGO DEBE ESTAR EJECUTADO (EN ORDEN) EN EL FICHERO QUE ENTREGÁIS**. \n",
    "\n",
    "RECUERDA SUBIR CADA UNO DE LOS FICHEROS .ipynb TAL CUAL (sueltos), SIN COMPRIMIR Y SIN CAMBIARLES EL NOMBRE. Los ficheros subidos deben tener **exactamente el mismo nombre de fichero que tenían cuando los recibiste**. No subas ningún PDF ni ningún fichero ZIP ni nada similar. La plataforma ya los separa automáticamente en carpetas que traen el nombre y apellidos del alumno, por lo que NO es necesario que lo pongas en ninguna parte. \n",
    "\n",
    "### Evaluación: \n",
    "Esta tarea tiene una puntuación de 6 puntos. \n",
    "La suma de todos los puntos obtenidas de todos los notebooks se ponderará sobre 10 puntos para computar la nota final del estudiante."
   ]
  },
  {
   "cell_type": "markdown",
   "metadata": {
    "id": "gowiYIOXUUmZ",
    "nbgrader": {
     "grade": false,
     "grade_id": "cell-92c0068a2d864a37",
     "locked": true,
     "schema_version": 3,
     "solution": false,
     "task": false
    }
   },
   "source": [
    "## Parte 0: Inicialización\n",
    "\n",
    "En esta parte, simplemente cargamos las librerías que vamos a utilizar y establecemos una semilla para controlar la reproducibilidad del ejercicio."
   ]
  },
  {
   "cell_type": "code",
   "execution_count": 1,
   "metadata": {
    "id": "6JXGOtlJUUma",
    "nbgrader": {
     "grade": false,
     "grade_id": "cell-2b31a8dd6b3e3a96",
     "locked": true,
     "schema_version": 3,
     "solution": false,
     "task": false
    }
   },
   "outputs": [],
   "source": [
    "\"\"\" Librerías \"\"\"\n",
    "\n",
    "import pandas as pd\n",
    "import numpy as np\n",
    "import matplotlib\n",
    "import matplotlib.pyplot as plt\n",
    "import seaborn as sns\n",
    "import warnings\n",
    "import sys\n",
    "\n",
    "sns.set_style('darkgrid')\n",
    "np.set_printoptions(precision=2)\n",
    "warnings.filterwarnings(\"ignore\")\n",
    "\n",
    "import sklearn\n",
    "from sklearn.preprocessing import MinMaxScaler, StandardScaler, Normalizer, Binarizer, RobustScaler\n",
    "from sklearn.compose import ColumnTransformer\n",
    "from sklearn.preprocessing import OneHotEncoder, LabelEncoder, PowerTransformer\n",
    "from sklearn.impute import SimpleImputer, KNNImputer\n",
    "\n",
    "from sklearn.feature_selection import SelectKBest, chi2, RFE\n",
    "from sklearn.model_selection import train_test_split\n",
    "from sklearn.pipeline import make_pipeline, Pipeline\n",
    "from sklearn.decomposition import PCA\n",
    "\n",
    "from sklearn.linear_model import LogisticRegression\n",
    "from sklearn.tree import DecisionTreeClassifier\n",
    "from sklearn.neighbors import KNeighborsClassifier\n",
    "from sklearn.discriminant_analysis import LinearDiscriminantAnalysis\n",
    "from sklearn.naive_bayes import GaussianNB\n",
    "from sklearn.ensemble import RandomForestClassifier, ExtraTreesClassifier\n",
    "from sklearn.svm import SVC\n",
    "\n",
    "from sklearn.metrics import accuracy_score, confusion_matrix, classification_report, f1_score\n",
    "\n",
    "from sklearn.model_selection import KFold, ShuffleSplit, LeaveOneOut, StratifiedKFold\n",
    "from sklearn.model_selection import cross_val_score, cross_val_predict\n",
    "from sklearn.model_selection import GridSearchCV, RandomizedSearchCV\n",
    "\n",
    "\"\"\" Semilla \"\"\"\n",
    "\n",
    "seed = 99"
   ]
  },
  {
   "cell_type": "markdown",
   "metadata": {
    "id": "AKOzIkTqUUmb",
    "nbgrader": {
     "grade": false,
     "grade_id": "cell-5caddb1cf9987481",
     "locked": true,
     "schema_version": 3,
     "solution": false,
     "task": false
    },
    "tags": []
   },
   "source": [
    "Comprobamos que tenemos el entorno virtual correctamente creado en la siguiente celda. Si fallase alguno de los *asserts*, significaría que no tenemos la versión correcta:"
   ]
  },
  {
   "cell_type": "code",
   "execution_count": null,
   "metadata": {
    "id": "Xq6LPl2vUUmb",
    "nbgrader": {
     "grade": false,
     "grade_id": "cell-47005dd7124d3ce0",
     "locked": true,
     "schema_version": 3,
     "solution": false,
     "task": false
    },
    "tags": []
   },
   "outputs": [],
   "source": [
    "assert sys.version[0:4] == '3.10'\n",
    "assert sklearn.__version__ == '1.5.2'\n",
    "assert matplotlib.__version__ == '3.9.2'\n",
    "assert sns.__version__ == '0.13.2'\n",
    "assert pd.__version__ == '2.2.3'\n",
    "assert np.__version__ == '2.1.2'"
   ]
  },
  {
   "cell_type": "markdown",
   "metadata": {
    "id": "oSHmqHJoUUmc",
    "nbgrader": {
     "grade": false,
     "grade_id": "cell-10be221aff2f7589",
     "locked": true,
     "schema_version": 3,
     "solution": false,
     "task": false
    }
   },
   "source": [
    "## Parte 1: Lectura y transformación de datos (1.5 puntos)\n",
    "\n",
    "En esta parte, principalmente, cargaremos los datos de un repositorio git y realizaremos una breve limpieza de los datos para conseguir un dataframe listo.\n",
    "\n",
    "Utilizaremos dos variables: _data_, para la lectura original del fichero, y _df_ que será con la que avancemos en la tarea."
   ]
  },
  {
   "cell_type": "code",
   "execution_count": 20,
   "metadata": {
    "id": "3M2xWrXjUUmc",
    "nbgrader": {
     "grade": false,
     "grade_id": "cell-be098d50c51cc25e",
     "locked": true,
     "schema_version": 3,
     "solution": false,
     "task": false
    },
    "outputId": "f73ed916-4f50-46ff-d7ab-80c9d2c036f6"
   },
   "outputs": [
    {
     "name": "stdout",
     "output_type": "stream",
     "text": [
      "Número de filas: 891, Número de columnas:13\n"
     ]
    },
    {
     "data": {
      "application/vnd.microsoft.datawrangler.viewer.v0+json": {
       "columns": [
        {
         "name": "index",
         "rawType": "int64",
         "type": "integer"
        },
        {
         "name": "PassengerId",
         "rawType": "int64",
         "type": "integer"
        },
        {
         "name": "Survived",
         "rawType": "int64",
         "type": "integer"
        },
        {
         "name": "Pclass",
         "rawType": "int64",
         "type": "integer"
        },
        {
         "name": "Name",
         "rawType": "object",
         "type": "string"
        },
        {
         "name": "Sex",
         "rawType": "object",
         "type": "string"
        },
        {
         "name": "Age",
         "rawType": "float64",
         "type": "float"
        },
        {
         "name": "SibSp",
         "rawType": "int64",
         "type": "integer"
        },
        {
         "name": "Parch",
         "rawType": "int64",
         "type": "integer"
        },
        {
         "name": "Ticket",
         "rawType": "object",
         "type": "string"
        },
        {
         "name": "Fare",
         "rawType": "float64",
         "type": "float"
        },
        {
         "name": "Cabin",
         "rawType": "object",
         "type": "unknown"
        },
        {
         "name": "Embarked",
         "rawType": "object",
         "type": "string"
        },
        {
         "name": "Title",
         "rawType": "object",
         "type": "string"
        }
       ],
       "ref": "a58aa193-f068-469a-b5fd-6892e44d0356",
       "rows": [
        [
         "0",
         "1",
         "0",
         "3",
         "Braund, Mr. Owen Harris",
         "male",
         "22.0",
         "1",
         "0",
         "A/5 21171",
         "7.25",
         null,
         "S",
         "Mr"
        ],
        [
         "1",
         "2",
         "1",
         "1",
         "Cumings, Mrs. John Bradley (Florence Briggs Thayer)",
         "female",
         "38.0",
         "1",
         "0",
         "PC 17599",
         "71.2833",
         "C85",
         "C",
         "Mrs"
        ],
        [
         "2",
         "3",
         "1",
         "3",
         "Heikkinen, Miss. Laina",
         "female",
         "26.0",
         "0",
         "0",
         "STON/O2. 3101282",
         "7.925",
         null,
         "S",
         "Miss"
        ],
        [
         "3",
         "4",
         "1",
         "1",
         "Futrelle, Mrs. Jacques Heath (Lily May Peel)",
         "female",
         "35.0",
         "1",
         "0",
         "113803",
         "53.1",
         "C123",
         "S",
         "Mrs"
        ],
        [
         "4",
         "5",
         "0",
         "3",
         "Allen, Mr. William Henry",
         "male",
         "35.0",
         "0",
         "0",
         "373450",
         "8.05",
         null,
         "S",
         "Mr"
        ]
       ],
       "shape": {
        "columns": 13,
        "rows": 5
       }
      },
      "text/html": [
       "<div>\n",
       "<style scoped>\n",
       "    .dataframe tbody tr th:only-of-type {\n",
       "        vertical-align: middle;\n",
       "    }\n",
       "\n",
       "    .dataframe tbody tr th {\n",
       "        vertical-align: top;\n",
       "    }\n",
       "\n",
       "    .dataframe thead th {\n",
       "        text-align: right;\n",
       "    }\n",
       "</style>\n",
       "<table border=\"1\" class=\"dataframe\">\n",
       "  <thead>\n",
       "    <tr style=\"text-align: right;\">\n",
       "      <th></th>\n",
       "      <th>PassengerId</th>\n",
       "      <th>Survived</th>\n",
       "      <th>Pclass</th>\n",
       "      <th>Name</th>\n",
       "      <th>Sex</th>\n",
       "      <th>Age</th>\n",
       "      <th>SibSp</th>\n",
       "      <th>Parch</th>\n",
       "      <th>Ticket</th>\n",
       "      <th>Fare</th>\n",
       "      <th>Cabin</th>\n",
       "      <th>Embarked</th>\n",
       "      <th>Title</th>\n",
       "    </tr>\n",
       "  </thead>\n",
       "  <tbody>\n",
       "    <tr>\n",
       "      <th>0</th>\n",
       "      <td>1</td>\n",
       "      <td>0</td>\n",
       "      <td>3</td>\n",
       "      <td>Braund, Mr. Owen Harris</td>\n",
       "      <td>male</td>\n",
       "      <td>22.0</td>\n",
       "      <td>1</td>\n",
       "      <td>0</td>\n",
       "      <td>A/5 21171</td>\n",
       "      <td>7.2500</td>\n",
       "      <td>NaN</td>\n",
       "      <td>S</td>\n",
       "      <td>Mr</td>\n",
       "    </tr>\n",
       "    <tr>\n",
       "      <th>1</th>\n",
       "      <td>2</td>\n",
       "      <td>1</td>\n",
       "      <td>1</td>\n",
       "      <td>Cumings, Mrs. John Bradley (Florence Briggs Th...</td>\n",
       "      <td>female</td>\n",
       "      <td>38.0</td>\n",
       "      <td>1</td>\n",
       "      <td>0</td>\n",
       "      <td>PC 17599</td>\n",
       "      <td>71.2833</td>\n",
       "      <td>C85</td>\n",
       "      <td>C</td>\n",
       "      <td>Mrs</td>\n",
       "    </tr>\n",
       "    <tr>\n",
       "      <th>2</th>\n",
       "      <td>3</td>\n",
       "      <td>1</td>\n",
       "      <td>3</td>\n",
       "      <td>Heikkinen, Miss. Laina</td>\n",
       "      <td>female</td>\n",
       "      <td>26.0</td>\n",
       "      <td>0</td>\n",
       "      <td>0</td>\n",
       "      <td>STON/O2. 3101282</td>\n",
       "      <td>7.9250</td>\n",
       "      <td>NaN</td>\n",
       "      <td>S</td>\n",
       "      <td>Miss</td>\n",
       "    </tr>\n",
       "    <tr>\n",
       "      <th>3</th>\n",
       "      <td>4</td>\n",
       "      <td>1</td>\n",
       "      <td>1</td>\n",
       "      <td>Futrelle, Mrs. Jacques Heath (Lily May Peel)</td>\n",
       "      <td>female</td>\n",
       "      <td>35.0</td>\n",
       "      <td>1</td>\n",
       "      <td>0</td>\n",
       "      <td>113803</td>\n",
       "      <td>53.1000</td>\n",
       "      <td>C123</td>\n",
       "      <td>S</td>\n",
       "      <td>Mrs</td>\n",
       "    </tr>\n",
       "    <tr>\n",
       "      <th>4</th>\n",
       "      <td>5</td>\n",
       "      <td>0</td>\n",
       "      <td>3</td>\n",
       "      <td>Allen, Mr. William Henry</td>\n",
       "      <td>male</td>\n",
       "      <td>35.0</td>\n",
       "      <td>0</td>\n",
       "      <td>0</td>\n",
       "      <td>373450</td>\n",
       "      <td>8.0500</td>\n",
       "      <td>NaN</td>\n",
       "      <td>S</td>\n",
       "      <td>Mr</td>\n",
       "    </tr>\n",
       "  </tbody>\n",
       "</table>\n",
       "</div>"
      ],
      "text/plain": [
       "   PassengerId  Survived  Pclass  \\\n",
       "0            1         0       3   \n",
       "1            2         1       1   \n",
       "2            3         1       3   \n",
       "3            4         1       1   \n",
       "4            5         0       3   \n",
       "\n",
       "                                                Name     Sex   Age  SibSp  \\\n",
       "0                            Braund, Mr. Owen Harris    male  22.0      1   \n",
       "1  Cumings, Mrs. John Bradley (Florence Briggs Th...  female  38.0      1   \n",
       "2                             Heikkinen, Miss. Laina  female  26.0      0   \n",
       "3       Futrelle, Mrs. Jacques Heath (Lily May Peel)  female  35.0      1   \n",
       "4                           Allen, Mr. William Henry    male  35.0      0   \n",
       "\n",
       "   Parch            Ticket     Fare Cabin Embarked Title  \n",
       "0      0         A/5 21171   7.2500   NaN        S    Mr  \n",
       "1      0          PC 17599  71.2833   C85        C   Mrs  \n",
       "2      0  STON/O2. 3101282   7.9250   NaN        S  Miss  \n",
       "3      0            113803  53.1000  C123        S   Mrs  \n",
       "4      0            373450   8.0500   NaN        S    Mr  "
      ]
     },
     "execution_count": 20,
     "metadata": {},
     "output_type": "execute_result"
    }
   ],
   "source": [
    "data = pd.read_csv('https://raw.githubusercontent.com/eduardofc/data/main/titanic-2.csv')\n",
    "\n",
    "print(f'Número de filas: {data.shape[0]}, Número de columnas:{data.shape[1]}')\n",
    "df = data.copy()\n",
    "df.head()"
   ]
  },
  {
   "cell_type": "markdown",
   "metadata": {
    "id": "zqEEaXa6UUmc",
    "nbgrader": {
     "grade": false,
     "grade_id": "cell-64175d2b3447c676",
     "locked": true,
     "schema_version": 3,
     "solution": false,
     "task": false
    }
   },
   "source": [
    "Se pide en esta celda, crear una columna adicional, llamada _hasCabin_, que tome valor 0 si la columna _Cabin_ es nula, y 1 si no lo es. Después, eliminar las columnas _PassengerId_, _Name_, _Cabin_ y _Ticket_."
   ]
  },
  {
   "cell_type": "code",
   "execution_count": 21,
   "metadata": {
    "id": "kuV69i4rUUmd",
    "nbgrader": {
     "grade": false,
     "grade_id": "cell-c7ef6992fce2559c",
     "locked": false,
     "schema_version": 3,
     "solution": true,
     "task": false
    }
   },
   "outputs": [],
   "source": [
    "### Codigo del estudiante\n",
    "df[\"Cabin\"] = df[\"Cabin\"].fillna(0)\n",
    "df[\"hasCabin\"] = df[\"Cabin\"].apply(lambda x: 0 if x == 0 else 1)\n",
    "df.drop(columns=['PassengerId', 'Name', 'Cabin', 'Ticket'], inplace=True)\n"
   ]
  },
  {
   "cell_type": "markdown",
   "metadata": {
    "id": "ZozQNmTSUUmd",
    "nbgrader": {
     "grade": false,
     "grade_id": "cell-d10f5e9f81acdbfd",
     "locked": true,
     "schema_version": 3,
     "solution": false,
     "task": false
    }
   },
   "source": [
    "Celda de control:"
   ]
  },
  {
   "cell_type": "code",
   "execution_count": 22,
   "metadata": {
    "id": "zRQ6WC_xUUmd",
    "nbgrader": {
     "grade": true,
     "grade_id": "cell-89f26803095da375",
     "locked": true,
     "points": 1,
     "schema_version": 3,
     "solution": false,
     "task": false
    },
    "outputId": "b538d26e-aae4-4298-9d85-7812382ffb6c"
   },
   "outputs": [
    {
     "data": {
      "application/vnd.microsoft.datawrangler.viewer.v0+json": {
       "columns": [
        {
         "name": "index",
         "rawType": "int64",
         "type": "integer"
        },
        {
         "name": "Survived",
         "rawType": "int64",
         "type": "integer"
        },
        {
         "name": "Pclass",
         "rawType": "int64",
         "type": "integer"
        },
        {
         "name": "Sex",
         "rawType": "object",
         "type": "string"
        },
        {
         "name": "Age",
         "rawType": "float64",
         "type": "float"
        },
        {
         "name": "SibSp",
         "rawType": "int64",
         "type": "integer"
        },
        {
         "name": "Parch",
         "rawType": "int64",
         "type": "integer"
        },
        {
         "name": "Fare",
         "rawType": "float64",
         "type": "float"
        },
        {
         "name": "Embarked",
         "rawType": "object",
         "type": "string"
        },
        {
         "name": "Title",
         "rawType": "object",
         "type": "string"
        },
        {
         "name": "hasCabin",
         "rawType": "int64",
         "type": "integer"
        }
       ],
       "ref": "0594e023-9fbd-48ff-823a-bd48ef943fc6",
       "rows": [
        [
         "0",
         "0",
         "3",
         "male",
         "22.0",
         "1",
         "0",
         "7.25",
         "S",
         "Mr",
         "0"
        ],
        [
         "1",
         "1",
         "1",
         "female",
         "38.0",
         "1",
         "0",
         "71.2833",
         "C",
         "Mrs",
         "1"
        ],
        [
         "2",
         "1",
         "3",
         "female",
         "26.0",
         "0",
         "0",
         "7.925",
         "S",
         "Miss",
         "0"
        ],
        [
         "3",
         "1",
         "1",
         "female",
         "35.0",
         "1",
         "0",
         "53.1",
         "S",
         "Mrs",
         "1"
        ],
        [
         "4",
         "0",
         "3",
         "male",
         "35.0",
         "0",
         "0",
         "8.05",
         "S",
         "Mr",
         "0"
        ]
       ],
       "shape": {
        "columns": 10,
        "rows": 5
       }
      },
      "text/html": [
       "<div>\n",
       "<style scoped>\n",
       "    .dataframe tbody tr th:only-of-type {\n",
       "        vertical-align: middle;\n",
       "    }\n",
       "\n",
       "    .dataframe tbody tr th {\n",
       "        vertical-align: top;\n",
       "    }\n",
       "\n",
       "    .dataframe thead th {\n",
       "        text-align: right;\n",
       "    }\n",
       "</style>\n",
       "<table border=\"1\" class=\"dataframe\">\n",
       "  <thead>\n",
       "    <tr style=\"text-align: right;\">\n",
       "      <th></th>\n",
       "      <th>Survived</th>\n",
       "      <th>Pclass</th>\n",
       "      <th>Sex</th>\n",
       "      <th>Age</th>\n",
       "      <th>SibSp</th>\n",
       "      <th>Parch</th>\n",
       "      <th>Fare</th>\n",
       "      <th>Embarked</th>\n",
       "      <th>Title</th>\n",
       "      <th>hasCabin</th>\n",
       "    </tr>\n",
       "  </thead>\n",
       "  <tbody>\n",
       "    <tr>\n",
       "      <th>0</th>\n",
       "      <td>0</td>\n",
       "      <td>3</td>\n",
       "      <td>male</td>\n",
       "      <td>22.0</td>\n",
       "      <td>1</td>\n",
       "      <td>0</td>\n",
       "      <td>7.2500</td>\n",
       "      <td>S</td>\n",
       "      <td>Mr</td>\n",
       "      <td>0</td>\n",
       "    </tr>\n",
       "    <tr>\n",
       "      <th>1</th>\n",
       "      <td>1</td>\n",
       "      <td>1</td>\n",
       "      <td>female</td>\n",
       "      <td>38.0</td>\n",
       "      <td>1</td>\n",
       "      <td>0</td>\n",
       "      <td>71.2833</td>\n",
       "      <td>C</td>\n",
       "      <td>Mrs</td>\n",
       "      <td>1</td>\n",
       "    </tr>\n",
       "    <tr>\n",
       "      <th>2</th>\n",
       "      <td>1</td>\n",
       "      <td>3</td>\n",
       "      <td>female</td>\n",
       "      <td>26.0</td>\n",
       "      <td>0</td>\n",
       "      <td>0</td>\n",
       "      <td>7.9250</td>\n",
       "      <td>S</td>\n",
       "      <td>Miss</td>\n",
       "      <td>0</td>\n",
       "    </tr>\n",
       "    <tr>\n",
       "      <th>3</th>\n",
       "      <td>1</td>\n",
       "      <td>1</td>\n",
       "      <td>female</td>\n",
       "      <td>35.0</td>\n",
       "      <td>1</td>\n",
       "      <td>0</td>\n",
       "      <td>53.1000</td>\n",
       "      <td>S</td>\n",
       "      <td>Mrs</td>\n",
       "      <td>1</td>\n",
       "    </tr>\n",
       "    <tr>\n",
       "      <th>4</th>\n",
       "      <td>0</td>\n",
       "      <td>3</td>\n",
       "      <td>male</td>\n",
       "      <td>35.0</td>\n",
       "      <td>0</td>\n",
       "      <td>0</td>\n",
       "      <td>8.0500</td>\n",
       "      <td>S</td>\n",
       "      <td>Mr</td>\n",
       "      <td>0</td>\n",
       "    </tr>\n",
       "  </tbody>\n",
       "</table>\n",
       "</div>"
      ],
      "text/plain": [
       "   Survived  Pclass     Sex   Age  SibSp  Parch     Fare Embarked Title  \\\n",
       "0         0       3    male  22.0      1      0   7.2500        S    Mr   \n",
       "1         1       1  female  38.0      1      0  71.2833        C   Mrs   \n",
       "2         1       3  female  26.0      0      0   7.9250        S  Miss   \n",
       "3         1       1  female  35.0      1      0  53.1000        S   Mrs   \n",
       "4         0       3    male  35.0      0      0   8.0500        S    Mr   \n",
       "\n",
       "   hasCabin  \n",
       "0         0  \n",
       "1         1  \n",
       "2         0  \n",
       "3         1  \n",
       "4         0  "
      ]
     },
     "execution_count": 22,
     "metadata": {},
     "output_type": "execute_result"
    }
   ],
   "source": [
    "key_cols = ['Survived', 'Pclass', 'Sex', 'Age', 'SibSp', 'Parch', 'Fare', 'Embarked', 'Title', 'hasCabin']\n",
    "\n",
    "assert sum([x in key_cols for x in df.columns]) == 10\n",
    "assert len(df.columns) == 10\n",
    "assert (df.groupby('hasCabin').size()[0], df.groupby('hasCabin').size()[1]) == (687, 204)\n",
    "\n",
    "df.head()"
   ]
  },
  {
   "cell_type": "markdown",
   "metadata": {
    "id": "XA5ho9CxUUme",
    "nbgrader": {
     "grade": false,
     "grade_id": "cell-daa1c6bb3399fa49",
     "locked": true,
     "schema_version": 3,
     "solution": false,
     "task": false
    }
   },
   "source": [
    "Se pide en esta celda, eliminar los dos registros cuyo valor _Embarked_ es nulo. Tras ello, eliminar todos los duplicados."
   ]
  },
  {
   "cell_type": "code",
   "execution_count": 23,
   "metadata": {
    "id": "rUK75XigUUme",
    "nbgrader": {
     "grade": false,
     "grade_id": "cell-3df5034772208dec",
     "locked": false,
     "schema_version": 3,
     "solution": true,
     "task": false
    }
   },
   "outputs": [],
   "source": [
    "### Codigo del estudiante\n",
    "df.dropna(subset=['Embarked'], inplace=True)\n",
    "df.drop_duplicates(inplace=True)"
   ]
  },
  {
   "cell_type": "markdown",
   "metadata": {
    "id": "jSZJRsNeUUme",
    "nbgrader": {
     "grade": false,
     "grade_id": "cell-67edaeab39eac8a1",
     "locked": true,
     "schema_version": 3,
     "solution": false,
     "task": false
    }
   },
   "source": [
    "Celda de control:"
   ]
  },
  {
   "cell_type": "code",
   "execution_count": 25,
   "metadata": {
    "id": "e0aMmSw2UUme",
    "nbgrader": {
     "grade": true,
     "grade_id": "cell-83c833f68911e3ee",
     "locked": true,
     "points": 1,
     "schema_version": 3,
     "solution": false,
     "task": false
    }
   },
   "outputs": [],
   "source": [
    "assert len(df) == 788\n",
    "assert df.Age.isnull().sum() == 109\n",
    "assert df.duplicated().sum() == 0"
   ]
  },
  {
   "attachments": {
    "image.png": {
     "image/png": "[encoded data removed]"
    }
   },
   "cell_type": "markdown",
   "metadata": {
    "id": "oshyqh_SUUmf",
    "nbgrader": {
     "grade": false,
     "grade_id": "cell-69883fa172bc565e",
     "locked": true,
     "schema_version": 3,
     "solution": false,
     "task": false
    }
   },
   "source": [
    "En esta celda se pide, almacenar en una variable llamada *col_transformer* un ColumnTransformer que lleve en orden:\n",
    "- Un KNN Imputer de 5 vecinos con métrica *nan_euclidean* y pesos uniformes, para _Pclass_, _Age_, _SibSp_, _Fare_.\n",
    "- Un OneHotEncoder para las variables categóricas:\n",
    "    - _Sex_ (con la opción *drop=if_binary*), \n",
    "    - _Embarked_ (con la opción *drop=first*), \n",
    "    - _Parch_ (con la opción de _handle_unknown=ignore_) y, \n",
    "    - _Title_ con las categorías _Mr_, _Mrs_ y _Miss_ (y con la opción de _handle_unknown=ignore_).\n",
    "\n",
    "El ColumnTransfomer tiene una opción llamada _reminder_ que asignaremos a valor _passthrough_ en este ejercicio. Se recomienda al estudiante investigar lo que significa en la documentación. Por defecto, la opción _drop_ es la que ColumnTransformer tiene activada. \n",
    "\n",
    "![image.png](attachment:image.png)\n",
    "\n",
    "_Nota_: Para que la celda de control no falle, es importante poner en orden tanto los transformadores como las variables."
   ]
  },
  {
   "cell_type": "code",
   "execution_count": 29,
   "metadata": {
    "colab": {
     "base_uri": "https://localhost:8080/",
     "height": 245
    },
    "executionInfo": {
     "elapsed": 279,
     "status": "error",
     "timestamp": 1727153463177,
     "user": {
      "displayName": "Eduardo fernandez carrion",
      "userId": "04973094376381501206"
     },
     "user_tz": -120
    },
    "id": "VyWt2WcxUUmf",
    "nbgrader": {
     "grade": false,
     "grade_id": "cell-8018d6ae07d18a73",
     "locked": false,
     "schema_version": 3,
     "solution": true,
     "task": false
    },
    "outputId": "c6153805-d54a-4ba2-87ed-cfb2a66b3878"
   },
   "outputs": [
    {
     "name": "stdout",
     "output_type": "stream",
     "text": [
      "['imputer__Pclass' 'imputer__Age' 'imputer__SibSp' 'imputer__Fare'\n",
      " 'enc1__Sex_male' 'enc2__Embarked_Q' 'enc2__Embarked_S' 'enc3__Parch_0'\n",
      " 'enc3__Parch_1' 'enc3__Parch_2' 'enc3__Parch_3' 'enc3__Parch_4'\n",
      " 'enc3__Parch_5' 'enc3__Parch_6' 'enc4__Title_Mr' 'enc4__Title_Mrs'\n",
      " 'enc4__Title_Miss' 'remainder__Survived' 'remainder__hasCabin']\n"
     ]
    },
    {
     "data": {
      "text/plain": [
       "array([[ 3.  , 22.  ,  1.  ,  7.25,  1.  ,  0.  ,  1.  ,  1.  ,  0.  ,\n",
       "         0.  ,  0.  ,  0.  ,  0.  ,  0.  ,  1.  ,  0.  ,  0.  ,  0.  ,\n",
       "         0.  ],\n",
       "       [ 1.  , 38.  ,  1.  , 71.28,  0.  ,  0.  ,  0.  ,  1.  ,  0.  ,\n",
       "         0.  ,  0.  ,  0.  ,  0.  ,  0.  ,  0.  ,  1.  ,  0.  ,  1.  ,\n",
       "         1.  ],\n",
       "       [ 3.  , 26.  ,  0.  ,  7.92,  0.  ,  0.  ,  1.  ,  1.  ,  0.  ,\n",
       "         0.  ,  0.  ,  0.  ,  0.  ,  0.  ,  0.  ,  0.  ,  1.  ,  1.  ,\n",
       "         0.  ]])"
      ]
     },
     "execution_count": 29,
     "metadata": {},
     "output_type": "execute_result"
    }
   ],
   "source": [
    "### Codigo del estudiante\n",
    "# col_transformer = ColumnTransformer([\n",
    "#     (\"imputer\", KNNImputer(n_neighbors=5, metric='nan_euclidean', weights='uniform'), ['Pclass', 'Age', 'SibSp', 'Fare']),\n",
    "#     (\"enc1\", OneHotEncoder(drop='if_binary'), ['Sex']),\n",
    "#     (\"enc2\", OneHotEncoder(drop='first'), ['Embarked']),\n",
    "#     (\"enc3\", OneHotEncoder(categories=[[0,1,2,3,4,5,6]], handle_unknown='ignore'), ['Parch']),\n",
    "#     (\"enc4\", OneHotEncoder(categories=[['Mr', 'Mrs', 'Miss']], handle_unknown='ignore'), ['Title'])\n",
    "# ], remainder='passthrough')\n",
    "\n",
    "\n",
    "titles = [[\"Mr\", \"Mrs\", \"Miss\"]]\n",
    "\n",
    "col_transformer = ColumnTransformer([\n",
    "    (\"imputer\", KNNImputer(n_neighbors=5, metric='nan_euclidean', weights='uniform'), ['Pclass', 'Age', 'SibSp', 'Fare']),\n",
    "    (\"enc1\", OneHotEncoder(drop=\"if_binary\"), [\"Sex\"]),\n",
    "    (\"enc2\", OneHotEncoder(drop=\"first\"), [\"Embarked\"]),\n",
    "    (\"enc3\", OneHotEncoder(handle_unknown=\"ignore\"), [\"Parch\"]),\n",
    "    (\"enc4\", OneHotEncoder(categories=titles, handle_unknown=\"ignore\"), [\"Title\"])\n",
    "    ], remainder=\"passthrough\" # Keep the rest of the columns unchanged\n",
    ")\n",
    "\n",
    "ctransformed = col_transformer.fit_transform(df)\n",
    "print(col_transformer.get_feature_names_out())\n",
    "ctransformed[:3]"
   ]
  },
  {
   "cell_type": "markdown",
   "metadata": {
    "id": "vjtpScfNUUmf",
    "nbgrader": {
     "grade": false,
     "grade_id": "cell-276717f5197092b3",
     "locked": true,
     "schema_version": 3,
     "solution": false,
     "task": false
    }
   },
   "source": [
    "Celda de control:"
   ]
  },
  {
   "cell_type": "code",
   "execution_count": null,
   "metadata": {
    "id": "IcSW9SZzUUmf",
    "nbgrader": {
     "grade": true,
     "grade_id": "cell-422aa90b42ccb4ed",
     "locked": true,
     "points": 2,
     "schema_version": 3,
     "solution": false,
     "task": false
    }
   },
   "outputs": [],
   "source": [
    "assert ctransformed.shape == (788, 19)\n",
    "assert sum(np.round(ctransformed[1],2) == [1., 38., 1., 71.28, 0., 0., 0., 1., 0., 0., 0., 0., 0., 0., 0., 1., 0., 1., 1.]) == 19\n",
    "assert sum(np.round(ctransformed[100],2) == [3., 22., 0., 7.78, 1., 0., 1., 1., 0., 0., 0., 0., 0., 0., 1., 0., 0., 1., 0.]) == 19"
   ]
  },
  {
   "cell_type": "markdown",
   "metadata": {
    "id": "06oDzIwoUUmf",
    "nbgrader": {
     "grade": false,
     "grade_id": "cell-653324a03c4fcb19",
     "locked": true,
     "schema_version": 3,
     "solution": false,
     "task": false
    }
   },
   "source": [
    "## Parte 2: Selección de modelo (1.5 puntos)\n",
    "\n",
    "En esta parte, evaluaremos diversos estimadores (algoritmos, transformadores+algoritmos) con el objeto de predecir la variable objetivo (_Survived_) y estudiar su comportamiento."
   ]
  },
  {
   "cell_type": "code",
   "execution_count": 33,
   "metadata": {
    "id": "6dbjalYlUUmf",
    "nbgrader": {
     "grade": false,
     "grade_id": "cell-045715a778788e85",
     "locked": true,
     "schema_version": 3,
     "solution": false,
     "task": false
    }
   },
   "outputs": [],
   "source": [
    "models = []\n",
    "models.append(('LR', LogisticRegression(random_state=seed)))\n",
    "models.append(('LDA', LinearDiscriminantAnalysis()))\n",
    "models.append(('DTC', DecisionTreeClassifier(random_state=seed)))\n",
    "models.append(('NB', GaussianNB()))\n",
    "models.append(('RFC', RandomForestClassifier(random_state=seed)))\n",
    "models.append(('SVM', SVC()))\n",
    "\n",
    "X = df[['Pclass', 'Sex', 'Age', 'SibSp', 'Parch', 'Fare', 'Embarked', 'Title', 'hasCabin']]\n",
    "y = df['Survived']\n",
    "\n",
    "def boxplots_algorithms(results, names):\n",
    "\n",
    "    plt.figure(figsize=(9, 3))\n",
    "    plt.boxplot(results)\n",
    "    plt.xticks(range(1,len(names)+1), names)\n",
    "    plt.show()"
   ]
  },
  {
   "cell_type": "markdown",
   "metadata": {
    "id": "GlYudggeUUmf",
    "nbgrader": {
     "grade": false,
     "grade_id": "cell-da757a721080db70",
     "locked": true,
     "schema_version": 3,
     "solution": false,
     "task": false
    }
   },
   "source": [
    "En esta celda se pide, realizar un bucle que calcule, para cada algoritmo de la variable _models_,\n",
    "\n",
    "- Un pipeline que realice:\n",
    "    1. El ColumnTransformer diseñado anteriormente\n",
    "    2. Un RobustScaler a continuación y, finalmente,\n",
    "    3. Evalue cada algoritmo con _scoring='accuracy'_.\n",
    "\n",
    "- Una validación cruzada:\n",
    "    1. Tipo KFolds, con 10 _folders_, y\n",
    "    2. Aleatorio con semilla _seed_.\n",
    "        \n",
    "En cada iteración del bucle, almacenar el resultado de cada validación cruzada en una variable _results_ y los nombres de cada algoritmo en una variable _names_.\n",
    "\n",
    "Finalmente, usaremos la función *boxplots_algorithms* para dibujar los resultados.\n",
    "\n",
    "*Nota*: Quizá os haya llamado la atención el RobustScaler. En realidad, no sería muy necesario introducirlo. Sin embargo, se deja por motivos didácticos, para que practiquéis y veáis que también se pueden combinar en un mismo pipeline, tanto transformadores sencillos, como columnTransformers. Por otra parte, fuera de la evaluación, dejo al estudiante que practique quitando el RobustScaler y explore las diferencias. Además, también dejo al estudiante que explore las diferencias de aplicar o no el passthrogh comentado anteriormente."
   ]
  },
  {
   "cell_type": "code",
   "execution_count": 34,
   "metadata": {
    "id": "pwKFf9K1UUmf",
    "nbgrader": {
     "grade": false,
     "grade_id": "cell-bbe44d2f946216d0",
     "locked": false,
     "schema_version": 3,
     "solution": true,
     "task": false
    },
    "outputId": "3aa7494d-b290-4427-a02d-792b43b0ca4a"
   },
   "outputs": [
    {
     "data": {
      "image/png": "[encoded data removed]",
      "text/plain": [
       "<Figure size 900x300 with 1 Axes>"
      ]
     },
     "metadata": {},
     "output_type": "display_data"
    }
   ],
   "source": [
    "results = []\n",
    "names = []\n",
    "\n",
    "### Codigo del estudiante\n",
    "for name, model in models:\n",
    "    pipeline = Pipeline([\n",
    "        ('transformer', col_transformer),\n",
    "        ('scaler', RobustScaler()),\n",
    "        ('model', model)\n",
    "    ])\n",
    "    \n",
    "    kfold = KFold(n_splits=10, shuffle=True, random_state=seed)\n",
    "    cv_results = cross_val_score(pipeline, X, y, cv=kfold, scoring='accuracy')\n",
    "    \n",
    "    results.append(cv_results)\n",
    "    names.append(name)\n",
    "\n",
    "boxplots_algorithms(results, names)"
   ]
  },
  {
   "cell_type": "markdown",
   "metadata": {
    "id": "ewmxnMrIUUmf",
    "nbgrader": {
     "grade": false,
     "grade_id": "cell-8abed6972b8db6b0",
     "locked": true,
     "schema_version": 3,
     "solution": false,
     "task": false
    }
   },
   "source": [
    "Celda de control:"
   ]
  },
  {
   "cell_type": "code",
   "execution_count": null,
   "metadata": {
    "id": "ldJbYix_UUmg",
    "nbgrader": {
     "grade": true,
     "grade_id": "cell-afd0a48240ce315a",
     "locked": true,
     "points": 2,
     "schema_version": 3,
     "solution": false,
     "task": false
    }
   },
   "outputs": [],
   "source": [
    "assert len(results) == len(models)\n",
    "assert [np.round(x[4],2) for x in results] == [0.80, 0.80, 0.70, 0.49, 0.70, 0.77]"
   ]
  },
  {
   "cell_type": "markdown",
   "metadata": {
    "id": "N9TSjfmsUUmg",
    "nbgrader": {
     "grade": false,
     "grade_id": "cell-1e192822708b4ab4",
     "locked": true,
     "schema_version": 3,
     "solution": false,
     "task": false
    }
   },
   "source": [
    "## Parte 3: Tuneado del modelo (3 puntos)\n",
    "\n",
    "En esta parte, elegiremos un modelo compuesto por transformaciones y un algoritmo seleccionado. En concreto, probaremos diferentes parametrizaciones del algoritmo para obtener la mejor métrica."
   ]
  },
  {
   "cell_type": "markdown",
   "metadata": {
    "id": "xgKJyGkAUUmg",
    "nbgrader": {
     "grade": false,
     "grade_id": "cell-e61d9923c51f1e32",
     "locked": true,
     "schema_version": 3,
     "solution": false,
     "task": false
    }
   },
   "source": [
    "En esta celda se pide, realizar un tuneado del `RandomForestClassifier` con `GridSearchCV` para estimar cuál es la mejor configuración paramétrica entre:\n",
    "\n",
    "- 10 y 20 estimadores,\n",
    "- maximo número de variables estimado con los algoritmos _auto_, _sqrt_ y _log2_,\n",
    "- máxima profundidad 4,5,6,7 u 8,\n",
    "- criterio para medir la calidad del _split_ entre _gini_ o _entropy_.\n",
    "    \n",
    "El modelo final, entrenado con `GridSearchCV` y las variables _(X, y)_, se almacenará en una variable llamada `grid_model`.\n",
    "\n",
    "El entrenamiento del modelo se hará con un `StratifiedKfolds` de 10 folders aleatorio y estratificado por la variable categórica _y_.\n",
    "\n",
    "Se utilizará un `Pipeline` con el transformador de columnas del apartado anterior y el modelo de *Random Forest* (sin `RobustScaler`).\n",
    "\n",
    "Nota 1: No olvidar usar semilla cuando aplique.\n",
    "\n",
    "Nota 2: En este ejercicio no haremos ningún *train-test split*.\n",
    "\n",
    "Nota 3: El diccionario de parámetros, cuando es un _pipeline_, hay que definir para cuál de las fases del _pipeline_ deben aplicarse los parámetros. En este ejercicio, los parámetros son del algoritmo, por lo que todos los parámetros deben llevar el sufijo \"_model_ \" y dos guiones bajos \"_\" (donde _model_ es el nombre del algoritmo definido en el pipeline -es recomendable investigar esta parte-)."
   ]
  },
  {
   "cell_type": "code",
   "execution_count": 36,
   "metadata": {
    "id": "H49mnTZcUUmg",
    "nbgrader": {
     "grade": false,
     "grade_id": "cell-8a7139e9e4e2da21",
     "locked": false,
     "schema_version": 3,
     "solution": true,
     "task": false
    },
    "outputId": "b9afb9b5-a9a1-4933-cddc-70c693153091"
   },
   "outputs": [
    {
     "name": "stdout",
     "output_type": "stream",
     "text": [
      "0.8071892242778318\n",
      "Pipeline(steps=[('transformer',\n",
      "                 ColumnTransformer(remainder='passthrough',\n",
      "                                   transformers=[('imputer', KNNImputer(),\n",
      "                                                  ['Pclass', 'Age', 'SibSp',\n",
      "                                                   'Fare']),\n",
      "                                                 ('enc1',\n",
      "                                                  OneHotEncoder(drop='if_binary'),\n",
      "                                                  ['Sex']),\n",
      "                                                 ('enc2',\n",
      "                                                  OneHotEncoder(drop='first'),\n",
      "                                                  ['Embarked']),\n",
      "                                                 ('enc3',\n",
      "                                                  OneHotEncoder(handle_unknown='ignore'),\n",
      "                                                  ['Parch']),\n",
      "                                                 ('enc4',\n",
      "                                                  OneHotEncoder(categories=[['Mr',\n",
      "                                                                             'Mrs',\n",
      "                                                                             'Miss']],\n",
      "                                                                handle_unknown='ignore'),\n",
      "                                                  ['Title'])])),\n",
      "                ('model',\n",
      "                 RandomForestClassifier(criterion='entropy', max_depth=8,\n",
      "                                        n_estimators=10, random_state=99))])\n"
     ]
    }
   ],
   "source": [
    "grid_model = None\n",
    "\n",
    "### Codigo del estudiante\n",
    "pipeline = Pipeline([\n",
    "    ('transformer', col_transformer),\n",
    "    ('model', RandomForestClassifier(random_state=seed))\n",
    "])\n",
    "\n",
    "param_grid = {\n",
    "    'model__n_estimators': [10, 20],\n",
    "    'model__max_features': ['auto', 'sqrt', 'log2'],\n",
    "    'model__max_depth': [4, 5, 6, 7, 8],\n",
    "    'model__criterion': ['gini', 'entropy']\n",
    "}\n",
    "\n",
    "cv = StratifiedKFold(n_splits=10, shuffle=True, random_state=seed)\n",
    "\n",
    "grid_model = GridSearchCV(estimator=pipeline, param_grid=param_grid, cv=cv, scoring='accuracy')\n",
    "grid_model.fit(X, y)\n",
    "\n",
    "print(grid_model.best_score_)\n",
    "print(grid_model.best_estimator_)"
   ]
  },
  {
   "cell_type": "markdown",
   "metadata": {
    "id": "Ca4RaNeCUUmg",
    "nbgrader": {
     "grade": false,
     "grade_id": "cell-e0a393b0fe6fc3c5",
     "locked": true,
     "schema_version": 3,
     "solution": false,
     "task": false
    }
   },
   "source": [
    "Celda de control:"
   ]
  },
  {
   "cell_type": "code",
   "execution_count": 37,
   "metadata": {
    "id": "ifqLPKMvUUmg",
    "nbgrader": {
     "grade": true,
     "grade_id": "cell-d402e8c22ad379b6",
     "locked": true,
     "points": 3,
     "schema_version": 3,
     "solution": false,
     "task": false
    }
   },
   "outputs": [],
   "source": [
    "assert np.round(grid_model.best_score_, 4) == 0.8072\n",
    "assert len(grid_model.best_estimator_.steps) == 2"
   ]
  },
  {
   "cell_type": "code",
   "execution_count": null,
   "metadata": {},
   "outputs": [],
   "source": []
  }
 ],
 "metadata": {
  "celltoolbar": "Create Assignment",
  "colab": {
   "provenance": []
  },
  "kernelspec": {
   "display_name": "venvml",
   "language": "python",
   "name": "python3"
  },
  "language_info": {
   "codemirror_mode": {
    "name": "ipython",
    "version": 3
   },
   "file_extension": ".py",
   "mimetype": "text/x-python",
   "name": "python",
   "nbconvert_exporter": "python",
   "pygments_lexer": "ipython3",
   "version": "3.12.4"
  }
 },
 "nbformat": 4,
 "nbformat_minor": 1
}
