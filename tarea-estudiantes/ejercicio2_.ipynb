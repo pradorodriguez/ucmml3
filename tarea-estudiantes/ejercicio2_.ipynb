{
 "cells": [
  {
   "cell_type": "markdown",
   "metadata": {
    "id": "uhnn_W4eiMRO",
    "nbgrader": {
     "grade": false,
     "grade_id": "cell-c539c087e489ae62",
     "locked": true,
     "schema_version": 3,
     "solution": false,
     "task": false
    }
   },
   "source": [
    "# Lista 2 de Ejercicios\n",
    "\n",
    "### Objetivo:\n",
    "Este ejercicio pretende aumentar la destreza del estudiante para dibujar gráficos descriptivos comunes, testear múltiples modelos de clasificación de forma rápida y poner en práctica transformadores habituales de la librería __sklearn__.\n",
    "\n",
    "### Tarea del estudiante:\n",
    "\n",
    "Mismas instrucciones que en el anterior Notebook.\n",
    "\n",
    "### Evaluación: \n",
    "Esta tarea tiene una puntuación de 14 puntos. \n",
    "La suma de todos los puntos obtenidas de todos los notebooks se ponderará sobre 10 puntos para computar la nota final del estudiante."
   ]
  },
  {
   "cell_type": "markdown",
   "metadata": {
    "id": "3RX3jrZriMRV",
    "nbgrader": {
     "grade": false,
     "grade_id": "cell-0a7317721d224b0d",
     "locked": true,
     "schema_version": 3,
     "solution": false,
     "task": false
    }
   },
   "source": [
    "## Parte 0: Inicialización\n",
    "\n",
    "En esta parte, simplemente cargamos las librerías que vamos a utilizar y establecemos una semilla para controlar la reproducibilidad del ejercicio."
   ]
  },
  {
   "cell_type": "code",
   "execution_count": 1,
   "metadata": {
    "id": "2cSdlc85iMRX",
    "nbgrader": {
     "grade": false,
     "grade_id": "cell-f797ca551dde1426",
     "locked": true,
     "schema_version": 3,
     "solution": false,
     "task": false
    },
    "outputId": "8dece667-40b0-4832-d8a4-c7ac0ea7b24e"
   },
   "outputs": [],
   "source": [
    "\"\"\" Librerías \"\"\"\n",
    "\n",
    "import pandas as pd\n",
    "import numpy as np\n",
    "import matplotlib.pyplot as plt\n",
    "import seaborn as sns\n",
    "import warnings\n",
    "\n",
    "sns.set_style('darkgrid')\n",
    "np.set_printoptions(precision=2)\n",
    "warnings.filterwarnings(\"ignore\")\n",
    "\n",
    "import sklearn\n",
    "from sklearn.preprocessing import MinMaxScaler, StandardScaler, Normalizer, Binarizer, RobustScaler\n",
    "from sklearn.compose import ColumnTransformer\n",
    "from sklearn.preprocessing import OneHotEncoder, LabelEncoder, PowerTransformer\n",
    "from sklearn.impute import SimpleImputer, KNNImputer\n",
    "\n",
    "from sklearn.feature_selection import SelectKBest, chi2, RFE\n",
    "from sklearn.model_selection import train_test_split\n",
    "from sklearn.pipeline import make_pipeline, Pipeline\n",
    "from sklearn.decomposition import PCA\n",
    "\n",
    "from sklearn.linear_model import LogisticRegression\n",
    "from sklearn.tree import DecisionTreeClassifier\n",
    "from sklearn.neighbors import KNeighborsClassifier\n",
    "from sklearn.discriminant_analysis import LinearDiscriminantAnalysis\n",
    "from sklearn.naive_bayes import GaussianNB\n",
    "from sklearn.ensemble import RandomForestClassifier, ExtraTreesClassifier\n",
    "from sklearn.linear_model import Perceptron\n",
    "from sklearn.svm import SVC\n",
    "\n",
    "from sklearn.metrics import accuracy_score, confusion_matrix, classification_report, f1_score\n",
    "\n",
    "from sklearn.model_selection import KFold, ShuffleSplit, LeaveOneOut, StratifiedKFold\n",
    "from sklearn.model_selection import cross_val_score, cross_val_predict\n",
    "from sklearn.model_selection import GridSearchCV, RandomizedSearchCV\n",
    "\n",
    "\"\"\" Semilla \"\"\"\n",
    "\n",
    "seed = 63"
   ]
  },
  {
   "cell_type": "markdown",
   "metadata": {
    "id": "zb0RrxyNiMRZ",
    "nbgrader": {
     "grade": false,
     "grade_id": "cell-183cf8a1a662f2c8",
     "locked": true,
     "schema_version": 3,
     "solution": false,
     "task": false
    }
   },
   "source": [
    "## Parte 1: Lectura y transformación de datos (0.5 puntos)\n",
    "\n",
    "En esta parte, principalmente, cargaremos los datos de un repositorio git y realizaremos una breve limpieza de los datos para conseguir un dataframe listo."
   ]
  },
  {
   "cell_type": "code",
   "execution_count": 2,
   "metadata": {
    "id": "mAK1_72liMRa",
    "nbgrader": {
     "grade": false,
     "grade_id": "cell-ea491e68f09cc1a3",
     "locked": true,
     "schema_version": 3,
     "solution": false,
     "task": false
    },
    "outputId": "27a280f1-4ce6-4de4-d947-732c2c05b093"
   },
   "outputs": [
    {
     "name": "stdout",
     "output_type": "stream",
     "text": [
      "Número de filas: 561, Número de columnas:10\n"
     ]
    },
    {
     "data": {
      "application/vnd.microsoft.datawrangler.viewer.v0+json": {
       "columns": [
        {
         "name": "index",
         "rawType": "int64",
         "type": "integer"
        },
        {
         "name": "duration",
         "rawType": "int64",
         "type": "integer"
        },
        {
         "name": "protocol_type",
         "rawType": "object",
         "type": "string"
        },
        {
         "name": "service",
         "rawType": "object",
         "type": "string"
        },
        {
         "name": "flag",
         "rawType": "object",
         "type": "string"
        },
        {
         "name": "count",
         "rawType": "int64",
         "type": "integer"
        },
        {
         "name": "srv_count",
         "rawType": "int64",
         "type": "integer"
        },
        {
         "name": "serror_rate",
         "rawType": "float64",
         "type": "float"
        },
        {
         "name": "dst_host_srv_count",
         "rawType": "int64",
         "type": "integer"
        },
        {
         "name": "dst_host_srv_serror_rate",
         "rawType": "float64",
         "type": "float"
        },
        {
         "name": "labels",
         "rawType": "object",
         "type": "string"
        }
       ],
       "ref": "c53ba7ff-e0ef-4ac6-885c-cae4719c234e",
       "rows": [
        [
         "0",
         "0",
         "b'tcp'",
         "b'http'",
         "b'SF'",
         "0",
         "0",
         "0.0",
         "0",
         "0.0",
         "b'normal.'"
        ],
        [
         "1",
         "0",
         "b'tcp'",
         "b'http'",
         "b'SF'",
         "0",
         "0",
         "0.0",
         "1",
         "0.0",
         "b'normal.'"
        ],
        [
         "2",
         "0",
         "b'tcp'",
         "b'http'",
         "b'SF'",
         "0",
         "1",
         "0.0",
         "1",
         "0.0",
         "b'normal.'"
        ],
        [
         "3",
         "0",
         "b'tcp'",
         "b'http'",
         "b'SF'",
         "0",
         "0",
         "1.0",
         "1",
         "0.0",
         "b'normal.'"
        ],
        [
         "4",
         "0",
         "b'tcp'",
         "b'http'",
         "b'SF'",
         "0",
         "0",
         "0.0",
         "1",
         "1.0",
         "b'normal.'"
        ]
       ],
       "shape": {
        "columns": 10,
        "rows": 5
       }
      },
      "text/html": [
       "<div>\n",
       "<style scoped>\n",
       "    .dataframe tbody tr th:only-of-type {\n",
       "        vertical-align: middle;\n",
       "    }\n",
       "\n",
       "    .dataframe tbody tr th {\n",
       "        vertical-align: top;\n",
       "    }\n",
       "\n",
       "    .dataframe thead th {\n",
       "        text-align: right;\n",
       "    }\n",
       "</style>\n",
       "<table border=\"1\" class=\"dataframe\">\n",
       "  <thead>\n",
       "    <tr style=\"text-align: right;\">\n",
       "      <th></th>\n",
       "      <th>duration</th>\n",
       "      <th>protocol_type</th>\n",
       "      <th>service</th>\n",
       "      <th>flag</th>\n",
       "      <th>count</th>\n",
       "      <th>srv_count</th>\n",
       "      <th>serror_rate</th>\n",
       "      <th>dst_host_srv_count</th>\n",
       "      <th>dst_host_srv_serror_rate</th>\n",
       "      <th>labels</th>\n",
       "    </tr>\n",
       "  </thead>\n",
       "  <tbody>\n",
       "    <tr>\n",
       "      <th>0</th>\n",
       "      <td>0</td>\n",
       "      <td>b'tcp'</td>\n",
       "      <td>b'http'</td>\n",
       "      <td>b'SF'</td>\n",
       "      <td>0</td>\n",
       "      <td>0</td>\n",
       "      <td>0.0</td>\n",
       "      <td>0</td>\n",
       "      <td>0.0</td>\n",
       "      <td>b'normal.'</td>\n",
       "    </tr>\n",
       "    <tr>\n",
       "      <th>1</th>\n",
       "      <td>0</td>\n",
       "      <td>b'tcp'</td>\n",
       "      <td>b'http'</td>\n",
       "      <td>b'SF'</td>\n",
       "      <td>0</td>\n",
       "      <td>0</td>\n",
       "      <td>0.0</td>\n",
       "      <td>1</td>\n",
       "      <td>0.0</td>\n",
       "      <td>b'normal.'</td>\n",
       "    </tr>\n",
       "    <tr>\n",
       "      <th>2</th>\n",
       "      <td>0</td>\n",
       "      <td>b'tcp'</td>\n",
       "      <td>b'http'</td>\n",
       "      <td>b'SF'</td>\n",
       "      <td>0</td>\n",
       "      <td>1</td>\n",
       "      <td>0.0</td>\n",
       "      <td>1</td>\n",
       "      <td>0.0</td>\n",
       "      <td>b'normal.'</td>\n",
       "    </tr>\n",
       "    <tr>\n",
       "      <th>3</th>\n",
       "      <td>0</td>\n",
       "      <td>b'tcp'</td>\n",
       "      <td>b'http'</td>\n",
       "      <td>b'SF'</td>\n",
       "      <td>0</td>\n",
       "      <td>0</td>\n",
       "      <td>1.0</td>\n",
       "      <td>1</td>\n",
       "      <td>0.0</td>\n",
       "      <td>b'normal.'</td>\n",
       "    </tr>\n",
       "    <tr>\n",
       "      <th>4</th>\n",
       "      <td>0</td>\n",
       "      <td>b'tcp'</td>\n",
       "      <td>b'http'</td>\n",
       "      <td>b'SF'</td>\n",
       "      <td>0</td>\n",
       "      <td>0</td>\n",
       "      <td>0.0</td>\n",
       "      <td>1</td>\n",
       "      <td>1.0</td>\n",
       "      <td>b'normal.'</td>\n",
       "    </tr>\n",
       "  </tbody>\n",
       "</table>\n",
       "</div>"
      ],
      "text/plain": [
       "   duration protocol_type  service   flag  count  srv_count  serror_rate  \\\n",
       "0         0        b'tcp'  b'http'  b'SF'      0          0          0.0   \n",
       "1         0        b'tcp'  b'http'  b'SF'      0          0          0.0   \n",
       "2         0        b'tcp'  b'http'  b'SF'      0          1          0.0   \n",
       "3         0        b'tcp'  b'http'  b'SF'      0          0          1.0   \n",
       "4         0        b'tcp'  b'http'  b'SF'      0          0          0.0   \n",
       "\n",
       "   dst_host_srv_count  dst_host_srv_serror_rate      labels  \n",
       "0                   0                       0.0  b'normal.'  \n",
       "1                   1                       0.0  b'normal.'  \n",
       "2                   1                       0.0  b'normal.'  \n",
       "3                   1                       0.0  b'normal.'  \n",
       "4                   1                       1.0  b'normal.'  "
      ]
     },
     "execution_count": 2,
     "metadata": {},
     "output_type": "execute_result"
    }
   ],
   "source": [
    "df = pd.read_csv('https://raw.githubusercontent.com/eduardofc/data/main/kddcup99.csv')\n",
    "\n",
    "print(f'Número de filas: {df.shape[0]}, Número de columnas:{df.shape[1]}')\n",
    "df.head()"
   ]
  },
  {
   "cell_type": "markdown",
   "metadata": {
    "id": "9-2LgSmSiMRa",
    "nbgrader": {
     "grade": false,
     "grade_id": "cell-a196be290eb56313",
     "locked": true,
     "schema_version": 3,
     "solution": false,
     "task": false
    }
   },
   "source": [
    "Para entender la evolución de las transformaciones que vamos a ir haciendo, practicaremos algunos de los plots más utilizados.\n",
    "\n",
    "En la siguiente celda se pide, mostrar un _countplot_ (_barplot_ de seaborn) para todas las variables del _dataframe_ (df)."
   ]
  },
  {
   "cell_type": "code",
   "execution_count": 4,
   "metadata": {
    "id": "vYKrRifOiMRb",
    "nbgrader": {
     "grade": false,
     "grade_id": "cell-a15861a1f91032f7",
     "locked": false,
     "schema_version": 3,
     "solution": true,
     "task": false
    },
    "outputId": "a6915e6e-9b4d-496c-da7b-fc08a26f24a5"
   },
   "outputs": [
    {
     "data": {
      "image/png": "[encoded data removed]",
      "text/plain": [
       "<Figure size 1000x400 with 1 Axes>"
      ]
     },
     "metadata": {},
     "output_type": "display_data"
    },
    {
     "data": {
      "image/png": "[encoded data removed]",
      "text/plain": [
       "<Figure size 1000x400 with 1 Axes>"
      ]
     },
     "metadata": {},
     "output_type": "display_data"
    },
    {
     "data": {
      "image/png": "[encoded data removed]",
      "text/plain": [
       "<Figure size 1000x400 with 1 Axes>"
      ]
     },
     "metadata": {},
     "output_type": "display_data"
    },
    {
     "data": {
      "image/png": "[encoded data removed]",
      "text/plain": [
       "<Figure size 1000x400 with 1 Axes>"
      ]
     },
     "metadata": {},
     "output_type": "display_data"
    },
    {
     "data": {
      "image/png": "[encoded data removed]",
      "text/plain": [
       "<Figure size 1000x400 with 1 Axes>"
      ]
     },
     "metadata": {},
     "output_type": "display_data"
    },
    {
     "data": {
      "image/png": "[encoded data removed]",
      "text/plain": [
       "<Figure size 1000x400 with 1 Axes>"
      ]
     },
     "metadata": {},
     "output_type": "display_data"
    },
    {
     "data": {
      "image/png": "[encoded data removed]",
      "text/plain": [
       "<Figure size 1000x400 with 1 Axes>"
      ]
     },
     "metadata": {},
     "output_type": "display_data"
    },
    {
     "data": {
      "image/png": "[encoded data removed]",
      "text/plain": [
       "<Figure size 1000x400 with 1 Axes>"
      ]
     },
     "metadata": {},
     "output_type": "display_data"
    },
    {
     "data": {
      "image/png": "[encoded data removed]",
      "text/plain": [
       "<Figure size 1000x400 with 1 Axes>"
      ]
     },
     "metadata": {},
     "output_type": "display_data"
    },
    {
     "data": {
      "image/png": "[encoded data removed]",
      "text/plain": [
       "<Figure size 1000x400 with 1 Axes>"
      ]
     },
     "metadata": {},
     "output_type": "display_data"
    }
   ],
   "source": [
    "### Codigo del estudiante\n",
    "for column in df.columns:\n",
    "    plt.figure(figsize=(10, 4))\n",
    "    sns.countplot(data=df, x=column, order=df[column].value_counts().index)\n",
    "    plt.title(column)\n",
    "    plt.show()"
   ]
  },
  {
   "cell_type": "markdown",
   "metadata": {
    "id": "rRfWT7aWiMRc",
    "nbgrader": {
     "grade": false,
     "grade_id": "cell-c7033e84359e60a4",
     "locked": true,
     "schema_version": 3,
     "solution": false,
     "task": false
    }
   },
   "source": [
    "Trabajaremos las variables categóricas con __pandas__. Trataremos de reducir el número de variables categóricas cuando existen demasiadas casuísiticas o cuando existen muy pocos registros en una categoría.\n",
    "\n",
    "En esta celda se pide,\n",
    "- para la variables _service_, localizar las 6 categorías más frecuentes y transformar estas columnas para que ponga _resto_ a todos aquellos registros de estas variables que no están entre las frecuentes, dejando así 7 catgorías en total.\n",
    "- para la variables _flag_, localizar las 4 categorías más frecuentes y transformar estas columnas para que ponga _resto_ a todos aquellos registros de estas variables que no están entre las frecuentes, dejando así 5 catgorías en total.\n",
    "\n",
    "Finalmente, eliminad duplicados."
   ]
  },
  {
   "cell_type": "code",
   "execution_count": null,
   "metadata": {
    "id": "-z067m3FiMRc",
    "nbgrader": {
     "grade": false,
     "grade_id": "cell-a5a25314bd66e4a1",
     "locked": false,
     "schema_version": 3,
     "solution": true,
     "task": false
    },
    "outputId": "cd2066cc-0b45-4757-b419-63d42250fdf8"
   },
   "outputs": [
    {
     "data": {
      "application/vnd.microsoft.datawrangler.viewer.v0+json": {
       "columns": [
        {
         "name": "labels",
         "rawType": "object",
         "type": "string"
        },
        {
         "name": "0",
         "rawType": "int64",
         "type": "integer"
        }
       ],
       "ref": "38098538-1eec-4b64-9dea-2060f189414a",
       "rows": [
        [
         "b'neptune.'",
         "61"
        ],
        [
         "b'normal.'",
         "149"
        ]
       ],
       "shape": {
        "columns": 1,
        "rows": 2
       }
      },
      "text/plain": [
       "labels\n",
       "b'neptune.'     61\n",
       "b'normal.'     149\n",
       "dtype: int64"
      ]
     },
     "execution_count": 5,
     "metadata": {},
     "output_type": "execute_result"
    }
   ],
   "source": [
    "### Codigo del estudiante\n",
    "# Transformar 'service' columna\n",
    "top_services = df['service'].value_counts().head(6).index\n",
    "df['service'] = df['service'].apply(lambda x: x if x in top_services else 'resto')\n",
    "\n",
    "# Transformar 'flag' columna\n",
    "top_flags = df['flag'].value_counts().head(4).index\n",
    "df['flag'] = df['flag'].apply(lambda x: x if x in top_flags else 'resto')\n",
    "\n",
    "# Remover duplicates\n",
    "df = df.drop_duplicates()\n",
    "\n",
    "\n",
    "df.groupby('labels').size()"
   ]
  },
  {
   "cell_type": "markdown",
   "metadata": {
    "id": "ZACU_tXBiMRd",
    "nbgrader": {
     "grade": false,
     "grade_id": "cell-ef4218ea50842482",
     "locked": true,
     "schema_version": 3,
     "solution": false,
     "task": false
    }
   },
   "source": [
    "Celda de control:"
   ]
  },
  {
   "cell_type": "code",
   "execution_count": 6,
   "metadata": {
    "id": "ia0ELu66iMRe",
    "nbgrader": {
     "grade": true,
     "grade_id": "cell-f34e386accfefe10",
     "locked": true,
     "points": 1,
     "schema_version": 3,
     "solution": false,
     "task": false
    }
   },
   "outputs": [],
   "source": [
    "assert df.shape == (210, 10)\n",
    "assert df.groupby('service').size()[\"resto\"] == 44\n",
    "assert df.groupby('flag').size()['resto'] == 25"
   ]
  },
  {
   "cell_type": "markdown",
   "metadata": {
    "id": "LGDe2owMiMRe",
    "nbgrader": {
     "grade": false,
     "grade_id": "cell-13029ef7207a7ef3",
     "locked": true,
     "schema_version": 3,
     "solution": false,
     "task": false
    }
   },
   "source": [
    "## Parte 2: Modelos\n",
    "\n",
    "En esta parte, testearemos distintos modelos con trasnformaciones adicionales a las vistas en la Lista 1 de Ejercicios.\n",
    "\n",
    "Nota: Recordar utilizar la semilla cuando aplique."
   ]
  },
  {
   "cell_type": "code",
   "execution_count": 7,
   "metadata": {
    "id": "FrEZieHtiMRe",
    "nbgrader": {
     "grade": false,
     "grade_id": "cell-cc9160fb2e1ce323",
     "locked": true,
     "schema_version": 3,
     "solution": false,
     "task": false
    }
   },
   "outputs": [],
   "source": [
    "models = []\n",
    "models.append(('LR', LogisticRegression(random_state=seed)))\n",
    "models.append(('DTC', DecisionTreeClassifier(random_state=seed)))\n",
    "models.append(('PER', Perceptron(random_state=seed)))\n",
    "models.append(('RFC', RandomForestClassifier(random_state=seed)))\n",
    "\n",
    "def boxplots_algorithms(results, names):\n",
    "    plt.figure(figsize=(8,4))\n",
    "    plt.boxplot(results)\n",
    "    plt.xticks(range(1,len(names)+1), names)\n",
    "    plt.show()\n",
    "\n",
    "def pca_results(results, names, components):\n",
    "    df2 = pd.DataFrame(zip(results, names, components), columns=['results', 'names', 'components'])\n",
    "\n",
    "    sns.catplot(data=df2, kind=\"bar\", x=\"names\", y=\"results\", hue=\"components\", height=5, aspect=15/5)\n",
    "    plt.ylim((0.6, 1.))\n",
    "    plt.show()\n",
    "\n",
    "cat_cols = ['protocol_type', 'service', 'flag']\n",
    "num_cols = ['duration', 'count', 'srv_count', 'serror_rate',\n",
    "            'dst_host_srv_count', 'dst_host_srv_serror_rate']\n",
    "target = 'labels'"
   ]
  },
  {
   "cell_type": "markdown",
   "metadata": {
    "id": "-Y0pQBlmiMRf",
    "nbgrader": {
     "grade": false,
     "grade_id": "cell-a7131c8fd4aeb634",
     "locked": true,
     "schema_version": 3,
     "solution": false,
     "task": false
    }
   },
   "source": [
    "### Modelos 1 (2 puntos)\n",
    "\n",
    "Realizar un estudio de machine learning con las siguientes características:\n",
    "* probar los 4 algoritmos en bucle\n",
    "* usar la técnica de validación cruzada StratifiedKFold (5 _folds_) de forma aleatoria.\n",
    "* entrenar solo con variables numéricas\n",
    "\n",
    "En cada iteración del bucle, almacenar el resultado de cada validación cruzada en una variable _results_ y los nombres de cada algoritmo en una variable _names_.\n",
    "\n",
    "Finalmente, usaremos la función *boxplots_algorithms* para dibujar los resultados.\n",
    "\n",
    "Nota: La función _cross_val_score_ nos vale para estudiar el comportamiento de los modelos con una validación cruzada."
   ]
  },
  {
   "cell_type": "code",
   "execution_count": 8,
   "metadata": {
    "id": "O6NfbuJ0iMRf",
    "nbgrader": {
     "grade": false,
     "grade_id": "cell-09c4daa9d9a689f8",
     "locked": false,
     "schema_version": 3,
     "solution": true,
     "task": false
    },
    "outputId": "3d6e91ff-041e-4410-cb6e-76f525b51435"
   },
   "outputs": [
    {
     "data": {
      "image/png": "[encoded data removed]",
      "text/plain": [
       "<Figure size 800x400 with 1 Axes>"
      ]
     },
     "metadata": {},
     "output_type": "display_data"
    }
   ],
   "source": [
    "results = []\n",
    "names = []\n",
    "\n",
    "### Codigo del estudiante\n",
    "skf = StratifiedKFold(n_splits=5, shuffle=True, random_state=seed)\n",
    "\n",
    "X = df[num_cols]\n",
    "y = df[target]\n",
    "\n",
    "for name, model in models:\n",
    "    cv_results = cross_val_score(model, X, y, cv=skf, scoring='accuracy')\n",
    "    results.append(cv_results)\n",
    "    names.append(name)\n",
    "\n",
    "boxplots_algorithms(results, names)"
   ]
  },
  {
   "cell_type": "markdown",
   "metadata": {
    "id": "83LuO9tKiMRg",
    "nbgrader": {
     "grade": false,
     "grade_id": "cell-8d2e9053f818a102",
     "locked": true,
     "schema_version": 3,
     "solution": false,
     "task": false
    }
   },
   "source": [
    "Celda de control:"
   ]
  },
  {
   "cell_type": "code",
   "execution_count": 9,
   "metadata": {
    "id": "Rkq4JxS7iMRg",
    "nbgrader": {
     "grade": true,
     "grade_id": "cell-4787932c001bbea8",
     "locked": true,
     "points": 2,
     "schema_version": 3,
     "solution": false,
     "task": false
    },
    "scrolled": true
   },
   "outputs": [],
   "source": [
    "assert np.round(results[0].mean(),3) == 0.843\n",
    "assert np.round(results[1].mean(),3) == 0.829\n",
    "assert np.round(results[2].mean(),3) == 0.695\n",
    "assert np.round(results[3].mean(),3) == 0.819"
   ]
  },
  {
   "cell_type": "markdown",
   "metadata": {
    "id": "JFqtXRZXiMRg",
    "nbgrader": {
     "grade": false,
     "grade_id": "cell-deb8e35d9f8934f2",
     "locked": true,
     "schema_version": 3,
     "solution": false,
     "task": false
    }
   },
   "source": [
    "### Modelos 2 (2 puntos)\n",
    "\n",
    "Realizar un estudio de machine learning con las siguientes características:\n",
    "* probar los 4 algoritmos en bucle\n",
    "* usar la técnica de validación cruzada KFolds (5 _folds_) aleatoria\n",
    "* usar un pipeline que encadene\n",
    "    * OneHotEncoder simple con las variables categóricas\n",
    "    * algortimo\n",
    "    * _remainder_ tipo _drop_\n",
    "* Filtrar en X todas las variables**\n",
    "\n",
    "\\*\\*Nota: Aunque la opción de _drop_ en el ColumnTransformer haga que solo se entrene con las variables que son usadas en este transformador, vamos a filtrar *X = df[cat_cols+num_cols]* para que podamos explorar la mejora en el siguiente apartado."
   ]
  },
  {
   "cell_type": "code",
   "execution_count": null,
   "metadata": {
    "id": "PQY1iICDiMRh",
    "nbgrader": {
     "grade": false,
     "grade_id": "cell-444a8be19a0a9fb0",
     "locked": false,
     "schema_version": 3,
     "solution": true,
     "task": false
    },
    "outputId": "a7fcfe81-888f-4fa5-93d2-c318420b77b4",
    "scrolled": false
   },
   "outputs": [
    {
     "data": {
      "image/png": "[encoded data removed]",
      "text/plain": [
       "<Figure size 800x400 with 1 Axes>"
      ]
     },
     "metadata": {},
     "output_type": "display_data"
    }
   ],
   "source": [
    "results = []\n",
    "names = []\n",
    "\n",
    "### Codigo del estudiante\n",
    "kf = KFold(n_splits=5, shuffle=True, random_state=seed)\n",
    "\n",
    "X = df[cat_cols + num_cols]\n",
    "y = df[target]\n",
    "\n",
    "for name, model in models:\n",
    "    pipeline = Pipeline(steps=[\n",
    "        ('preprocessor', ColumnTransformer(transformers=[\n",
    "            ('cat', OneHotEncoder(), cat_cols)\n",
    "        ], remainder='drop')),\n",
    "        ('classifier', model)\n",
    "    ])\n",
    "    cv_results = cross_val_score(pipeline, X, y, cv=kf, scoring='accuracy')\n",
    "    results.append(cv_results)\n",
    "    names.append(name)\n",
    "\n",
    "boxplots_algorithms(results, names)"
   ]
  },
  {
   "cell_type": "markdown",
   "metadata": {
    "id": "OyRzLR6YiMRh",
    "nbgrader": {
     "grade": false,
     "grade_id": "cell-51fa3f4c2a9bca5e",
     "locked": true,
     "schema_version": 3,
     "solution": false,
     "task": false
    }
   },
   "source": [
    "Celda de control:"
   ]
  },
  {
   "cell_type": "code",
   "execution_count": 13,
   "metadata": {
    "id": "9rXpMNMKiMRh",
    "nbgrader": {
     "grade": true,
     "grade_id": "cell-55e762bdf9990d27",
     "locked": true,
     "points": 2,
     "schema_version": 3,
     "solution": false,
     "task": false
    }
   },
   "outputs": [],
   "source": [
    "assert np.round(results[0].mean(),3) == 0.881\n",
    "assert np.round(results[1].mean(),3) == 0.876\n",
    "assert np.round(results[2].mean(),3) == 0.876\n",
    "assert np.round(results[3].mean(),3) == 0.886"
   ]
  },
  {
   "cell_type": "markdown",
   "metadata": {
    "id": "t0f7iDxYiMRh",
    "nbgrader": {
     "grade": false,
     "grade_id": "cell-59cc50a8317dc182",
     "locked": true,
     "schema_version": 3,
     "solution": false,
     "task": false
    }
   },
   "source": [
    "### Modelos 3 (1 punto)\n",
    "\n",
    "Realizar un mismo estudio que en Modelos 2, pero esta vez cambiando, la opción _remainder_ a tipo _passthrough_.\n",
    "\n",
    "Nota, se recomienda que estudiar el significado de este argumento y reflexionar sobre los resultados."
   ]
  },
  {
   "cell_type": "code",
   "execution_count": 14,
   "metadata": {
    "id": "UodDTGPdiMRh",
    "nbgrader": {
     "grade": false,
     "grade_id": "cell-4146020f04d16253",
     "locked": false,
     "schema_version": 3,
     "solution": true,
     "task": false
    },
    "outputId": "323daaf9-3e6e-41d2-c8f4-8f1bf96f5ef9"
   },
   "outputs": [
    {
     "data": {
      "image/png": "[encoded data removed]",
      "text/plain": [
       "<Figure size 800x400 with 1 Axes>"
      ]
     },
     "metadata": {},
     "output_type": "display_data"
    }
   ],
   "source": [
    "results = []\n",
    "names = []\n",
    "\n",
    "### Codigo del estudiante\n",
    "kf = KFold(n_splits=5, shuffle=True, random_state=seed)\n",
    "\n",
    "X = df[cat_cols + num_cols]\n",
    "y = df[target]\n",
    "\n",
    "for name, model in models:\n",
    "    pipeline = Pipeline(steps=[\n",
    "        ('preprocessor', ColumnTransformer(transformers=[\n",
    "            ('cat', OneHotEncoder(), cat_cols)\n",
    "        ], remainder='passthrough')),\n",
    "        ('classifier', model)\n",
    "    ])\n",
    "    cv_results = cross_val_score(pipeline, X, y, cv=kf, scoring='accuracy')\n",
    "    results.append(cv_results)\n",
    "    names.append(name)\n",
    "\n",
    "boxplots_algorithms(results, names)"
   ]
  },
  {
   "cell_type": "markdown",
   "metadata": {
    "id": "HeUDv_xdiMRi",
    "nbgrader": {
     "grade": false,
     "grade_id": "cell-467dc91a009ad969",
     "locked": true,
     "schema_version": 3,
     "solution": false,
     "task": false
    }
   },
   "source": [
    "Celda de control:"
   ]
  },
  {
   "cell_type": "code",
   "execution_count": 15,
   "metadata": {
    "id": "pp7gcQg6iMRi",
    "nbgrader": {
     "grade": true,
     "grade_id": "cell-d8aa9f9022be8701",
     "locked": true,
     "points": 1,
     "schema_version": 3,
     "solution": false,
     "task": false
    }
   },
   "outputs": [],
   "source": [
    "assert np.round(results[0].mean(),3) == 0.929\n",
    "assert np.round(results[1].mean(),3) == 0.895\n",
    "assert np.round(results[2].mean(),3) == 0.905\n",
    "assert np.round(results[3].mean(),3) == 0.919"
   ]
  },
  {
   "cell_type": "markdown",
   "metadata": {
    "id": "NE7-i5wWiMRi",
    "nbgrader": {
     "grade": false,
     "grade_id": "cell-f4cd46d4888f3ea0",
     "locked": true,
     "schema_version": 3,
     "solution": false,
     "task": false
    }
   },
   "source": [
    "### Modelos 4 (3 puntos)\n",
    "\n",
    "Vamos a tratar de explorar si mejorarmos el modelo mediante una transformación de PCA. Usaremos las mismas (X,y). En esta celda se pide, realizar un estudio de machine learning en bucle con las siguientes características:\n",
    "* probad 4 algoritmos en bucle\n",
    "* probad 4 PCA dentro del pipeline y en bucle (dentro del bucle anterior) con _n\\_components_=2,3,4,5, para cada algoritmo\n",
    "* usad la técnica de validación Folds (5 folds) aleatorio\n",
    "* usad un pipeline que encadene\n",
    "     * One-hot-encoder con las variables categoricas, especificando eliminar la primera columna si es binaria\n",
    "     * PCA\n",
    "     * algortimo\n",
    "* mostrad la matriz de confusión en cada caso\n",
    "\n",
    "En cada iteración del bucle, almacenar la media de cada resultado de cada validación cruzada en una variable _results_ y los nombres de cada algoritmo en una variable _names_. Además, se pide guardar las componentes en la lista _components_).\n",
    "\n",
    "Finalmente, usaremos la función *pca_results* para dibujar los resultados.\n",
    "\n",
    "- Nota 1, ojo que esta vez se pide guardar la media de los resultados, no todos los resultados.\n",
    "\n",
    "- Nota 2, revisad que primero sea un bucle que itere los modelos y, dentro de este bucle, otro bucle que itere las componentes.\n",
    "\n",
    "- Nota 3, PCA tiene _random_state_."
   ]
  },
  {
   "cell_type": "code",
   "execution_count": 16,
   "metadata": {
    "id": "TYysWvZqiMRj",
    "nbgrader": {
     "grade": false,
     "grade_id": "cell-db68daa0a2cf64ff",
     "locked": false,
     "schema_version": 3,
     "solution": true,
     "task": false
    },
    "outputId": "af12800c-f8ed-4bd8-8c91-8d745b7b9765"
   },
   "outputs": [
    {
     "name": "stdout",
     "output_type": "stream",
     "text": [
      "Confusion matrix for LR with 2 PCA components:\n",
      "[[ 44  17]\n",
      " [ 12 137]]\n",
      "Confusion matrix for LR with 3 PCA components:\n",
      "[[ 49  12]\n",
      " [  8 141]]\n",
      "Confusion matrix for LR with 4 PCA components:\n",
      "[[ 50  11]\n",
      " [  8 141]]\n",
      "Confusion matrix for LR with 5 PCA components:\n",
      "[[ 50  11]\n",
      " [  7 142]]\n",
      "Confusion matrix for DTC with 2 PCA components:\n",
      "[[ 49  12]\n",
      " [ 15 134]]\n",
      "Confusion matrix for DTC with 3 PCA components:\n",
      "[[ 47  14]\n",
      " [ 16 133]]\n",
      "Confusion matrix for DTC with 4 PCA components:\n",
      "[[ 48  13]\n",
      " [ 14 135]]\n",
      "Confusion matrix for DTC with 5 PCA components:\n",
      "[[ 47  14]\n",
      " [ 15 134]]\n",
      "Confusion matrix for PER with 2 PCA components:\n",
      "[[ 48  13]\n",
      " [ 15 134]]\n",
      "Confusion matrix for PER with 3 PCA components:\n",
      "[[ 53   8]\n",
      " [ 17 132]]\n",
      "Confusion matrix for PER with 4 PCA components:\n",
      "[[ 46  15]\n",
      " [ 14 135]]\n",
      "Confusion matrix for PER with 5 PCA components:\n",
      "[[ 42  19]\n",
      " [ 11 138]]\n",
      "Confusion matrix for RFC with 2 PCA components:\n",
      "[[ 47  14]\n",
      " [ 15 134]]\n",
      "Confusion matrix for RFC with 3 PCA components:\n",
      "[[ 49  12]\n",
      " [ 11 138]]\n",
      "Confusion matrix for RFC with 4 PCA components:\n",
      "[[ 50  11]\n",
      " [ 11 138]]\n",
      "Confusion matrix for RFC with 5 PCA components:\n",
      "[[ 50  11]\n",
      " [ 12 137]]\n"
     ]
    },
    {
     "data": {
      "image/png": "[encoded data removed]",
      "text/plain": [
       "<Figure size 1586.61x500 with 1 Axes>"
      ]
     },
     "metadata": {},
     "output_type": "display_data"
    }
   ],
   "source": [
    "results = []\n",
    "names = []\n",
    "components = []\n",
    "\n",
    "### Codigo del estudiante\n",
    "for name, model in models:\n",
    "    for n_comp in [2, 3, 4, 5]:\n",
    "        pipeline = Pipeline(steps=[\n",
    "            ('preprocessor', ColumnTransformer(transformers=[\n",
    "                ('cat', OneHotEncoder(drop='if_binary'), cat_cols)\n",
    "            ], remainder='passthrough')),\n",
    "            ('pca', PCA(n_components=n_comp, random_state=seed)),\n",
    "            ('classifier', model)\n",
    "        ])\n",
    "        cv_results = cross_val_score(pipeline, X, y, cv=kf, scoring='accuracy')\n",
    "        results.append(cv_results.mean())\n",
    "        names.append(name)\n",
    "        components.append(n_comp)\n",
    "        # Mostrar matriz de confusión para cada fold (opcional: solo mostrar para el último fold)\n",
    "        y_pred = cross_val_predict(pipeline, X, y, cv=kf)\n",
    "        print(f\"Confusion matrix for {name} with {n_comp} PCA components:\")\n",
    "        print(confusion_matrix(y, y_pred))\n",
    "\n",
    "pca_results(results, names, components)"
   ]
  },
  {
   "cell_type": "markdown",
   "metadata": {
    "id": "gTgJqVvRiMRj",
    "nbgrader": {
     "grade": false,
     "grade_id": "cell-0f4e6c0f858bae6a",
     "locked": true,
     "schema_version": 3,
     "solution": false,
     "task": false
    }
   },
   "source": [
    "Celda de control:"
   ]
  },
  {
   "cell_type": "code",
   "execution_count": 17,
   "metadata": {
    "id": "WG_1gm7diMRj",
    "nbgrader": {
     "grade": true,
     "grade_id": "cell-7196386542db0508",
     "locked": true,
     "points": 3,
     "schema_version": 3,
     "solution": false,
     "task": false
    }
   },
   "outputs": [],
   "source": [
    "assert [np.round(results[x], 3) for x in [1,7,10]] == [0.905, 0.862, 0.862]"
   ]
  },
  {
   "cell_type": "markdown",
   "metadata": {
    "id": "EBRd8ZaCiMRk",
    "nbgrader": {
     "grade": false,
     "grade_id": "cell-75af48b272ef32ec",
     "locked": true,
     "schema_version": 3,
     "solution": false,
     "task": false
    }
   },
   "source": [
    "### Modelos 5 (2.5 puntos)\n",
    "\n",
    "De ahora en adelante, trabajaremos solo con el algoritmo de RandomForestClassifier (sin PCA) y entrenaremos con todas las variables, teniendo en cuenta que las variables categóricas deben transformarse previamente con un OHE.\n",
    "\n",
    "En esta celda se pide, separar primero el _dataset_ en _train_ (80%) y _test_ (20%). Tras ello, solo con el _train_, se pide realizar un ajuste de machine learning con las siguientes características:\n",
    "\n",
    "* Sin validación cruzada\n",
    "* Usar un pipeline que encadene\n",
    "    * One-hot-encoder con las variables categóricas, especificando eliminar la primera columna si es binaria\n",
    "    * algortimo\n",
    "* Realizar la predicción de _train_ y _test_ por separado para poder mostrar ambas matrices de confusión.\n",
    "\n",
    "En esta parte, conviene reflexionar si se está haciendo _overfitting_. Al entrenar con _train_ y evaluar con _test_ después, si las métricas difieren demasiado a juicio del _data scientist_, podríamos considerar que pueda existir sobreajuste. Teóricamente la validación cruzada ayuda a minimizar este problema; sin embargo, no siempre es así (sobre todo con algoritmos de tipo árbol) y conviene chequear que esto no ocurra. En esta celda, se va a pedir almacenar el _accuracy_ del modelo para los conjuntos _train_ y _test_, y se van a almacenar en las variables _acc_train_ y _acc_test_.\n",
    "\n",
    "Otra cosa a tener en cuenta es la matriz de confusión. Ésta ofrece siempre el resultado de aplicar el modelo en la clasificación de una forma más legible, lo que ayuda a interpretar mejor el comportamiento de este modelo. En esta celda, almacenaremos ambas matrices de confusión en las variables _cm_train_ y _cm_test_.\n",
    "\n",
    "Nota, no olvidar la semilla."
   ]
  },
  {
   "cell_type": "code",
   "execution_count": null,
   "metadata": {
    "id": "GNIblz7XiMRl",
    "nbgrader": {
     "grade": false,
     "grade_id": "cell-f7165c2db7db0db0",
     "locked": false,
     "schema_version": 3,
     "solution": true,
     "task": false
    },
    "outputId": "50c96ed9-89a0-43a3-8f1b-66294b4e8d5e"
   },
   "outputs": [
    {
     "name": "stdout",
     "output_type": "stream",
     "text": [
      "[[ 48   1]\n",
      " [  3 116]]\n",
      "0.9761904761904762\n",
      "[[ 9  3]\n",
      " [ 2 28]]\n",
      "0.8809523809523809\n"
     ]
    }
   ],
   "source": [
    "from sklearn.model_selection import train_test_split\n",
    "\n",
    "acc_train = 0\n",
    "acc_test = 0\n",
    "\n",
    "cm_train = np.array([[0, 0],[0, 0]])\n",
    "cm_test = np.array([[0, 0],[0, 0]])\n",
    "\n",
    "### Codigo del estudiante\n",
    "pipeline = Pipeline(steps=[\n",
    "    ('preprocessor', ColumnTransformer(transformers=[\n",
    "        ('cat', OneHotEncoder(drop='if_binary'), cat_cols)\n",
    "    ], remainder='passthrough')),\n",
    "    ('classifier', RandomForestClassifier(random_state=seed))\n",
    "])\n",
    "\n",
    "pipeline.fit(X_train, y_train)\n",
    "\n",
    "y_pred_train = pipeline.predict(X_train)\n",
    "y_pred_test = pipeline.predict(X_test)\n",
    "\n",
    "acc_train = accuracy_score(y_train, y_pred_train)\n",
    "acc_test = accuracy_score(y_test, y_pred_test)\n",
    "\n",
    "cm_train = confusion_matrix(y_train, y_pred_train)\n",
    "cm_test = confusion_matrix(y_test, y_pred_test)\n",
    "\n",
    "\n",
    "print(cm_train)\n",
    "print(acc_train)\n",
    "\n",
    "print(cm_test)\n",
    "print(acc_test)"
   ]
  },
  {
   "cell_type": "markdown",
   "metadata": {
    "id": "qV57ThZsiMRl",
    "nbgrader": {
     "grade": false,
     "grade_id": "cell-4c90f63864e1ad03",
     "locked": true,
     "schema_version": 3,
     "solution": false,
     "task": false
    }
   },
   "source": [
    "Celda de control:"
   ]
  },
  {
   "cell_type": "code",
   "execution_count": null,
   "metadata": {
    "id": "ZI2uTlxliMRm",
    "nbgrader": {
     "grade": true,
     "grade_id": "cell-500ece4ed7d8b320",
     "locked": true,
     "points": 3,
     "schema_version": 3,
     "solution": false,
     "task": false
    }
   },
   "outputs": [],
   "source": [
    "assert np.round(acc_train, 4) == 0.9643\n",
    "assert np.round(acc_test, 4) == 0.8810\n",
    "assert (cm_train[0][0], cm_train[0][1], cm_train[1][0], cm_train[1][1]) == (44, 2, 4, 118)\n",
    "assert (cm_test[0][0], cm_test[0][1], cm_test[1][0], cm_test[1][1]) == (10, 5, 0, 27)"
   ]
  },
  {
   "cell_type": "markdown",
   "metadata": {
    "id": "h_g30Ev6iMRp",
    "nbgrader": {
     "grade": false,
     "grade_id": "cell-8a9639c3a7928e08",
     "locked": true,
     "schema_version": 3,
     "solution": false,
     "task": false
    }
   },
   "source": [
    "### Modelos 6 (3 puntos)\n",
    "\n",
    "En el modelo previo, ya hemos encontrado un ajuste razonable. Ahora toca explorar si existe alguna parametrización que ayude a mejorar esta métrica.\n",
    "\n",
    "En esta celda, vamos a separar primero el dataset en train y test. En concreto, separaremos el 20% del dataset en el test-set con el que validaremos la calidad real del modelo. Sin embargo, aquí añadiremos el argumento *stratified* dentro del `train_test_split` para asegurarnos de que hace una correcta partición entre las variables *y*.\n",
    "\n",
    "Tras ello, solo con el _train_, se pide realizar un ajuste de machine learning con las siguientes características:\n",
    "* usar el mismo algoritmo que en el apartado anterior\n",
    "* usar la técnica de validación cruzada KFolds (5 folds)\n",
    "* usar un pipeline que encadene:\n",
    "     * OneHotEncoder si son tipo variables tipo _string_, especificando eliminar la primera columna si es binaria\n",
    "     * algortimo\n",
    "* realizar un tuneado del modelo con GridSearchCV (que almacenaremos en la variable *grid_model*) con los siguientes parámetros del algoritmo:\n",
    "     * _n\\_estimators_, 10, 20 y 30,\n",
    "     * *max_features*, auto, sqrt y log2,\n",
    "     * *max_depth*, 10, 20, 50, 70 y 100\n",
    "     * _criterion_, gini y entropy.\n",
    "    \n",
    "Con el mejor de los modelos tuneados, realizad la predicción de _train_ y _test_ para mostrar ambas matrices de confusión y accuracies como en la celda anterior."
   ]
  },
  {
   "cell_type": "code",
   "execution_count": 24,
   "metadata": {
    "id": "l2nwLeMFiMRp",
    "nbgrader": {
     "grade": false,
     "grade_id": "cell-86a586d1f842910a",
     "locked": false,
     "schema_version": 3,
     "solution": true,
     "task": false
    },
    "outputId": "83267f4a-733e-46b4-d523-4356669d170a"
   },
   "outputs": [
    {
     "name": "stdout",
     "output_type": "stream",
     "text": [
      "[[ 47   2]\n",
      " [  2 117]]\n",
      "0.9761904761904762\n",
      "[[ 9  3]\n",
      " [ 2 28]]\n",
      "0.8809523809523809\n",
      "Best score: 0.9287\n"
     ]
    },
    {
     "data": {
      "text/html": [
       "<style>#sk-container-id-1 {\n",
       "  /* Definition of color scheme common for light and dark mode */\n",
       "  --sklearn-color-text: #000;\n",
       "  --sklearn-color-text-muted: #666;\n",
       "  --sklearn-color-line: gray;\n",
       "  /* Definition of color scheme for unfitted estimators */\n",
       "  --sklearn-color-unfitted-level-0: #fff5e6;\n",
       "  --sklearn-color-unfitted-level-1: #f6e4d2;\n",
       "  --sklearn-color-unfitted-level-2: #ffe0b3;\n",
       "  --sklearn-color-unfitted-level-3: chocolate;\n",
       "  /* Definition of color scheme for fitted estimators */\n",
       "  --sklearn-color-fitted-level-0: #f0f8ff;\n",
       "  --sklearn-color-fitted-level-1: #d4ebff;\n",
       "  --sklearn-color-fitted-level-2: #b3dbfd;\n",
       "  --sklearn-color-fitted-level-3: cornflowerblue;\n",
       "\n",
       "  /* Specific color for light theme */\n",
       "  --sklearn-color-text-on-default-background: var(--sg-text-color, var(--theme-code-foreground, var(--jp-content-font-color1, black)));\n",
       "  --sklearn-color-background: var(--sg-background-color, var(--theme-background, var(--jp-layout-color0, white)));\n",
       "  --sklearn-color-border-box: var(--sg-text-color, var(--theme-code-foreground, var(--jp-content-font-color1, black)));\n",
       "  --sklearn-color-icon: #696969;\n",
       "\n",
       "  @media (prefers-color-scheme: dark) {\n",
       "    /* Redefinition of color scheme for dark theme */\n",
       "    --sklearn-color-text-on-default-background: var(--sg-text-color, var(--theme-code-foreground, var(--jp-content-font-color1, white)));\n",
       "    --sklearn-color-background: var(--sg-background-color, var(--theme-background, var(--jp-layout-color0, #111)));\n",
       "    --sklearn-color-border-box: var(--sg-text-color, var(--theme-code-foreground, var(--jp-content-font-color1, white)));\n",
       "    --sklearn-color-icon: #878787;\n",
       "  }\n",
       "}\n",
       "\n",
       "#sk-container-id-1 {\n",
       "  color: var(--sklearn-color-text);\n",
       "}\n",
       "\n",
       "#sk-container-id-1 pre {\n",
       "  padding: 0;\n",
       "}\n",
       "\n",
       "#sk-container-id-1 input.sk-hidden--visually {\n",
       "  border: 0;\n",
       "  clip: rect(1px 1px 1px 1px);\n",
       "  clip: rect(1px, 1px, 1px, 1px);\n",
       "  height: 1px;\n",
       "  margin: -1px;\n",
       "  overflow: hidden;\n",
       "  padding: 0;\n",
       "  position: absolute;\n",
       "  width: 1px;\n",
       "}\n",
       "\n",
       "#sk-container-id-1 div.sk-dashed-wrapped {\n",
       "  border: 1px dashed var(--sklearn-color-line);\n",
       "  margin: 0 0.4em 0.5em 0.4em;\n",
       "  box-sizing: border-box;\n",
       "  padding-bottom: 0.4em;\n",
       "  background-color: var(--sklearn-color-background);\n",
       "}\n",
       "\n",
       "#sk-container-id-1 div.sk-container {\n",
       "  /* jupyter's `normalize.less` sets `[hidden] { display: none; }`\n",
       "     but bootstrap.min.css set `[hidden] { display: none !important; }`\n",
       "     so we also need the `!important` here to be able to override the\n",
       "     default hidden behavior on the sphinx rendered scikit-learn.org.\n",
       "     See: https://github.com/scikit-learn/scikit-learn/issues/21755 */\n",
       "  display: inline-block !important;\n",
       "  position: relative;\n",
       "}\n",
       "\n",
       "#sk-container-id-1 div.sk-text-repr-fallback {\n",
       "  display: none;\n",
       "}\n",
       "\n",
       "div.sk-parallel-item,\n",
       "div.sk-serial,\n",
       "div.sk-item {\n",
       "  /* draw centered vertical line to link estimators */\n",
       "  background-image: linear-gradient(var(--sklearn-color-text-on-default-background), var(--sklearn-color-text-on-default-background));\n",
       "  background-size: 2px 100%;\n",
       "  background-repeat: no-repeat;\n",
       "  background-position: center center;\n",
       "}\n",
       "\n",
       "/* Parallel-specific style estimator block */\n",
       "\n",
       "#sk-container-id-1 div.sk-parallel-item::after {\n",
       "  content: \"\";\n",
       "  width: 100%;\n",
       "  border-bottom: 2px solid var(--sklearn-color-text-on-default-background);\n",
       "  flex-grow: 1;\n",
       "}\n",
       "\n",
       "#sk-container-id-1 div.sk-parallel {\n",
       "  display: flex;\n",
       "  align-items: stretch;\n",
       "  justify-content: center;\n",
       "  background-color: var(--sklearn-color-background);\n",
       "  position: relative;\n",
       "}\n",
       "\n",
       "#sk-container-id-1 div.sk-parallel-item {\n",
       "  display: flex;\n",
       "  flex-direction: column;\n",
       "}\n",
       "\n",
       "#sk-container-id-1 div.sk-parallel-item:first-child::after {\n",
       "  align-self: flex-end;\n",
       "  width: 50%;\n",
       "}\n",
       "\n",
       "#sk-container-id-1 div.sk-parallel-item:last-child::after {\n",
       "  align-self: flex-start;\n",
       "  width: 50%;\n",
       "}\n",
       "\n",
       "#sk-container-id-1 div.sk-parallel-item:only-child::after {\n",
       "  width: 0;\n",
       "}\n",
       "\n",
       "/* Serial-specific style estimator block */\n",
       "\n",
       "#sk-container-id-1 div.sk-serial {\n",
       "  display: flex;\n",
       "  flex-direction: column;\n",
       "  align-items: center;\n",
       "  background-color: var(--sklearn-color-background);\n",
       "  padding-right: 1em;\n",
       "  padding-left: 1em;\n",
       "}\n",
       "\n",
       "\n",
       "/* Toggleable style: style used for estimator/Pipeline/ColumnTransformer box that is\n",
       "clickable and can be expanded/collapsed.\n",
       "- Pipeline and ColumnTransformer use this feature and define the default style\n",
       "- Estimators will overwrite some part of the style using the `sk-estimator` class\n",
       "*/\n",
       "\n",
       "/* Pipeline and ColumnTransformer style (default) */\n",
       "\n",
       "#sk-container-id-1 div.sk-toggleable {\n",
       "  /* Default theme specific background. It is overwritten whether we have a\n",
       "  specific estimator or a Pipeline/ColumnTransformer */\n",
       "  background-color: var(--sklearn-color-background);\n",
       "}\n",
       "\n",
       "/* Toggleable label */\n",
       "#sk-container-id-1 label.sk-toggleable__label {\n",
       "  cursor: pointer;\n",
       "  display: flex;\n",
       "  width: 100%;\n",
       "  margin-bottom: 0;\n",
       "  padding: 0.5em;\n",
       "  box-sizing: border-box;\n",
       "  text-align: center;\n",
       "  align-items: start;\n",
       "  justify-content: space-between;\n",
       "  gap: 0.5em;\n",
       "}\n",
       "\n",
       "#sk-container-id-1 label.sk-toggleable__label .caption {\n",
       "  font-size: 0.6rem;\n",
       "  font-weight: lighter;\n",
       "  color: var(--sklearn-color-text-muted);\n",
       "}\n",
       "\n",
       "#sk-container-id-1 label.sk-toggleable__label-arrow:before {\n",
       "  /* Arrow on the left of the label */\n",
       "  content: \"▸\";\n",
       "  float: left;\n",
       "  margin-right: 0.25em;\n",
       "  color: var(--sklearn-color-icon);\n",
       "}\n",
       "\n",
       "#sk-container-id-1 label.sk-toggleable__label-arrow:hover:before {\n",
       "  color: var(--sklearn-color-text);\n",
       "}\n",
       "\n",
       "/* Toggleable content - dropdown */\n",
       "\n",
       "#sk-container-id-1 div.sk-toggleable__content {\n",
       "  max-height: 0;\n",
       "  max-width: 0;\n",
       "  overflow: hidden;\n",
       "  text-align: left;\n",
       "  /* unfitted */\n",
       "  background-color: var(--sklearn-color-unfitted-level-0);\n",
       "}\n",
       "\n",
       "#sk-container-id-1 div.sk-toggleable__content.fitted {\n",
       "  /* fitted */\n",
       "  background-color: var(--sklearn-color-fitted-level-0);\n",
       "}\n",
       "\n",
       "#sk-container-id-1 div.sk-toggleable__content pre {\n",
       "  margin: 0.2em;\n",
       "  border-radius: 0.25em;\n",
       "  color: var(--sklearn-color-text);\n",
       "  /* unfitted */\n",
       "  background-color: var(--sklearn-color-unfitted-level-0);\n",
       "}\n",
       "\n",
       "#sk-container-id-1 div.sk-toggleable__content.fitted pre {\n",
       "  /* unfitted */\n",
       "  background-color: var(--sklearn-color-fitted-level-0);\n",
       "}\n",
       "\n",
       "#sk-container-id-1 input.sk-toggleable__control:checked~div.sk-toggleable__content {\n",
       "  /* Expand drop-down */\n",
       "  max-height: 200px;\n",
       "  max-width: 100%;\n",
       "  overflow: auto;\n",
       "}\n",
       "\n",
       "#sk-container-id-1 input.sk-toggleable__control:checked~label.sk-toggleable__label-arrow:before {\n",
       "  content: \"▾\";\n",
       "}\n",
       "\n",
       "/* Pipeline/ColumnTransformer-specific style */\n",
       "\n",
       "#sk-container-id-1 div.sk-label input.sk-toggleable__control:checked~label.sk-toggleable__label {\n",
       "  color: var(--sklearn-color-text);\n",
       "  background-color: var(--sklearn-color-unfitted-level-2);\n",
       "}\n",
       "\n",
       "#sk-container-id-1 div.sk-label.fitted input.sk-toggleable__control:checked~label.sk-toggleable__label {\n",
       "  background-color: var(--sklearn-color-fitted-level-2);\n",
       "}\n",
       "\n",
       "/* Estimator-specific style */\n",
       "\n",
       "/* Colorize estimator box */\n",
       "#sk-container-id-1 div.sk-estimator input.sk-toggleable__control:checked~label.sk-toggleable__label {\n",
       "  /* unfitted */\n",
       "  background-color: var(--sklearn-color-unfitted-level-2);\n",
       "}\n",
       "\n",
       "#sk-container-id-1 div.sk-estimator.fitted input.sk-toggleable__control:checked~label.sk-toggleable__label {\n",
       "  /* fitted */\n",
       "  background-color: var(--sklearn-color-fitted-level-2);\n",
       "}\n",
       "\n",
       "#sk-container-id-1 div.sk-label label.sk-toggleable__label,\n",
       "#sk-container-id-1 div.sk-label label {\n",
       "  /* The background is the default theme color */\n",
       "  color: var(--sklearn-color-text-on-default-background);\n",
       "}\n",
       "\n",
       "/* On hover, darken the color of the background */\n",
       "#sk-container-id-1 div.sk-label:hover label.sk-toggleable__label {\n",
       "  color: var(--sklearn-color-text);\n",
       "  background-color: var(--sklearn-color-unfitted-level-2);\n",
       "}\n",
       "\n",
       "/* Label box, darken color on hover, fitted */\n",
       "#sk-container-id-1 div.sk-label.fitted:hover label.sk-toggleable__label.fitted {\n",
       "  color: var(--sklearn-color-text);\n",
       "  background-color: var(--sklearn-color-fitted-level-2);\n",
       "}\n",
       "\n",
       "/* Estimator label */\n",
       "\n",
       "#sk-container-id-1 div.sk-label label {\n",
       "  font-family: monospace;\n",
       "  font-weight: bold;\n",
       "  display: inline-block;\n",
       "  line-height: 1.2em;\n",
       "}\n",
       "\n",
       "#sk-container-id-1 div.sk-label-container {\n",
       "  text-align: center;\n",
       "}\n",
       "\n",
       "/* Estimator-specific */\n",
       "#sk-container-id-1 div.sk-estimator {\n",
       "  font-family: monospace;\n",
       "  border: 1px dotted var(--sklearn-color-border-box);\n",
       "  border-radius: 0.25em;\n",
       "  box-sizing: border-box;\n",
       "  margin-bottom: 0.5em;\n",
       "  /* unfitted */\n",
       "  background-color: var(--sklearn-color-unfitted-level-0);\n",
       "}\n",
       "\n",
       "#sk-container-id-1 div.sk-estimator.fitted {\n",
       "  /* fitted */\n",
       "  background-color: var(--sklearn-color-fitted-level-0);\n",
       "}\n",
       "\n",
       "/* on hover */\n",
       "#sk-container-id-1 div.sk-estimator:hover {\n",
       "  /* unfitted */\n",
       "  background-color: var(--sklearn-color-unfitted-level-2);\n",
       "}\n",
       "\n",
       "#sk-container-id-1 div.sk-estimator.fitted:hover {\n",
       "  /* fitted */\n",
       "  background-color: var(--sklearn-color-fitted-level-2);\n",
       "}\n",
       "\n",
       "/* Specification for estimator info (e.g. \"i\" and \"?\") */\n",
       "\n",
       "/* Common style for \"i\" and \"?\" */\n",
       "\n",
       ".sk-estimator-doc-link,\n",
       "a:link.sk-estimator-doc-link,\n",
       "a:visited.sk-estimator-doc-link {\n",
       "  float: right;\n",
       "  font-size: smaller;\n",
       "  line-height: 1em;\n",
       "  font-family: monospace;\n",
       "  background-color: var(--sklearn-color-background);\n",
       "  border-radius: 1em;\n",
       "  height: 1em;\n",
       "  width: 1em;\n",
       "  text-decoration: none !important;\n",
       "  margin-left: 0.5em;\n",
       "  text-align: center;\n",
       "  /* unfitted */\n",
       "  border: var(--sklearn-color-unfitted-level-1) 1pt solid;\n",
       "  color: var(--sklearn-color-unfitted-level-1);\n",
       "}\n",
       "\n",
       ".sk-estimator-doc-link.fitted,\n",
       "a:link.sk-estimator-doc-link.fitted,\n",
       "a:visited.sk-estimator-doc-link.fitted {\n",
       "  /* fitted */\n",
       "  border: var(--sklearn-color-fitted-level-1) 1pt solid;\n",
       "  color: var(--sklearn-color-fitted-level-1);\n",
       "}\n",
       "\n",
       "/* On hover */\n",
       "div.sk-estimator:hover .sk-estimator-doc-link:hover,\n",
       ".sk-estimator-doc-link:hover,\n",
       "div.sk-label-container:hover .sk-estimator-doc-link:hover,\n",
       ".sk-estimator-doc-link:hover {\n",
       "  /* unfitted */\n",
       "  background-color: var(--sklearn-color-unfitted-level-3);\n",
       "  color: var(--sklearn-color-background);\n",
       "  text-decoration: none;\n",
       "}\n",
       "\n",
       "div.sk-estimator.fitted:hover .sk-estimator-doc-link.fitted:hover,\n",
       ".sk-estimator-doc-link.fitted:hover,\n",
       "div.sk-label-container:hover .sk-estimator-doc-link.fitted:hover,\n",
       ".sk-estimator-doc-link.fitted:hover {\n",
       "  /* fitted */\n",
       "  background-color: var(--sklearn-color-fitted-level-3);\n",
       "  color: var(--sklearn-color-background);\n",
       "  text-decoration: none;\n",
       "}\n",
       "\n",
       "/* Span, style for the box shown on hovering the info icon */\n",
       ".sk-estimator-doc-link span {\n",
       "  display: none;\n",
       "  z-index: 9999;\n",
       "  position: relative;\n",
       "  font-weight: normal;\n",
       "  right: .2ex;\n",
       "  padding: .5ex;\n",
       "  margin: .5ex;\n",
       "  width: min-content;\n",
       "  min-width: 20ex;\n",
       "  max-width: 50ex;\n",
       "  color: var(--sklearn-color-text);\n",
       "  box-shadow: 2pt 2pt 4pt #999;\n",
       "  /* unfitted */\n",
       "  background: var(--sklearn-color-unfitted-level-0);\n",
       "  border: .5pt solid var(--sklearn-color-unfitted-level-3);\n",
       "}\n",
       "\n",
       ".sk-estimator-doc-link.fitted span {\n",
       "  /* fitted */\n",
       "  background: var(--sklearn-color-fitted-level-0);\n",
       "  border: var(--sklearn-color-fitted-level-3);\n",
       "}\n",
       "\n",
       ".sk-estimator-doc-link:hover span {\n",
       "  display: block;\n",
       "}\n",
       "\n",
       "/* \"?\"-specific style due to the `<a>` HTML tag */\n",
       "\n",
       "#sk-container-id-1 a.estimator_doc_link {\n",
       "  float: right;\n",
       "  font-size: 1rem;\n",
       "  line-height: 1em;\n",
       "  font-family: monospace;\n",
       "  background-color: var(--sklearn-color-background);\n",
       "  border-radius: 1rem;\n",
       "  height: 1rem;\n",
       "  width: 1rem;\n",
       "  text-decoration: none;\n",
       "  /* unfitted */\n",
       "  color: var(--sklearn-color-unfitted-level-1);\n",
       "  border: var(--sklearn-color-unfitted-level-1) 1pt solid;\n",
       "}\n",
       "\n",
       "#sk-container-id-1 a.estimator_doc_link.fitted {\n",
       "  /* fitted */\n",
       "  border: var(--sklearn-color-fitted-level-1) 1pt solid;\n",
       "  color: var(--sklearn-color-fitted-level-1);\n",
       "}\n",
       "\n",
       "/* On hover */\n",
       "#sk-container-id-1 a.estimator_doc_link:hover {\n",
       "  /* unfitted */\n",
       "  background-color: var(--sklearn-color-unfitted-level-3);\n",
       "  color: var(--sklearn-color-background);\n",
       "  text-decoration: none;\n",
       "}\n",
       "\n",
       "#sk-container-id-1 a.estimator_doc_link.fitted:hover {\n",
       "  /* fitted */\n",
       "  background-color: var(--sklearn-color-fitted-level-3);\n",
       "}\n",
       "</style><div id=\"sk-container-id-1\" class=\"sk-top-container\"><div class=\"sk-text-repr-fallback\"><pre>Pipeline(steps=[(&#x27;preprocessor&#x27;,\n",
       "                 ColumnTransformer(remainder=&#x27;passthrough&#x27;,\n",
       "                                   transformers=[(&#x27;cat&#x27;,\n",
       "                                                  OneHotEncoder(drop=&#x27;if_binary&#x27;),\n",
       "                                                  [&#x27;protocol_type&#x27;, &#x27;service&#x27;,\n",
       "                                                   &#x27;flag&#x27;])])),\n",
       "                (&#x27;classifier&#x27;,\n",
       "                 RandomForestClassifier(max_depth=10, n_estimators=20,\n",
       "                                        random_state=63))])</pre><b>In a Jupyter environment, please rerun this cell to show the HTML representation or trust the notebook. <br />On GitHub, the HTML representation is unable to render, please try loading this page with nbviewer.org.</b></div><div class=\"sk-container\" hidden><div class=\"sk-item sk-dashed-wrapped\"><div class=\"sk-label-container\"><div class=\"sk-label fitted sk-toggleable\"><input class=\"sk-toggleable__control sk-hidden--visually\" id=\"sk-estimator-id-1\" type=\"checkbox\" ><label for=\"sk-estimator-id-1\" class=\"sk-toggleable__label fitted sk-toggleable__label-arrow\"><div><div>Pipeline</div></div><div><a class=\"sk-estimator-doc-link fitted\" rel=\"noreferrer\" target=\"_blank\" href=\"https://scikit-learn.org/1.6/modules/generated/sklearn.pipeline.Pipeline.html\">?<span>Documentation for Pipeline</span></a><span class=\"sk-estimator-doc-link fitted\">i<span>Fitted</span></span></div></label><div class=\"sk-toggleable__content fitted\"><pre>Pipeline(steps=[(&#x27;preprocessor&#x27;,\n",
       "                 ColumnTransformer(remainder=&#x27;passthrough&#x27;,\n",
       "                                   transformers=[(&#x27;cat&#x27;,\n",
       "                                                  OneHotEncoder(drop=&#x27;if_binary&#x27;),\n",
       "                                                  [&#x27;protocol_type&#x27;, &#x27;service&#x27;,\n",
       "                                                   &#x27;flag&#x27;])])),\n",
       "                (&#x27;classifier&#x27;,\n",
       "                 RandomForestClassifier(max_depth=10, n_estimators=20,\n",
       "                                        random_state=63))])</pre></div> </div></div><div class=\"sk-serial\"><div class=\"sk-item sk-dashed-wrapped\"><div class=\"sk-label-container\"><div class=\"sk-label fitted sk-toggleable\"><input class=\"sk-toggleable__control sk-hidden--visually\" id=\"sk-estimator-id-2\" type=\"checkbox\" ><label for=\"sk-estimator-id-2\" class=\"sk-toggleable__label fitted sk-toggleable__label-arrow\"><div><div>preprocessor: ColumnTransformer</div></div><div><a class=\"sk-estimator-doc-link fitted\" rel=\"noreferrer\" target=\"_blank\" href=\"https://scikit-learn.org/1.6/modules/generated/sklearn.compose.ColumnTransformer.html\">?<span>Documentation for preprocessor: ColumnTransformer</span></a></div></label><div class=\"sk-toggleable__content fitted\"><pre>ColumnTransformer(remainder=&#x27;passthrough&#x27;,\n",
       "                  transformers=[(&#x27;cat&#x27;, OneHotEncoder(drop=&#x27;if_binary&#x27;),\n",
       "                                 [&#x27;protocol_type&#x27;, &#x27;service&#x27;, &#x27;flag&#x27;])])</pre></div> </div></div><div class=\"sk-parallel\"><div class=\"sk-parallel-item\"><div class=\"sk-item\"><div class=\"sk-label-container\"><div class=\"sk-label fitted sk-toggleable\"><input class=\"sk-toggleable__control sk-hidden--visually\" id=\"sk-estimator-id-3\" type=\"checkbox\" ><label for=\"sk-estimator-id-3\" class=\"sk-toggleable__label fitted sk-toggleable__label-arrow\"><div><div>cat</div></div></label><div class=\"sk-toggleable__content fitted\"><pre>[&#x27;protocol_type&#x27;, &#x27;service&#x27;, &#x27;flag&#x27;]</pre></div> </div></div><div class=\"sk-serial\"><div class=\"sk-item\"><div class=\"sk-estimator fitted sk-toggleable\"><input class=\"sk-toggleable__control sk-hidden--visually\" id=\"sk-estimator-id-4\" type=\"checkbox\" ><label for=\"sk-estimator-id-4\" class=\"sk-toggleable__label fitted sk-toggleable__label-arrow\"><div><div>OneHotEncoder</div></div><div><a class=\"sk-estimator-doc-link fitted\" rel=\"noreferrer\" target=\"_blank\" href=\"https://scikit-learn.org/1.6/modules/generated/sklearn.preprocessing.OneHotEncoder.html\">?<span>Documentation for OneHotEncoder</span></a></div></label><div class=\"sk-toggleable__content fitted\"><pre>OneHotEncoder(drop=&#x27;if_binary&#x27;)</pre></div> </div></div></div></div></div><div class=\"sk-parallel-item\"><div class=\"sk-item\"><div class=\"sk-label-container\"><div class=\"sk-label fitted sk-toggleable\"><input class=\"sk-toggleable__control sk-hidden--visually\" id=\"sk-estimator-id-5\" type=\"checkbox\" ><label for=\"sk-estimator-id-5\" class=\"sk-toggleable__label fitted sk-toggleable__label-arrow\"><div><div>remainder</div></div></label><div class=\"sk-toggleable__content fitted\"><pre>[&#x27;duration&#x27;, &#x27;count&#x27;, &#x27;srv_count&#x27;, &#x27;serror_rate&#x27;, &#x27;dst_host_srv_count&#x27;, &#x27;dst_host_srv_serror_rate&#x27;]</pre></div> </div></div><div class=\"sk-serial\"><div class=\"sk-item\"><div class=\"sk-estimator fitted sk-toggleable\"><input class=\"sk-toggleable__control sk-hidden--visually\" id=\"sk-estimator-id-6\" type=\"checkbox\" ><label for=\"sk-estimator-id-6\" class=\"sk-toggleable__label fitted sk-toggleable__label-arrow\"><div><div>passthrough</div></div></label><div class=\"sk-toggleable__content fitted\"><pre>passthrough</pre></div> </div></div></div></div></div></div></div><div class=\"sk-item\"><div class=\"sk-estimator fitted sk-toggleable\"><input class=\"sk-toggleable__control sk-hidden--visually\" id=\"sk-estimator-id-7\" type=\"checkbox\" ><label for=\"sk-estimator-id-7\" class=\"sk-toggleable__label fitted sk-toggleable__label-arrow\"><div><div>RandomForestClassifier</div></div><div><a class=\"sk-estimator-doc-link fitted\" rel=\"noreferrer\" target=\"_blank\" href=\"https://scikit-learn.org/1.6/modules/generated/sklearn.ensemble.RandomForestClassifier.html\">?<span>Documentation for RandomForestClassifier</span></a></div></label><div class=\"sk-toggleable__content fitted\"><pre>RandomForestClassifier(max_depth=10, n_estimators=20, random_state=63)</pre></div> </div></div></div></div></div></div>"
      ],
      "text/plain": [
       "Pipeline(steps=[('preprocessor',\n",
       "                 ColumnTransformer(remainder='passthrough',\n",
       "                                   transformers=[('cat',\n",
       "                                                  OneHotEncoder(drop='if_binary'),\n",
       "                                                  ['protocol_type', 'service',\n",
       "                                                   'flag'])])),\n",
       "                ('classifier',\n",
       "                 RandomForestClassifier(max_depth=10, n_estimators=20,\n",
       "                                        random_state=63))])"
      ]
     },
     "execution_count": 24,
     "metadata": {},
     "output_type": "execute_result"
    }
   ],
   "source": [
    "acc_train = 0\n",
    "acc_test = 0\n",
    "\n",
    "cm_train = np.array([[0, 0],[0, 0]])\n",
    "cm_test = np.array([[0, 0],[0, 0]])\n",
    "\n",
    "### Codigo del estudiante\n",
    "# Definir el pipeline\n",
    "pipeline = Pipeline(steps=[\n",
    "    ('preprocessor', ColumnTransformer(transformers=[\n",
    "        ('cat', OneHotEncoder(drop='if_binary'), cat_cols)\n",
    "    ], remainder='passthrough')),\n",
    "    ('classifier', RandomForestClassifier(random_state=seed))\n",
    "])\n",
    "\n",
    "# Definir el grid de parámetros\n",
    "param_grid = {\n",
    "    'classifier__n_estimators': [10, 20, 30],\n",
    "    'classifier__max_features': ['auto', 'sqrt', 'log2'],\n",
    "    'classifier__max_depth': [10, 20, 50, 70, 100],\n",
    "    'classifier__criterion': ['gini', 'entropy']\n",
    "}\n",
    "\n",
    "# Validación cruzada\n",
    "kf = KFold(n_splits=5, shuffle=True, random_state=seed)\n",
    "\n",
    "# GridSearchCV\n",
    "grid_model = GridSearchCV(\n",
    "    estimator=pipeline,\n",
    "    param_grid=param_grid,\n",
    "    cv=kf,\n",
    "    n_jobs=-1\n",
    ")\n",
    "\n",
    "# Ajustar solo con train\n",
    "grid_model.fit(X_train, y_train)\n",
    "\n",
    "# Predicciones\n",
    "y_pred_train = grid_model.predict(X_train)\n",
    "y_pred_test = grid_model.predict(X_test)\n",
    "\n",
    "# Métricas\n",
    "acc_train = accuracy_score(y_train, y_pred_train)\n",
    "acc_test = accuracy_score(y_test, y_pred_test)\n",
    "\n",
    "cm_train = confusion_matrix(y_train, y_pred_train)\n",
    "cm_test = confusion_matrix(y_test, y_pred_test)\n",
    "\n",
    "print(cm_train)\n",
    "print(acc_train)\n",
    "\n",
    "print(cm_test)\n",
    "print(acc_test)\n",
    "\n",
    "print(f'Best score: {grid_model.best_score_:.4f}')\n",
    "grid_model.best_estimator_"
   ]
  },
  {
   "cell_type": "markdown",
   "metadata": {
    "id": "G-NFvadxiMRq",
    "nbgrader": {
     "grade": false,
     "grade_id": "cell-44b0aa5277268091",
     "locked": true,
     "schema_version": 3,
     "solution": false,
     "task": false
    }
   },
   "source": [
    "Celda de control:"
   ]
  },
  {
   "cell_type": "code",
   "execution_count": 25,
   "metadata": {
    "id": "I7K80wliiMRq",
    "nbgrader": {
     "grade": true,
     "grade_id": "cell-c1df28aa144f6323",
     "locked": true,
     "points": 3,
     "schema_version": 3,
     "solution": false,
     "task": false
    }
   },
   "outputs": [],
   "source": [
    "assert grid_model.cv.random_state == seed\n",
    "assert np.round(acc_train, 4) == 0.9762\n",
    "assert np.round(acc_test, 4) == 0.8810\n",
    "assert (cm_train[0][0], cm_train[0][1], cm_train[1][0], cm_train[1][1]) == (47, 2, 2, 117)\n",
    "assert (cm_test[0][0], cm_test[0][1], cm_test[1][0], cm_test[1][1]) == (9, 3, 2, 28)\n",
    "assert len(grid_model.param_grid) == 4\n",
    "assert len(grid_model.estimator.named_steps) == 2"
   ]
  },
  {
   "cell_type": "code",
   "execution_count": null,
   "metadata": {
    "id": "qw-EfKF4iMRr"
   },
   "outputs": [],
   "source": []
  }
 ],
 "metadata": {
  "celltoolbar": "Create Assignment",
  "colab": {
   "provenance": []
  },
  "kernelspec": {
   "display_name": "venvml",
   "language": "python",
   "name": "python3"
  },
  "language_info": {
   "codemirror_mode": {
    "name": "ipython",
    "version": 3
   },
   "file_extension": ".py",
   "mimetype": "text/x-python",
   "name": "python",
   "nbconvert_exporter": "python",
   "pygments_lexer": "ipython3",
   "version": "3.12.4"
  }
 },
 "nbformat": 4,
 "nbformat_minor": 1
}
